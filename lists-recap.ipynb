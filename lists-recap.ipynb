{
 "cells": [
  {
   "cell_type": "markdown",
   "id": "308357b3",
   "metadata": {
    "papermill": {
     "duration": 0.006016,
     "end_time": "2023-01-12T06:22:45.169244",
     "exception": false,
     "start_time": "2023-01-12T06:22:45.163228",
     "status": "completed"
    },
    "tags": []
   },
   "source": [
    "**This notebook is an exercise in the [Python](https://www.kaggle.com/learn/python) course.  You can reference the tutorial at [this link](https://www.kaggle.com/colinmorris/lists).**\n",
    "\n",
    "---\n"
   ]
  },
  {
   "cell_type": "markdown",
   "id": "eac5ded5",
   "metadata": {
    "papermill": {
     "duration": 0.004483,
     "end_time": "2023-01-12T06:22:45.179116",
     "exception": false,
     "start_time": "2023-01-12T06:22:45.174633",
     "status": "completed"
    },
    "tags": []
   },
   "source": [
    "Things get more interesting with lists. You'll apply your new knowledge to solve the questions below. Remember to run the following cell first."
   ]
  },
  {
   "cell_type": "code",
   "execution_count": 1,
   "id": "170b94eb",
   "metadata": {
    "execution": {
     "iopub.execute_input": "2023-01-12T06:22:45.190143Z",
     "iopub.status.busy": "2023-01-12T06:22:45.189725Z",
     "iopub.status.idle": "2023-01-12T06:22:45.233621Z",
     "shell.execute_reply": "2023-01-12T06:22:45.232019Z"
    },
    "papermill": {
     "duration": 0.052267,
     "end_time": "2023-01-12T06:22:45.236070",
     "exception": false,
     "start_time": "2023-01-12T06:22:45.183803",
     "status": "completed"
    },
    "tags": []
   },
   "outputs": [
    {
     "name": "stdout",
     "output_type": "stream",
     "text": [
      "Setup complete.\n"
     ]
    }
   ],
   "source": [
    "from learntools.core import binder; binder.bind(globals())\n",
    "from learntools.python.ex4 import *\n",
    "print('Setup complete.')"
   ]
  },
  {
   "cell_type": "markdown",
   "id": "7ab62069",
   "metadata": {
    "papermill": {
     "duration": 0.005321,
     "end_time": "2023-01-12T06:22:45.246843",
     "exception": false,
     "start_time": "2023-01-12T06:22:45.241522",
     "status": "completed"
    },
    "tags": []
   },
   "source": [
    "# 1.\n",
    "\n",
    "Complete the function below according to its docstring."
   ]
  },
  {
   "cell_type": "code",
   "execution_count": 2,
   "id": "5412d9f3",
   "metadata": {
    "execution": {
     "iopub.execute_input": "2023-01-12T06:22:45.258476Z",
     "iopub.status.busy": "2023-01-12T06:22:45.257706Z",
     "iopub.status.idle": "2023-01-12T06:22:45.268719Z",
     "shell.execute_reply": "2023-01-12T06:22:45.267776Z"
    },
    "papermill": {
     "duration": 0.018988,
     "end_time": "2023-01-12T06:22:45.270632",
     "exception": false,
     "start_time": "2023-01-12T06:22:45.251644",
     "status": "completed"
    },
    "tags": []
   },
   "outputs": [
    {
     "data": {
      "application/javascript": [
       "parent.postMessage({\"jupyterEvent\": \"custom.exercise_interaction\", \"data\": {\"outcomeType\": 1, \"valueTowardsCompletion\": 0.2, \"interactionType\": 1, \"questionType\": 2, \"questionId\": \"1_SelectSecondItem\", \"learnToolsVersion\": \"0.3.4\", \"failureMessage\": \"\", \"exceptionClass\": \"\", \"trace\": \"\"}}, \"*\")"
      ],
      "text/plain": [
       "<IPython.core.display.Javascript object>"
      ]
     },
     "metadata": {},
     "output_type": "display_data"
    },
    {
     "data": {
      "text/markdown": [
       "<span style=\"color:#33cc33\">Correct</span>"
      ],
      "text/plain": [
       "Correct"
      ]
     },
     "metadata": {},
     "output_type": "display_data"
    }
   ],
   "source": [
    "def select_second(L):\n",
    "    \"\"\"Return the second element of the given list. If the list has no second\n",
    "    element, return None.\n",
    "    \"\"\"\n",
    "    if len(L)> 2:\n",
    "        return L[1]\n",
    "    else: \n",
    "        return None\n",
    "    pass\n",
    "\n",
    "# Check your answer\n",
    "q1.check()"
   ]
  },
  {
   "cell_type": "code",
   "execution_count": 3,
   "id": "9e3e946a",
   "metadata": {
    "execution": {
     "iopub.execute_input": "2023-01-12T06:22:45.282427Z",
     "iopub.status.busy": "2023-01-12T06:22:45.281454Z",
     "iopub.status.idle": "2023-01-12T06:22:45.286052Z",
     "shell.execute_reply": "2023-01-12T06:22:45.285050Z"
    },
    "papermill": {
     "duration": 0.012517,
     "end_time": "2023-01-12T06:22:45.288127",
     "exception": false,
     "start_time": "2023-01-12T06:22:45.275610",
     "status": "completed"
    },
    "tags": []
   },
   "outputs": [],
   "source": [
    "#q1.hint()\n",
    "#q1.solution()"
   ]
  },
  {
   "cell_type": "markdown",
   "id": "afaf3718",
   "metadata": {
    "papermill": {
     "duration": 0.004827,
     "end_time": "2023-01-12T06:22:45.297965",
     "exception": false,
     "start_time": "2023-01-12T06:22:45.293138",
     "status": "completed"
    },
    "tags": []
   },
   "source": [
    "# 2.\n",
    "\n",
    "You are analyzing sports teams.  Members of each team are stored in a list. The Coach is the first name in the list, the captain is the second name in the list, and other players are listed after that. \n",
    "These lists are stored in another list, which starts with the best team and proceeds through the list to the worst team last.  Complete the function below to select the **captain** of the worst team."
   ]
  },
  {
   "cell_type": "code",
   "execution_count": 4,
   "id": "0f9c7a08",
   "metadata": {
    "execution": {
     "iopub.execute_input": "2023-01-12T06:22:45.309392Z",
     "iopub.status.busy": "2023-01-12T06:22:45.308959Z",
     "iopub.status.idle": "2023-01-12T06:22:45.317863Z",
     "shell.execute_reply": "2023-01-12T06:22:45.316850Z"
    },
    "papermill": {
     "duration": 0.017089,
     "end_time": "2023-01-12T06:22:45.319958",
     "exception": false,
     "start_time": "2023-01-12T06:22:45.302869",
     "status": "completed"
    },
    "tags": []
   },
   "outputs": [
    {
     "data": {
      "application/javascript": [
       "parent.postMessage({\"jupyterEvent\": \"custom.exercise_interaction\", \"data\": {\"outcomeType\": 1, \"valueTowardsCompletion\": 0.2, \"interactionType\": 1, \"questionType\": 2, \"questionId\": \"2_LosingTeamCaptain\", \"learnToolsVersion\": \"0.3.4\", \"failureMessage\": \"\", \"exceptionClass\": \"\", \"trace\": \"\"}}, \"*\")"
      ],
      "text/plain": [
       "<IPython.core.display.Javascript object>"
      ]
     },
     "metadata": {},
     "output_type": "display_data"
    },
    {
     "data": {
      "text/markdown": [
       "<span style=\"color:#33cc33\">Correct</span>"
      ],
      "text/plain": [
       "Correct"
      ]
     },
     "metadata": {},
     "output_type": "display_data"
    }
   ],
   "source": [
    "def losing_team_captain(teams):\n",
    "    \"\"\"Given a list of teams, where each team is a list of names, return the 2nd player (captain)\n",
    "    from the last listed team\n",
    "    \"\"\"\n",
    "    return teams[-1][1]\n",
    "    pass\n",
    "\n",
    "# Check your answer\n",
    "q2.check()"
   ]
  },
  {
   "cell_type": "code",
   "execution_count": 5,
   "id": "6748040c",
   "metadata": {
    "collapsed": true,
    "execution": {
     "iopub.execute_input": "2023-01-12T06:22:45.332112Z",
     "iopub.status.busy": "2023-01-12T06:22:45.331712Z",
     "iopub.status.idle": "2023-01-12T06:22:45.336902Z",
     "shell.execute_reply": "2023-01-12T06:22:45.335781Z"
    },
    "jupyter": {
     "outputs_hidden": true
    },
    "papermill": {
     "duration": 0.0139,
     "end_time": "2023-01-12T06:22:45.339213",
     "exception": false,
     "start_time": "2023-01-12T06:22:45.325313",
     "status": "completed"
    },
    "tags": []
   },
   "outputs": [],
   "source": [
    "#q2.hint()\n",
    "#q2.solution()"
   ]
  },
  {
   "cell_type": "markdown",
   "id": "9511dd7c",
   "metadata": {
    "papermill": {
     "duration": 0.006731,
     "end_time": "2023-01-12T06:22:45.351491",
     "exception": false,
     "start_time": "2023-01-12T06:22:45.344760",
     "status": "completed"
    },
    "tags": []
   },
   "source": [
    "# 3.\n",
    "\n",
    "The next iteration of Mario Kart will feature an extra-infuriating new item, the *Purple Shell*. When used, it warps the last place racer into first place and the first place racer into last place. Complete the function below to implement the Purple Shell's effect."
   ]
  },
  {
   "cell_type": "code",
   "execution_count": 6,
   "id": "6b31d5a2",
   "metadata": {
    "execution": {
     "iopub.execute_input": "2023-01-12T06:22:45.363844Z",
     "iopub.status.busy": "2023-01-12T06:22:45.363425Z",
     "iopub.status.idle": "2023-01-12T06:22:45.373100Z",
     "shell.execute_reply": "2023-01-12T06:22:45.372016Z"
    },
    "papermill": {
     "duration": 0.018669,
     "end_time": "2023-01-12T06:22:45.375476",
     "exception": false,
     "start_time": "2023-01-12T06:22:45.356807",
     "status": "completed"
    },
    "tags": []
   },
   "outputs": [
    {
     "data": {
      "application/javascript": [
       "parent.postMessage({\"jupyterEvent\": \"custom.exercise_interaction\", \"data\": {\"outcomeType\": 1, \"valueTowardsCompletion\": 0.2, \"interactionType\": 1, \"questionType\": 2, \"questionId\": \"3_PurpleShell\", \"learnToolsVersion\": \"0.3.4\", \"failureMessage\": \"\", \"exceptionClass\": \"\", \"trace\": \"\"}}, \"*\")"
      ],
      "text/plain": [
       "<IPython.core.display.Javascript object>"
      ]
     },
     "metadata": {},
     "output_type": "display_data"
    },
    {
     "data": {
      "text/markdown": [
       "<span style=\"color:#33cc33\">Correct</span>"
      ],
      "text/plain": [
       "Correct"
      ]
     },
     "metadata": {},
     "output_type": "display_data"
    }
   ],
   "source": [
    "def purple_shell(racers):\n",
    "    \"\"\"Given a list of racers, set the first place racer (at the front of the list) to last\n",
    "    place and vice versa.\n",
    "    \n",
    "    >>> r = [\"Mario\", \"Bowser\", \"Luigi\"]\n",
    "    >>> purple_shell(r)\n",
    "    >>> r\n",
    "    [\"Luigi\", \"Bowser\", \"Mario\"]\n",
    "    \"\"\"\n",
    "    racers[0], racers[-1] = racers[-1], racers[0]\n",
    "    \n",
    "    pass\n",
    "\n",
    "# Check your answer\n",
    "q3.check()"
   ]
  },
  {
   "cell_type": "code",
   "execution_count": 7,
   "id": "ec14597e",
   "metadata": {
    "execution": {
     "iopub.execute_input": "2023-01-12T06:22:45.389331Z",
     "iopub.status.busy": "2023-01-12T06:22:45.388886Z",
     "iopub.status.idle": "2023-01-12T06:22:45.393689Z",
     "shell.execute_reply": "2023-01-12T06:22:45.392534Z"
    },
    "papermill": {
     "duration": 0.01459,
     "end_time": "2023-01-12T06:22:45.395951",
     "exception": false,
     "start_time": "2023-01-12T06:22:45.381361",
     "status": "completed"
    },
    "tags": []
   },
   "outputs": [],
   "source": [
    "#q3.hint()\n",
    "#q3.solution()"
   ]
  },
  {
   "cell_type": "markdown",
   "id": "a9c7d2a2",
   "metadata": {
    "papermill": {
     "duration": 0.005417,
     "end_time": "2023-01-12T06:22:45.407186",
     "exception": false,
     "start_time": "2023-01-12T06:22:45.401769",
     "status": "completed"
    },
    "tags": []
   },
   "source": [
    "# 4.\n",
    "\n",
    "What are the lengths of the following lists? Fill in the variable `lengths` with your predictions. (Try to make a prediction for each list *without* just calling `len()` on it.)"
   ]
  },
  {
   "cell_type": "code",
   "execution_count": 8,
   "id": "936433e0",
   "metadata": {
    "execution": {
     "iopub.execute_input": "2023-01-12T06:22:45.421039Z",
     "iopub.status.busy": "2023-01-12T06:22:45.419873Z",
     "iopub.status.idle": "2023-01-12T06:22:45.430261Z",
     "shell.execute_reply": "2023-01-12T06:22:45.429076Z"
    },
    "papermill": {
     "duration": 0.019888,
     "end_time": "2023-01-12T06:22:45.432660",
     "exception": false,
     "start_time": "2023-01-12T06:22:45.412772",
     "status": "completed"
    },
    "tags": []
   },
   "outputs": [
    {
     "data": {
      "application/javascript": [
       "parent.postMessage({\"jupyterEvent\": \"custom.exercise_interaction\", \"data\": {\"outcomeType\": 1, \"valueTowardsCompletion\": 0.2, \"interactionType\": 1, \"questionType\": 1, \"questionId\": \"4_UnderstandLen\", \"learnToolsVersion\": \"0.3.4\", \"failureMessage\": \"\", \"exceptionClass\": \"\", \"trace\": \"\"}}, \"*\")"
      ],
      "text/plain": [
       "<IPython.core.display.Javascript object>"
      ]
     },
     "metadata": {},
     "output_type": "display_data"
    },
    {
     "data": {
      "text/markdown": [
       "<span style=\"color:#33cc33\">Correct:</span> \n",
       "\n",
       "\n",
       "- a: There are three items in this list. Nothing tricky yet.\n",
       "- b: The list `[2, 3]` counts as a single item. It has one item before it. So we have 2 items in the list\n",
       "- c: The empty list has 0 items\n",
       "- d: The expression is the same as the list `[2, 3]`, which has length 2."
      ],
      "text/plain": [
       "Correct: \n",
       "\n",
       "\n",
       "- a: There are three items in this list. Nothing tricky yet.\n",
       "- b: The list `[2, 3]` counts as a single item. It has one item before it. So we have 2 items in the list\n",
       "- c: The empty list has 0 items\n",
       "- d: The expression is the same as the list `[2, 3]`, which has length 2."
      ]
     },
     "metadata": {},
     "output_type": "display_data"
    }
   ],
   "source": [
    "a = [1, 2, 3]\n",
    "b = [1, [2, 3]]\n",
    "c = []\n",
    "d = [1, 2, 3][1:]\n",
    "\n",
    "# Put your predictions in the list below. Lengths should contain 4 numbers, the\n",
    "# first being the length of a, the second being the length of b and so on.\n",
    "lengths = [3,2,0,2]\n",
    "\n",
    "# Check your answer\n",
    "q4.check()"
   ]
  },
  {
   "cell_type": "code",
   "execution_count": 9,
   "id": "e7b4bb83",
   "metadata": {
    "collapsed": true,
    "execution": {
     "iopub.execute_input": "2023-01-12T06:22:45.446212Z",
     "iopub.status.busy": "2023-01-12T06:22:45.445860Z",
     "iopub.status.idle": "2023-01-12T06:22:45.450298Z",
     "shell.execute_reply": "2023-01-12T06:22:45.449351Z"
    },
    "jupyter": {
     "outputs_hidden": true
    },
    "papermill": {
     "duration": 0.013914,
     "end_time": "2023-01-12T06:22:45.452529",
     "exception": false,
     "start_time": "2023-01-12T06:22:45.438615",
     "status": "completed"
    },
    "tags": []
   },
   "outputs": [],
   "source": [
    "# line below provides some explanation\n",
    "#q4.solution()"
   ]
  },
  {
   "cell_type": "markdown",
   "id": "99e7f8f6",
   "metadata": {
    "papermill": {
     "duration": 0.00563,
     "end_time": "2023-01-12T06:22:45.464110",
     "exception": false,
     "start_time": "2023-01-12T06:22:45.458480",
     "status": "completed"
    },
    "tags": []
   },
   "source": [
    "# 5. <span title=\"A bit spicy\" style=\"color: darkgreen \">🌶️</span>\n",
    "\n",
    "We're using lists to record people who attended our party and what order they arrived in. For example, the following list represents a party with 7 guests, in which Adela showed up first and Ford was the last to arrive:\n",
    "\n",
    "    party_attendees = ['Adela', 'Fleda', 'Owen', 'May', 'Mona', 'Gilbert', 'Ford']\n",
    "\n",
    "A guest is considered 'fashionably late' if they arrived after at least half of the party's guests. However, they must not be the very last guest (that's taking it too far). In the above example, Mona and Gilbert are the only guests who were fashionably late.\n",
    "\n",
    "Complete the function below which takes a list of party attendees as well as a person, and tells us whether that person is fashionably late."
   ]
  },
  {
   "cell_type": "code",
   "execution_count": 10,
   "id": "8e848a43",
   "metadata": {
    "execution": {
     "iopub.execute_input": "2023-01-12T06:22:45.477785Z",
     "iopub.status.busy": "2023-01-12T06:22:45.477376Z",
     "iopub.status.idle": "2023-01-12T06:22:45.487359Z",
     "shell.execute_reply": "2023-01-12T06:22:45.486336Z"
    },
    "papermill": {
     "duration": 0.019664,
     "end_time": "2023-01-12T06:22:45.489657",
     "exception": false,
     "start_time": "2023-01-12T06:22:45.469993",
     "status": "completed"
    },
    "tags": []
   },
   "outputs": [
    {
     "data": {
      "application/javascript": [
       "parent.postMessage({\"jupyterEvent\": \"custom.exercise_interaction\", \"data\": {\"outcomeType\": 1, \"valueTowardsCompletion\": 0.2, \"interactionType\": 1, \"questionType\": 2, \"questionId\": \"5_FashionablyLate\", \"learnToolsVersion\": \"0.3.4\", \"failureMessage\": \"\", \"exceptionClass\": \"\", \"trace\": \"\"}}, \"*\")"
      ],
      "text/plain": [
       "<IPython.core.display.Javascript object>"
      ]
     },
     "metadata": {},
     "output_type": "display_data"
    },
    {
     "data": {
      "text/markdown": [
       "<span style=\"color:#33cc33\">Correct</span>"
      ],
      "text/plain": [
       "Correct"
      ]
     },
     "metadata": {},
     "output_type": "display_data"
    }
   ],
   "source": [
    "def fashionably_late(arrivals, name):\n",
    "    \"\"\"Given an ordered list of arrivals to the party and a name, return whether the guest with that\n",
    "    name was fashionably late.\n",
    "    \"\"\"\n",
    "    \n",
    "    if name in arrivals:\n",
    "        pos = arrivals.index(name)\n",
    "        return pos >= len(arrivals)/2 and not pos == len(arrivals)-1\n",
    "    pass\n",
    "\n",
    "# Check your answer\n",
    "q5.check()"
   ]
  },
  {
   "cell_type": "code",
   "execution_count": 11,
   "id": "ba5614f3",
   "metadata": {
    "execution": {
     "iopub.execute_input": "2023-01-12T06:22:45.503866Z",
     "iopub.status.busy": "2023-01-12T06:22:45.503500Z",
     "iopub.status.idle": "2023-01-12T06:22:45.507806Z",
     "shell.execute_reply": "2023-01-12T06:22:45.506930Z"
    },
    "papermill": {
     "duration": 0.014132,
     "end_time": "2023-01-12T06:22:45.509896",
     "exception": false,
     "start_time": "2023-01-12T06:22:45.495764",
     "status": "completed"
    },
    "tags": []
   },
   "outputs": [],
   "source": [
    "#q5.hint()\n",
    "#\n",
    "#q5.solution()"
   ]
  },
  {
   "cell_type": "markdown",
   "id": "723f3802",
   "metadata": {
    "papermill": {
     "duration": 0.005879,
     "end_time": "2023-01-12T06:22:45.522047",
     "exception": false,
     "start_time": "2023-01-12T06:22:45.516168",
     "status": "completed"
    },
    "tags": []
   },
   "source": [
    "# Keep Going\n",
    "\n",
    "That's it for lists and tuples! Now you have the baseline knowledge to **[learn about loops](https://www.kaggle.com/colinmorris/loops-and-list-comprehensions)**, which is where lists and tuples get really interesting. "
   ]
  },
  {
   "cell_type": "markdown",
   "id": "5cb0bd2a",
   "metadata": {
    "papermill": {
     "duration": 0.005823,
     "end_time": "2023-01-12T06:22:45.534194",
     "exception": false,
     "start_time": "2023-01-12T06:22:45.528371",
     "status": "completed"
    },
    "tags": []
   },
   "source": [
    "---\n",
    "\n",
    "\n",
    "\n",
    "\n",
    "*Have questions or comments? Visit the [course discussion forum](https://www.kaggle.com/learn/python/discussion) to chat with other learners.*"
   ]
  }
 ],
 "metadata": {
  "kernelspec": {
   "display_name": "Python 3",
   "language": "python",
   "name": "python3"
  },
  "language_info": {
   "codemirror_mode": {
    "name": "ipython",
    "version": 3
   },
   "file_extension": ".py",
   "mimetype": "text/x-python",
   "name": "python",
   "nbconvert_exporter": "python",
   "pygments_lexer": "ipython3",
   "version": "3.7.12"
  },
  "papermill": {
   "default_parameters": {},
   "duration": 9.225745,
   "end_time": "2023-01-12T06:22:46.162840",
   "environment_variables": {},
   "exception": null,
   "input_path": "__notebook__.ipynb",
   "output_path": "__notebook__.ipynb",
   "parameters": {},
   "start_time": "2023-01-12T06:22:36.937095",
   "version": "2.3.4"
  }
 },
 "nbformat": 4,
 "nbformat_minor": 5
}
