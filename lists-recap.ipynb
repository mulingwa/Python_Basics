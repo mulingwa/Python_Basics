{
 "cells": [
  {
   "cell_type": "markdown",
   "id": "f50446dd",
   "metadata": {
    "papermill": {
     "duration": 0.004897,
     "end_time": "2023-01-11T12:57:28.588826",
     "exception": false,
     "start_time": "2023-01-11T12:57:28.583929",
     "status": "completed"
    },
    "tags": []
   },
   "source": [
    "**This notebook is an exercise in the [Python](https://www.kaggle.com/learn/python) course.  You can reference the tutorial at [this link](https://www.kaggle.com/colinmorris/lists).**\n",
    "\n",
    "---\n"
   ]
  },
  {
   "cell_type": "markdown",
   "id": "ff2c3ad0",
   "metadata": {
    "papermill": {
     "duration": 0.003728,
     "end_time": "2023-01-11T12:57:28.596988",
     "exception": false,
     "start_time": "2023-01-11T12:57:28.593260",
     "status": "completed"
    },
    "tags": []
   },
   "source": [
    "Things get more interesting with lists. You'll apply your new knowledge to solve the questions below. Remember to run the following cell first."
   ]
  },
  {
   "cell_type": "code",
   "execution_count": 1,
   "id": "f5ab779f",
   "metadata": {
    "execution": {
     "iopub.execute_input": "2023-01-11T12:57:28.606669Z",
     "iopub.status.busy": "2023-01-11T12:57:28.606270Z",
     "iopub.status.idle": "2023-01-11T12:57:28.642808Z",
     "shell.execute_reply": "2023-01-11T12:57:28.641920Z"
    },
    "papermill": {
     "duration": 0.043948,
     "end_time": "2023-01-11T12:57:28.644948",
     "exception": false,
     "start_time": "2023-01-11T12:57:28.601000",
     "status": "completed"
    },
    "tags": []
   },
   "outputs": [
    {
     "name": "stdout",
     "output_type": "stream",
     "text": [
      "Setup complete.\n"
     ]
    }
   ],
   "source": [
    "from learntools.core import binder; binder.bind(globals())\n",
    "from learntools.python.ex4 import *\n",
    "print('Setup complete.')"
   ]
  },
  {
   "cell_type": "markdown",
   "id": "d1f401a2",
   "metadata": {
    "papermill": {
     "duration": 0.004012,
     "end_time": "2023-01-11T12:57:28.653275",
     "exception": false,
     "start_time": "2023-01-11T12:57:28.649263",
     "status": "completed"
    },
    "tags": []
   },
   "source": [
    "# 1.\n",
    "\n",
    "Complete the function below according to its docstring."
   ]
  },
  {
   "cell_type": "code",
   "execution_count": 2,
   "id": "4a5a5542",
   "metadata": {
    "execution": {
     "iopub.execute_input": "2023-01-11T12:57:28.663182Z",
     "iopub.status.busy": "2023-01-11T12:57:28.662684Z",
     "iopub.status.idle": "2023-01-11T12:57:28.672578Z",
     "shell.execute_reply": "2023-01-11T12:57:28.671838Z"
    },
    "papermill": {
     "duration": 0.016918,
     "end_time": "2023-01-11T12:57:28.674263",
     "exception": false,
     "start_time": "2023-01-11T12:57:28.657345",
     "status": "completed"
    },
    "tags": []
   },
   "outputs": [
    {
     "data": {
      "application/javascript": [
       "parent.postMessage({\"jupyterEvent\": \"custom.exercise_interaction\", \"data\": {\"outcomeType\": 1, \"valueTowardsCompletion\": 0.2, \"interactionType\": 1, \"questionType\": 2, \"questionId\": \"1_SelectSecondItem\", \"learnToolsVersion\": \"0.3.4\", \"failureMessage\": \"\", \"exceptionClass\": \"\", \"trace\": \"\"}}, \"*\")"
      ],
      "text/plain": [
       "<IPython.core.display.Javascript object>"
      ]
     },
     "metadata": {},
     "output_type": "display_data"
    },
    {
     "data": {
      "text/markdown": [
       "<span style=\"color:#33cc33\">Correct</span>"
      ],
      "text/plain": [
       "Correct"
      ]
     },
     "metadata": {},
     "output_type": "display_data"
    }
   ],
   "source": [
    "def select_second(L):\n",
    "    \"\"\"Return the second element of the given list. If the list has no second\n",
    "    element, return None.\n",
    "    \"\"\"\n",
    "    if len(L)> 2:\n",
    "        return L[1]\n",
    "    else: \n",
    "        return None\n",
    "    pass\n",
    "\n",
    "# Check your answer\n",
    "q1.check()"
   ]
  },
  {
   "cell_type": "code",
   "execution_count": 3,
   "id": "34b8cf62",
   "metadata": {
    "execution": {
     "iopub.execute_input": "2023-01-11T12:57:28.684618Z",
     "iopub.status.busy": "2023-01-11T12:57:28.684092Z",
     "iopub.status.idle": "2023-01-11T12:57:28.687729Z",
     "shell.execute_reply": "2023-01-11T12:57:28.686981Z"
    },
    "papermill": {
     "duration": 0.010715,
     "end_time": "2023-01-11T12:57:28.689407",
     "exception": false,
     "start_time": "2023-01-11T12:57:28.678692",
     "status": "completed"
    },
    "tags": []
   },
   "outputs": [],
   "source": [
    "#q1.hint()\n",
    "#q1.solution()"
   ]
  },
  {
   "cell_type": "markdown",
   "id": "f55a2673",
   "metadata": {
    "papermill": {
     "duration": 0.004146,
     "end_time": "2023-01-11T12:57:28.697935",
     "exception": false,
     "start_time": "2023-01-11T12:57:28.693789",
     "status": "completed"
    },
    "tags": []
   },
   "source": [
    "# 2.\n",
    "\n",
    "You are analyzing sports teams.  Members of each team are stored in a list. The Coach is the first name in the list, the captain is the second name in the list, and other players are listed after that. \n",
    "These lists are stored in another list, which starts with the best team and proceeds through the list to the worst team last.  Complete the function below to select the **captain** of the worst team."
   ]
  },
  {
   "cell_type": "code",
   "execution_count": 4,
   "id": "d1861303",
   "metadata": {
    "execution": {
     "iopub.execute_input": "2023-01-11T12:57:28.708036Z",
     "iopub.status.busy": "2023-01-11T12:57:28.707539Z",
     "iopub.status.idle": "2023-01-11T12:57:28.715026Z",
     "shell.execute_reply": "2023-01-11T12:57:28.714388Z"
    },
    "papermill": {
     "duration": 0.014725,
     "end_time": "2023-01-11T12:57:28.716864",
     "exception": false,
     "start_time": "2023-01-11T12:57:28.702139",
     "status": "completed"
    },
    "tags": []
   },
   "outputs": [
    {
     "data": {
      "application/javascript": [
       "parent.postMessage({\"jupyterEvent\": \"custom.exercise_interaction\", \"data\": {\"outcomeType\": 1, \"valueTowardsCompletion\": 0.2, \"interactionType\": 1, \"questionType\": 2, \"questionId\": \"2_LosingTeamCaptain\", \"learnToolsVersion\": \"0.3.4\", \"failureMessage\": \"\", \"exceptionClass\": \"\", \"trace\": \"\"}}, \"*\")"
      ],
      "text/plain": [
       "<IPython.core.display.Javascript object>"
      ]
     },
     "metadata": {},
     "output_type": "display_data"
    },
    {
     "data": {
      "text/markdown": [
       "<span style=\"color:#33cc33\">Correct</span>"
      ],
      "text/plain": [
       "Correct"
      ]
     },
     "metadata": {},
     "output_type": "display_data"
    }
   ],
   "source": [
    "def losing_team_captain(teams):\n",
    "    \"\"\"Given a list of teams, where each team is a list of names, return the 2nd player (captain)\n",
    "    from the last listed team\n",
    "    \"\"\"\n",
    "    return teams[-1][1]\n",
    "    pass\n",
    "\n",
    "# Check your answer\n",
    "q2.check()"
   ]
  },
  {
   "cell_type": "code",
   "execution_count": 5,
   "id": "71824b60",
   "metadata": {
    "collapsed": true,
    "execution": {
     "iopub.execute_input": "2023-01-11T12:57:28.727706Z",
     "iopub.status.busy": "2023-01-11T12:57:28.727162Z",
     "iopub.status.idle": "2023-01-11T12:57:28.730681Z",
     "shell.execute_reply": "2023-01-11T12:57:28.730086Z"
    },
    "jupyter": {
     "outputs_hidden": true
    },
    "papermill": {
     "duration": 0.010742,
     "end_time": "2023-01-11T12:57:28.732311",
     "exception": false,
     "start_time": "2023-01-11T12:57:28.721569",
     "status": "completed"
    },
    "tags": []
   },
   "outputs": [],
   "source": [
    "#q2.hint()\n",
    "#q2.solution()"
   ]
  },
  {
   "cell_type": "markdown",
   "id": "2d6d28d8",
   "metadata": {
    "papermill": {
     "duration": 0.005323,
     "end_time": "2023-01-11T12:57:28.742233",
     "exception": false,
     "start_time": "2023-01-11T12:57:28.736910",
     "status": "completed"
    },
    "tags": []
   },
   "source": [
    "# 3.\n",
    "\n",
    "The next iteration of Mario Kart will feature an extra-infuriating new item, the *Purple Shell*. When used, it warps the last place racer into first place and the first place racer into last place. Complete the function below to implement the Purple Shell's effect."
   ]
  },
  {
   "cell_type": "code",
   "execution_count": 6,
   "id": "12fcc2b7",
   "metadata": {
    "execution": {
     "iopub.execute_input": "2023-01-11T12:57:28.753088Z",
     "iopub.status.busy": "2023-01-11T12:57:28.752556Z",
     "iopub.status.idle": "2023-01-11T12:57:28.760173Z",
     "shell.execute_reply": "2023-01-11T12:57:28.759581Z"
    },
    "papermill": {
     "duration": 0.015105,
     "end_time": "2023-01-11T12:57:28.761865",
     "exception": false,
     "start_time": "2023-01-11T12:57:28.746760",
     "status": "completed"
    },
    "tags": []
   },
   "outputs": [
    {
     "data": {
      "application/javascript": [
       "parent.postMessage({\"jupyterEvent\": \"custom.exercise_interaction\", \"data\": {\"outcomeType\": 1, \"valueTowardsCompletion\": 0.2, \"interactionType\": 1, \"questionType\": 2, \"questionId\": \"3_PurpleShell\", \"learnToolsVersion\": \"0.3.4\", \"failureMessage\": \"\", \"exceptionClass\": \"\", \"trace\": \"\"}}, \"*\")"
      ],
      "text/plain": [
       "<IPython.core.display.Javascript object>"
      ]
     },
     "metadata": {},
     "output_type": "display_data"
    },
    {
     "data": {
      "text/markdown": [
       "<span style=\"color:#33cc33\">Correct</span>"
      ],
      "text/plain": [
       "Correct"
      ]
     },
     "metadata": {},
     "output_type": "display_data"
    }
   ],
   "source": [
    "def purple_shell(racers):\n",
    "    \"\"\"Given a list of racers, set the first place racer (at the front of the list) to last\n",
    "    place and vice versa.\n",
    "    \n",
    "    >>> r = [\"Mario\", \"Bowser\", \"Luigi\"]\n",
    "    >>> purple_shell(r)\n",
    "    >>> r\n",
    "    [\"Luigi\", \"Bowser\", \"Mario\"]\n",
    "    \"\"\"\n",
    "    racers[0], racers[-1] = racers[-1], racers[0]\n",
    "    \n",
    "    pass\n",
    "\n",
    "# Check your answer\n",
    "q3.check()"
   ]
  },
  {
   "cell_type": "code",
   "execution_count": 7,
   "id": "23d4e739",
   "metadata": {
    "execution": {
     "iopub.execute_input": "2023-01-11T12:57:28.773039Z",
     "iopub.status.busy": "2023-01-11T12:57:28.772555Z",
     "iopub.status.idle": "2023-01-11T12:57:28.775980Z",
     "shell.execute_reply": "2023-01-11T12:57:28.775386Z"
    },
    "papermill": {
     "duration": 0.01095,
     "end_time": "2023-01-11T12:57:28.777651",
     "exception": false,
     "start_time": "2023-01-11T12:57:28.766701",
     "status": "completed"
    },
    "tags": []
   },
   "outputs": [],
   "source": [
    "#q3.hint()\n",
    "#q3.solution()"
   ]
  },
  {
   "cell_type": "markdown",
   "id": "2620a6e0",
   "metadata": {
    "papermill": {
     "duration": 0.004596,
     "end_time": "2023-01-11T12:57:28.787119",
     "exception": false,
     "start_time": "2023-01-11T12:57:28.782523",
     "status": "completed"
    },
    "tags": []
   },
   "source": [
    "# 4.\n",
    "\n",
    "What are the lengths of the following lists? Fill in the variable `lengths` with your predictions. (Try to make a prediction for each list *without* just calling `len()` on it.)"
   ]
  },
  {
   "cell_type": "code",
   "execution_count": 8,
   "id": "e7884df9",
   "metadata": {
    "execution": {
     "iopub.execute_input": "2023-01-11T12:57:28.798552Z",
     "iopub.status.busy": "2023-01-11T12:57:28.798001Z",
     "iopub.status.idle": "2023-01-11T12:57:28.805990Z",
     "shell.execute_reply": "2023-01-11T12:57:28.805393Z"
    },
    "papermill": {
     "duration": 0.016297,
     "end_time": "2023-01-11T12:57:28.808152",
     "exception": false,
     "start_time": "2023-01-11T12:57:28.791855",
     "status": "completed"
    },
    "tags": []
   },
   "outputs": [
    {
     "data": {
      "application/javascript": [
       "parent.postMessage({\"jupyterEvent\": \"custom.exercise_interaction\", \"data\": {\"outcomeType\": 1, \"valueTowardsCompletion\": 0.2, \"interactionType\": 1, \"questionType\": 1, \"questionId\": \"4_UnderstandLen\", \"learnToolsVersion\": \"0.3.4\", \"failureMessage\": \"\", \"exceptionClass\": \"\", \"trace\": \"\"}}, \"*\")"
      ],
      "text/plain": [
       "<IPython.core.display.Javascript object>"
      ]
     },
     "metadata": {},
     "output_type": "display_data"
    },
    {
     "data": {
      "text/markdown": [
       "<span style=\"color:#33cc33\">Correct:</span> \n",
       "\n",
       "\n",
       "- a: There are three items in this list. Nothing tricky yet.\n",
       "- b: The list `[2, 3]` counts as a single item. It has one item before it. So we have 2 items in the list\n",
       "- c: The empty list has 0 items\n",
       "- d: The expression is the same as the list `[2, 3]`, which has length 2."
      ],
      "text/plain": [
       "Correct: \n",
       "\n",
       "\n",
       "- a: There are three items in this list. Nothing tricky yet.\n",
       "- b: The list `[2, 3]` counts as a single item. It has one item before it. So we have 2 items in the list\n",
       "- c: The empty list has 0 items\n",
       "- d: The expression is the same as the list `[2, 3]`, which has length 2."
      ]
     },
     "metadata": {},
     "output_type": "display_data"
    }
   ],
   "source": [
    "a = [1, 2, 3]\n",
    "b = [1, [2, 3]]\n",
    "c = []\n",
    "d = [1, 2, 3][1:]\n",
    "\n",
    "# Put your predictions in the list below. Lengths should contain 4 numbers, the\n",
    "# first being the length of a, the second being the length of b and so on.\n",
    "lengths = [3,2,0,2]\n",
    "\n",
    "# Check your answer\n",
    "q4.check()"
   ]
  },
  {
   "cell_type": "code",
   "execution_count": 9,
   "id": "2be92211",
   "metadata": {
    "collapsed": true,
    "execution": {
     "iopub.execute_input": "2023-01-11T12:57:28.820013Z",
     "iopub.status.busy": "2023-01-11T12:57:28.819676Z",
     "iopub.status.idle": "2023-01-11T12:57:28.823305Z",
     "shell.execute_reply": "2023-01-11T12:57:28.822524Z"
    },
    "jupyter": {
     "outputs_hidden": true
    },
    "papermill": {
     "duration": 0.011454,
     "end_time": "2023-01-11T12:57:28.825049",
     "exception": false,
     "start_time": "2023-01-11T12:57:28.813595",
     "status": "completed"
    },
    "tags": []
   },
   "outputs": [],
   "source": [
    "# line below provides some explanation\n",
    "#q4.solution()"
   ]
  },
  {
   "cell_type": "markdown",
   "id": "575660b0",
   "metadata": {
    "papermill": {
     "duration": 0.004778,
     "end_time": "2023-01-11T12:57:28.835352",
     "exception": false,
     "start_time": "2023-01-11T12:57:28.830574",
     "status": "completed"
    },
    "tags": []
   },
   "source": [
    "# 5. <span title=\"A bit spicy\" style=\"color: darkgreen \">🌶️</span>\n",
    "\n",
    "We're using lists to record people who attended our party and what order they arrived in. For example, the following list represents a party with 7 guests, in which Adela showed up first and Ford was the last to arrive:\n",
    "\n",
    "    party_attendees = ['Adela', 'Fleda', 'Owen', 'May', 'Mona', 'Gilbert', 'Ford']\n",
    "\n",
    "A guest is considered 'fashionably late' if they arrived after at least half of the party's guests. However, they must not be the very last guest (that's taking it too far). In the above example, Mona and Gilbert are the only guests who were fashionably late.\n",
    "\n",
    "Complete the function below which takes a list of party attendees as well as a person, and tells us whether that person is fashionably late."
   ]
  },
  {
   "cell_type": "code",
   "execution_count": 10,
   "id": "d077b1d2",
   "metadata": {
    "execution": {
     "iopub.execute_input": "2023-01-11T12:57:28.846833Z",
     "iopub.status.busy": "2023-01-11T12:57:28.846492Z",
     "iopub.status.idle": "2023-01-11T12:57:28.854092Z",
     "shell.execute_reply": "2023-01-11T12:57:28.853337Z"
    },
    "papermill": {
     "duration": 0.01543,
     "end_time": "2023-01-11T12:57:28.855841",
     "exception": false,
     "start_time": "2023-01-11T12:57:28.840411",
     "status": "completed"
    },
    "tags": []
   },
   "outputs": [
    {
     "data": {
      "application/javascript": [
       "parent.postMessage({\"jupyterEvent\": \"custom.exercise_interaction\", \"data\": {\"outcomeType\": 1, \"valueTowardsCompletion\": 0.2, \"interactionType\": 1, \"questionType\": 2, \"questionId\": \"5_FashionablyLate\", \"learnToolsVersion\": \"0.3.4\", \"failureMessage\": \"\", \"exceptionClass\": \"\", \"trace\": \"\"}}, \"*\")"
      ],
      "text/plain": [
       "<IPython.core.display.Javascript object>"
      ]
     },
     "metadata": {},
     "output_type": "display_data"
    },
    {
     "data": {
      "text/markdown": [
       "<span style=\"color:#33cc33\">Correct</span>"
      ],
      "text/plain": [
       "Correct"
      ]
     },
     "metadata": {},
     "output_type": "display_data"
    }
   ],
   "source": [
    "def fashionably_late(arrivals, name):\n",
    "    \"\"\"Given an ordered list of arrivals to the party and a name, return whether the guest with that\n",
    "    name was fashionably late.\n",
    "    \"\"\"\n",
    "    \n",
    "    if name in arrivals:\n",
    "        pos = arrivals.index(name)\n",
    "        return pos >= len(arrivals)/2 and not pos == len(arrivals)-1\n",
    "    pass\n",
    "\n",
    "# Check your answer\n",
    "q5.check()"
   ]
  },
  {
   "cell_type": "code",
   "execution_count": 11,
   "id": "f497fbee",
   "metadata": {
    "execution": {
     "iopub.execute_input": "2023-01-11T12:57:28.867631Z",
     "iopub.status.busy": "2023-01-11T12:57:28.867296Z",
     "iopub.status.idle": "2023-01-11T12:57:28.870626Z",
     "shell.execute_reply": "2023-01-11T12:57:28.870031Z"
    },
    "papermill": {
     "duration": 0.011014,
     "end_time": "2023-01-11T12:57:28.872073",
     "exception": false,
     "start_time": "2023-01-11T12:57:28.861059",
     "status": "completed"
    },
    "tags": []
   },
   "outputs": [],
   "source": [
    "#q5.hint()\n",
    "#\n",
    "#q5.solution()"
   ]
  },
  {
   "cell_type": "markdown",
   "id": "63339fd9",
   "metadata": {
    "papermill": {
     "duration": 0.005199,
     "end_time": "2023-01-11T12:57:28.882498",
     "exception": false,
     "start_time": "2023-01-11T12:57:28.877299",
     "status": "completed"
    },
    "tags": []
   },
   "source": [
    "# Keep Going\n",
    "\n",
    "That's it for lists and tuples! Now you have the baseline knowledge to **[learn about loops](https://www.kaggle.com/colinmorris/loops-and-list-comprehensions)**, which is where lists and tuples get really interesting. "
   ]
  },
  {
   "cell_type": "markdown",
   "id": "5cc5dfc8",
   "metadata": {
    "papermill": {
     "duration": 0.005006,
     "end_time": "2023-01-11T12:57:28.892745",
     "exception": false,
     "start_time": "2023-01-11T12:57:28.887739",
     "status": "completed"
    },
    "tags": []
   },
   "source": [
    "---\n",
    "\n",
    "\n",
    "\n",
    "\n",
    "*Have questions or comments? Visit the [course discussion forum](https://www.kaggle.com/learn/python/discussion) to chat with other learners.*"
   ]
  }
 ],
 "metadata": {
  "kernelspec": {
   "display_name": "Python 3",
   "language": "python",
   "name": "python3"
  },
  "language_info": {
   "codemirror_mode": {
    "name": "ipython",
    "version": 3
   },
   "file_extension": ".py",
   "mimetype": "text/x-python",
   "name": "python",
   "nbconvert_exporter": "python",
   "pygments_lexer": "ipython3",
   "version": "3.7.12"
  },
  "papermill": {
   "default_parameters": {},
   "duration": 7.848004,
   "end_time": "2023-01-11T12:57:29.517620",
   "environment_variables": {},
   "exception": null,
   "input_path": "__notebook__.ipynb",
   "output_path": "__notebook__.ipynb",
   "parameters": {},
   "start_time": "2023-01-11T12:57:21.669616",
   "version": "2.3.4"
  }
 },
 "nbformat": 4,
 "nbformat_minor": 5
}
