{
 "cells": [
  {
   "cell_type": "markdown",
   "id": "d696f3ee",
   "metadata": {
    "papermill": {
     "duration": 0.006346,
     "end_time": "2022-07-03T08:01:50.850303",
     "exception": false,
     "start_time": "2022-07-03T08:01:50.843957",
     "status": "completed"
    },
    "tags": []
   },
   "source": [
    "**This notebook is an exercise in the [Python](https://www.kaggle.com/learn/python) course.  You can reference the tutorial at [this link](https://www.kaggle.com/colinmorris/functions-and-getting-help).**\n",
    "\n",
    "---\n"
   ]
  },
  {
   "cell_type": "markdown",
   "id": "a7959b95",
   "metadata": {
    "papermill": {
     "duration": 0.004966,
     "end_time": "2022-07-03T08:01:50.860840",
     "exception": false,
     "start_time": "2022-07-03T08:01:50.855874",
     "status": "completed"
    },
    "tags": []
   },
   "source": [
    "Functions are powerful. Try writing some yourself.\n",
    "\n",
    "As before, don't forget to run the setup code below before jumping into question 1."
   ]
  },
  {
   "cell_type": "code",
   "execution_count": 1,
   "id": "2c0cb481",
   "metadata": {
    "_kg_hide-input": true,
    "_kg_hide-output": true,
    "execution": {
     "iopub.execute_input": "2022-07-03T08:01:50.874580Z",
     "iopub.status.busy": "2022-07-03T08:01:50.873375Z",
     "iopub.status.idle": "2022-07-03T08:01:50.934355Z",
     "shell.execute_reply": "2022-07-03T08:01:50.933211Z"
    },
    "papermill": {
     "duration": 0.070869,
     "end_time": "2022-07-03T08:01:50.937418",
     "exception": false,
     "start_time": "2022-07-03T08:01:50.866549",
     "status": "completed"
    },
    "tags": []
   },
   "outputs": [
    {
     "name": "stdout",
     "output_type": "stream",
     "text": [
      "Setup complete.\n"
     ]
    }
   ],
   "source": [
    "# SETUP. You don't need to worry for now about what this code does or how it works.\n",
    "from learntools.core import binder; binder.bind(globals())\n",
    "from learntools.python.ex2 import *\n",
    "print('Setup complete.')"
   ]
  },
  {
   "cell_type": "markdown",
   "id": "6e4980d3",
   "metadata": {
    "papermill": {
     "duration": 0.005229,
     "end_time": "2022-07-03T08:01:50.948130",
     "exception": false,
     "start_time": "2022-07-03T08:01:50.942901",
     "status": "completed"
    },
    "tags": []
   },
   "source": [
    "# 1.\n",
    "\n",
    "Complete the body of the following function according to its docstring.\n",
    "\n",
    "HINT: Python has a built-in function `round`."
   ]
  },
  {
   "cell_type": "code",
   "execution_count": 2,
   "id": "09f56131",
   "metadata": {
    "execution": {
     "iopub.execute_input": "2022-07-03T08:01:50.960552Z",
     "iopub.status.busy": "2022-07-03T08:01:50.960180Z",
     "iopub.status.idle": "2022-07-03T08:01:50.972453Z",
     "shell.execute_reply": "2022-07-03T08:01:50.971306Z"
    },
    "papermill": {
     "duration": 0.021148,
     "end_time": "2022-07-03T08:01:50.974683",
     "exception": false,
     "start_time": "2022-07-03T08:01:50.953535",
     "status": "completed"
    },
    "tags": []
   },
   "outputs": [
    {
     "data": {
      "application/javascript": [
       "parent.postMessage({\"jupyterEvent\": \"custom.exercise_interaction\", \"data\": {\"outcomeType\": 1, \"valueTowardsCompletion\": 0.16666666666666666, \"interactionType\": 1, \"questionType\": 2, \"questionId\": \"1_RoundFunctionProblem\", \"learnToolsVersion\": \"0.3.4\", \"failureMessage\": \"\", \"exceptionClass\": \"\", \"trace\": \"\"}}, \"*\")"
      ],
      "text/plain": [
       "<IPython.core.display.Javascript object>"
      ]
     },
     "metadata": {},
     "output_type": "display_data"
    },
    {
     "data": {
      "text/markdown": [
       "<span style=\"color:#33cc33\">Correct</span>"
      ],
      "text/plain": [
       "Correct"
      ]
     },
     "metadata": {},
     "output_type": "display_data"
    }
   ],
   "source": [
    "def round_to_two_places(num):\n",
    "    \"\"\"Return the given number rounded to two decimal places. \n",
    "    \n",
    "    >>> round_to_two_places(3.14159)\n",
    "    3.14\n",
    "    \"\"\"\n",
    "    #help(round)\n",
    "    return round(num,2)\n",
    "   \n",
    "    pass\n",
    "\n",
    "# Check your answer\n",
    "q1.check()"
   ]
  },
  {
   "cell_type": "code",
   "execution_count": 3,
   "id": "b86aa384",
   "metadata": {
    "execution": {
     "iopub.execute_input": "2022-07-03T08:01:50.988120Z",
     "iopub.status.busy": "2022-07-03T08:01:50.987505Z",
     "iopub.status.idle": "2022-07-03T08:01:50.996014Z",
     "shell.execute_reply": "2022-07-03T08:01:50.995194Z"
    },
    "papermill": {
     "duration": 0.017751,
     "end_time": "2022-07-03T08:01:50.998094",
     "exception": false,
     "start_time": "2022-07-03T08:01:50.980343",
     "status": "completed"
    },
    "tags": []
   },
   "outputs": [
    {
     "data": {
      "application/javascript": [
       "parent.postMessage({\"jupyterEvent\": \"custom.exercise_interaction\", \"data\": {\"interactionType\": 3, \"questionType\": 2, \"questionId\": \"1_RoundFunctionProblem\", \"learnToolsVersion\": \"0.3.4\", \"valueTowardsCompletion\": 0.0, \"failureMessage\": \"\", \"exceptionClass\": \"\", \"trace\": \"\", \"outcomeType\": 4}}, \"*\")"
      ],
      "text/plain": [
       "<IPython.core.display.Javascript object>"
      ]
     },
     "metadata": {},
     "output_type": "display_data"
    },
    {
     "data": {
      "text/markdown": [
       "<span style=\"color:#33cc99\">Solution:</span> \n",
       "```python\n",
       "return round(num, 2)\n",
       "```"
      ],
      "text/plain": [
       "Solution: \n",
       "```python\n",
       "return round(num, 2)\n",
       "```"
      ]
     },
     "metadata": {},
     "output_type": "display_data"
    }
   ],
   "source": [
    "# Uncomment the following for a hint\n",
    "#q1.hint()\n",
    "# Or uncomment the following to peek at the solution\n",
    "q1.solution()"
   ]
  },
  {
   "cell_type": "markdown",
   "id": "9266bc2f",
   "metadata": {
    "papermill": {
     "duration": 0.005553,
     "end_time": "2022-07-03T08:01:51.009527",
     "exception": false,
     "start_time": "2022-07-03T08:01:51.003974",
     "status": "completed"
    },
    "tags": []
   },
   "source": [
    "# 2.\n",
    "The help for `round` says that `ndigits` (the second argument) may be negative.\n",
    "What do you think will happen when it is? Try some examples in the following cell."
   ]
  },
  {
   "cell_type": "code",
   "execution_count": 4,
   "id": "31c9f659",
   "metadata": {
    "execution": {
     "iopub.execute_input": "2022-07-03T08:01:51.023124Z",
     "iopub.status.busy": "2022-07-03T08:01:51.022510Z",
     "iopub.status.idle": "2022-07-03T08:01:51.029678Z",
     "shell.execute_reply": "2022-07-03T08:01:51.028356Z"
    },
    "papermill": {
     "duration": 0.016483,
     "end_time": "2022-07-03T08:01:51.031800",
     "exception": false,
     "start_time": "2022-07-03T08:01:51.015317",
     "status": "completed"
    },
    "tags": []
   },
   "outputs": [
    {
     "data": {
      "text/plain": [
       "47800.0"
      ]
     },
     "execution_count": 4,
     "metadata": {},
     "output_type": "execute_result"
    }
   ],
   "source": [
    "round(47774.555, -2)"
   ]
  },
  {
   "cell_type": "markdown",
   "id": "c89ea86c",
   "metadata": {
    "papermill": {
     "duration": 0.005872,
     "end_time": "2022-07-03T08:01:51.044126",
     "exception": false,
     "start_time": "2022-07-03T08:01:51.038254",
     "status": "completed"
    },
    "tags": []
   },
   "source": [
    "Can you think of a case where this would be useful?  Once you're ready, run the code cell below to see the answer and to receive credit for completing the problem."
   ]
  },
  {
   "cell_type": "code",
   "execution_count": 5,
   "id": "9d12a3ab",
   "metadata": {
    "execution": {
     "iopub.execute_input": "2022-07-03T08:01:51.058741Z",
     "iopub.status.busy": "2022-07-03T08:01:51.057683Z",
     "iopub.status.idle": "2022-07-03T08:01:51.065108Z",
     "shell.execute_reply": "2022-07-03T08:01:51.064400Z"
    },
    "papermill": {
     "duration": 0.016884,
     "end_time": "2022-07-03T08:01:51.067180",
     "exception": false,
     "start_time": "2022-07-03T08:01:51.050296",
     "status": "completed"
    },
    "tags": []
   },
   "outputs": [
    {
     "data": {
      "application/javascript": [
       "parent.postMessage({\"jupyterEvent\": \"custom.exercise_interaction\", \"data\": {\"interactionType\": 3, \"questionType\": 4, \"questionId\": \"2_RoundNdigitsProblem\", \"learnToolsVersion\": \"0.3.4\", \"valueTowardsCompletion\": 0.0, \"failureMessage\": \"\", \"exceptionClass\": \"\", \"trace\": \"\", \"outcomeType\": 4}}, \"*\")"
      ],
      "text/plain": [
       "<IPython.core.display.Javascript object>"
      ]
     },
     "metadata": {},
     "output_type": "display_data"
    },
    {
     "data": {
      "text/markdown": [
       "<span style=\"color:#33cc99\">Solution:</span> As you've seen, `ndigits=-1` rounds to the nearest 10, `ndigits=-2` rounds to the nearest 100 and so on. Where might this be useful? Suppose we're dealing with large numbers:\n",
       "\n",
       "> The area of Finland is 338,424 km²  \n",
       "> The area of Greenland is 2,166,086 km²\n",
       "\n",
       "We probably don't care whether it's really 338,424, or 338,425, or 338,177. All those digits of accuracy are just distracting. We can chop them off by calling `round()` with `ndigits=-3`:\n",
       "\n",
       "> The area of Finland is 338,000 km²  \n",
       "> The area of Greenland is 2,166,000 km²\n",
       "\n",
       "(We'll talk about how we would get the commas later when we talk about string formatting :))\n"
      ],
      "text/plain": [
       "Solution: As you've seen, `ndigits=-1` rounds to the nearest 10, `ndigits=-2` rounds to the nearest 100 and so on. Where might this be useful? Suppose we're dealing with large numbers:\n",
       "\n",
       "> The area of Finland is 338,424 km²  \n",
       "> The area of Greenland is 2,166,086 km²\n",
       "\n",
       "We probably don't care whether it's really 338,424, or 338,425, or 338,177. All those digits of accuracy are just distracting. We can chop them off by calling `round()` with `ndigits=-3`:\n",
       "\n",
       "> The area of Finland is 338,000 km²  \n",
       "> The area of Greenland is 2,166,000 km²\n",
       "\n",
       "(We'll talk about how we would get the commas later when we talk about string formatting :))"
      ]
     },
     "metadata": {},
     "output_type": "display_data"
    }
   ],
   "source": [
    "# Check your answer (Run this code cell to receive credit!)\n",
    "q2.solution()"
   ]
  },
  {
   "cell_type": "markdown",
   "id": "330f92aa",
   "metadata": {
    "papermill": {
     "duration": 0.006423,
     "end_time": "2022-07-03T08:01:51.080117",
     "exception": false,
     "start_time": "2022-07-03T08:01:51.073694",
     "status": "completed"
    },
    "tags": []
   },
   "source": [
    "# 3.\n",
    "\n",
    "In the previous exercise, the candy-sharing friends Alice, Bob and Carol tried to split candies evenly. For the sake of their friendship, any candies left over would be smashed. For example, if they collectively bring home 91 candies, they'll take 30 each and smash 1.\n",
    "\n",
    "Below is a simple function that will calculate the number of candies to smash for *any* number of total candies.\n",
    "\n",
    "Modify it so that it optionally takes a second argument representing the number of friends the candies are being split between. If no second argument is provided, it should assume 3 friends, as before.\n",
    "\n",
    "Update the docstring to reflect this new behaviour."
   ]
  },
  {
   "cell_type": "code",
   "execution_count": 6,
   "id": "5a11f455",
   "metadata": {
    "execution": {
     "iopub.execute_input": "2022-07-03T08:01:51.095197Z",
     "iopub.status.busy": "2022-07-03T08:01:51.094474Z",
     "iopub.status.idle": "2022-07-03T08:01:51.102823Z",
     "shell.execute_reply": "2022-07-03T08:01:51.102015Z"
    },
    "papermill": {
     "duration": 0.018251,
     "end_time": "2022-07-03T08:01:51.104852",
     "exception": false,
     "start_time": "2022-07-03T08:01:51.086601",
     "status": "completed"
    },
    "tags": []
   },
   "outputs": [
    {
     "data": {
      "application/javascript": [
       "parent.postMessage({\"jupyterEvent\": \"custom.exercise_interaction\", \"data\": {\"outcomeType\": 1, \"valueTowardsCompletion\": 0.16666666666666666, \"interactionType\": 1, \"questionType\": 2, \"questionId\": \"3_CandySmashingFunctionProblem\", \"learnToolsVersion\": \"0.3.4\", \"failureMessage\": \"\", \"exceptionClass\": \"\", \"trace\": \"\"}}, \"*\")"
      ],
      "text/plain": [
       "<IPython.core.display.Javascript object>"
      ]
     },
     "metadata": {},
     "output_type": "display_data"
    },
    {
     "data": {
      "text/markdown": [
       "<span style=\"color:#33cc33\">Correct</span>"
      ],
      "text/plain": [
       "Correct"
      ]
     },
     "metadata": {},
     "output_type": "display_data"
    }
   ],
   "source": [
    "def to_smash(total_candies,n_of_friends=3):\n",
    "    \"\"\"Return the number of leftover candies that must be smashed after distributing\n",
    "    the given number of candies evenly between the number of friends given in the arguments\n",
    "    \n",
    "    >>> to_smash(91)\n",
    "    1\n",
    "    \"\"\"\n",
    "    return total_candies % n_of_friends\n",
    "to_smash(31)\n",
    "# Check your answer\n",
    "q3.check()"
   ]
  },
  {
   "cell_type": "code",
   "execution_count": 7,
   "id": "52727eb0",
   "metadata": {
    "execution": {
     "iopub.execute_input": "2022-07-03T08:01:51.120192Z",
     "iopub.status.busy": "2022-07-03T08:01:51.119767Z",
     "iopub.status.idle": "2022-07-03T08:01:51.124279Z",
     "shell.execute_reply": "2022-07-03T08:01:51.123113Z"
    },
    "papermill": {
     "duration": 0.015237,
     "end_time": "2022-07-03T08:01:51.126739",
     "exception": false,
     "start_time": "2022-07-03T08:01:51.111502",
     "status": "completed"
    },
    "tags": []
   },
   "outputs": [],
   "source": [
    "#q3.hint()"
   ]
  },
  {
   "cell_type": "code",
   "execution_count": 8,
   "id": "8776d851",
   "metadata": {
    "execution": {
     "iopub.execute_input": "2022-07-03T08:01:51.142094Z",
     "iopub.status.busy": "2022-07-03T08:01:51.141658Z",
     "iopub.status.idle": "2022-07-03T08:01:51.149223Z",
     "shell.execute_reply": "2022-07-03T08:01:51.148457Z"
    },
    "papermill": {
     "duration": 0.017717,
     "end_time": "2022-07-03T08:01:51.151396",
     "exception": false,
     "start_time": "2022-07-03T08:01:51.133679",
     "status": "completed"
    },
    "tags": []
   },
   "outputs": [
    {
     "data": {
      "application/javascript": [
       "parent.postMessage({\"jupyterEvent\": \"custom.exercise_interaction\", \"data\": {\"interactionType\": 3, \"questionType\": 2, \"questionId\": \"3_CandySmashingFunctionProblem\", \"learnToolsVersion\": \"0.3.4\", \"valueTowardsCompletion\": 0.0, \"failureMessage\": \"\", \"exceptionClass\": \"\", \"trace\": \"\", \"outcomeType\": 4}}, \"*\")"
      ],
      "text/plain": [
       "<IPython.core.display.Javascript object>"
      ]
     },
     "metadata": {},
     "output_type": "display_data"
    },
    {
     "data": {
      "text/markdown": [
       "<span style=\"color:#33cc99\">Solution:</span> \n",
       "```python\n",
       "def to_smash(total_candies, n_friends=3):\n",
       "    return total_candies % n_friends\n",
       "```"
      ],
      "text/plain": [
       "Solution: \n",
       "```python\n",
       "def to_smash(total_candies, n_friends=3):\n",
       "    return total_candies % n_friends\n",
       "```"
      ]
     },
     "metadata": {},
     "output_type": "display_data"
    }
   ],
   "source": [
    "q3.solution()"
   ]
  },
  {
   "cell_type": "markdown",
   "id": "234b04bf",
   "metadata": {
    "papermill": {
     "duration": 0.006518,
     "end_time": "2022-07-03T08:01:51.164714",
     "exception": false,
     "start_time": "2022-07-03T08:01:51.158196",
     "status": "completed"
    },
    "tags": []
   },
   "source": [
    "# 4. (Optional)\n",
    "\n",
    "It may not be fun, but reading and understanding error messages will be an important part of your Python career.\n",
    "\n",
    "Each code cell below contains some commented buggy code. For each cell...\n",
    "\n",
    "1. Read the code and predict what you think will happen when it's run.\n",
    "2. Then uncomment the code and run it to see what happens. (**Tip**: In the kernel editor, you can highlight several lines and press `ctrl`+`/` to toggle commenting.)\n",
    "3. Fix the code (so that it accomplishes its intended purpose without throwing an exception)\n",
    "\n",
    "<!-- TODO: should this be autochecked? Delta is probably pretty small. -->"
   ]
  },
  {
   "cell_type": "code",
   "execution_count": 9,
   "id": "ed29c4cd",
   "metadata": {
    "execution": {
     "iopub.execute_input": "2022-07-03T08:01:51.180336Z",
     "iopub.status.busy": "2022-07-03T08:01:51.179919Z",
     "iopub.status.idle": "2022-07-03T08:01:51.185738Z",
     "shell.execute_reply": "2022-07-03T08:01:51.185042Z"
    },
    "papermill": {
     "duration": 0.016401,
     "end_time": "2022-07-03T08:01:51.187953",
     "exception": false,
     "start_time": "2022-07-03T08:01:51.171552",
     "status": "completed"
    },
    "tags": []
   },
   "outputs": [
    {
     "data": {
      "text/plain": [
       "10.0"
      ]
     },
     "execution_count": 9,
     "metadata": {},
     "output_type": "execute_result"
    }
   ],
   "source": [
    "#round_to_two_places(9.9999)\n",
    "round(9.9999,2)"
   ]
  },
  {
   "cell_type": "code",
   "execution_count": 10,
   "id": "4fb0fad0",
   "metadata": {
    "execution": {
     "iopub.execute_input": "2022-07-03T08:01:51.204631Z",
     "iopub.status.busy": "2022-07-03T08:01:51.203875Z",
     "iopub.status.idle": "2022-07-03T08:01:51.211278Z",
     "shell.execute_reply": "2022-07-03T08:01:51.209928Z"
    },
    "papermill": {
     "duration": 0.018146,
     "end_time": "2022-07-03T08:01:51.213622",
     "exception": false,
     "start_time": "2022-07-03T08:01:51.195476",
     "status": "completed"
    },
    "tags": []
   },
   "outputs": [
    {
     "name": "stdout",
     "output_type": "stream",
     "text": [
      "5\n"
     ]
    }
   ],
   "source": [
    "def smallest_abs(x,y):\n",
    "    #x = -10\n",
    "    #y = 5\n",
    "    x_abs=abs(x)\n",
    "    y_abs=abs(y)\n",
    "    #Which of the two variables above has the smallest absolute value?\n",
    "    return min(x_abs,y_abs)\n",
    "print(smallest_abs(-10,5))"
   ]
  },
  {
   "cell_type": "code",
   "execution_count": 11,
   "id": "a3e5dd4e",
   "metadata": {
    "execution": {
     "iopub.execute_input": "2022-07-03T08:01:51.230231Z",
     "iopub.status.busy": "2022-07-03T08:01:51.229497Z",
     "iopub.status.idle": "2022-07-03T08:01:51.233975Z",
     "shell.execute_reply": "2022-07-03T08:01:51.233244Z"
    },
    "papermill": {
     "duration": 0.01532,
     "end_time": "2022-07-03T08:01:51.236256",
     "exception": false,
     "start_time": "2022-07-03T08:01:51.220936",
     "status": "completed"
    },
    "tags": []
   },
   "outputs": [],
   "source": [
    "# def f(x):\n",
    "#     y = abs(x)\n",
    "# return y\n",
    "\n",
    "# print(f(5))"
   ]
  },
  {
   "cell_type": "markdown",
   "id": "be4901be",
   "metadata": {
    "papermill": {
     "duration": 0.00734,
     "end_time": "2022-07-03T08:01:51.250719",
     "exception": false,
     "start_time": "2022-07-03T08:01:51.243379",
     "status": "completed"
    },
    "tags": []
   },
   "source": [
    "# Keep Going\n",
    "\n",
    "Nice job with the code. Next up, you'll learn about *conditionals*, which you'll need to **[write interesting programs](https://www.kaggle.com/colinmorris/booleans-and-conditionals)**. "
   ]
  },
  {
   "cell_type": "markdown",
   "id": "2293fa3f",
   "metadata": {
    "papermill": {
     "duration": 0.006749,
     "end_time": "2022-07-03T08:01:51.264471",
     "exception": false,
     "start_time": "2022-07-03T08:01:51.257722",
     "status": "completed"
    },
    "tags": []
   },
   "source": [
    "---\n",
    "\n",
    "\n",
    "\n",
    "\n",
    "*Have questions or comments? Visit the [Learn Discussion forum](https://www.kaggle.com/learn-forum/161283) to chat with other Learners.*"
   ]
  }
 ],
 "metadata": {
  "kernelspec": {
   "display_name": "Python 3",
   "language": "python",
   "name": "python3"
  },
  "language_info": {
   "codemirror_mode": {
    "name": "ipython",
    "version": 3
   },
   "file_extension": ".py",
   "mimetype": "text/x-python",
   "name": "python",
   "nbconvert_exporter": "python",
   "pygments_lexer": "ipython3",
   "version": "3.7.12"
  },
  "papermill": {
   "default_parameters": {},
   "duration": 12.464356,
   "end_time": "2022-07-03T08:01:52.094997",
   "environment_variables": {},
   "exception": null,
   "input_path": "__notebook__.ipynb",
   "output_path": "__notebook__.ipynb",
   "parameters": {},
   "start_time": "2022-07-03T08:01:39.630641",
   "version": "2.3.4"
  }
 },
 "nbformat": 4,
 "nbformat_minor": 5
}
