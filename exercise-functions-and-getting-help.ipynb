{
 "cells": [
  {
   "cell_type": "markdown",
   "id": "bc9a9966",
   "metadata": {
    "papermill": {
     "duration": 0.006002,
     "end_time": "2022-08-23T20:23:50.488150",
     "exception": false,
     "start_time": "2022-08-23T20:23:50.482148",
     "status": "completed"
    },
    "tags": []
   },
   "source": [
    "**This notebook is an exercise in the [Python](https://www.kaggle.com/learn/python) course.  You can reference the tutorial at [this link](https://www.kaggle.com/colinmorris/functions-and-getting-help).**\n",
    "\n",
    "---\n"
   ]
  },
  {
   "cell_type": "markdown",
   "id": "ea224897",
   "metadata": {
    "papermill": {
     "duration": 0.004621,
     "end_time": "2022-08-23T20:23:50.497902",
     "exception": false,
     "start_time": "2022-08-23T20:23:50.493281",
     "status": "completed"
    },
    "tags": []
   },
   "source": [
    "Functions are powerful. Try writing some yourself.\n",
    "\n",
    "As before, don't forget to run the setup code below before jumping into question 1."
   ]
  },
  {
   "cell_type": "code",
   "execution_count": 1,
   "id": "fa1434aa",
   "metadata": {
    "_kg_hide-input": true,
    "_kg_hide-output": true,
    "execution": {
     "iopub.execute_input": "2022-08-23T20:23:50.511911Z",
     "iopub.status.busy": "2022-08-23T20:23:50.511173Z",
     "iopub.status.idle": "2022-08-23T20:23:50.581748Z",
     "shell.execute_reply": "2022-08-23T20:23:50.579579Z"
    },
    "papermill": {
     "duration": 0.082737,
     "end_time": "2022-08-23T20:23:50.585746",
     "exception": false,
     "start_time": "2022-08-23T20:23:50.503009",
     "status": "completed"
    },
    "tags": []
   },
   "outputs": [
    {
     "name": "stdout",
     "output_type": "stream",
     "text": [
      "Setup complete.\n"
     ]
    }
   ],
   "source": [
    "# SETUP. You don't need to worry for now about what this code does or how it works.\n",
    "from learntools.core import binder; binder.bind(globals())\n",
    "from learntools.python.ex2 import *\n",
    "print('Setup complete.')"
   ]
  },
  {
   "cell_type": "markdown",
   "id": "3d929288",
   "metadata": {
    "papermill": {
     "duration": 0.004776,
     "end_time": "2022-08-23T20:23:50.596190",
     "exception": false,
     "start_time": "2022-08-23T20:23:50.591414",
     "status": "completed"
    },
    "tags": []
   },
   "source": [
    "# 1.\n",
    "\n",
    "Complete the body of the following function according to its docstring.\n",
    "\n",
    "HINT: Python has a built-in function `round`."
   ]
  },
  {
   "cell_type": "code",
   "execution_count": 2,
   "id": "59efdfd9",
   "metadata": {
    "execution": {
     "iopub.execute_input": "2022-08-23T20:23:50.608695Z",
     "iopub.status.busy": "2022-08-23T20:23:50.607706Z",
     "iopub.status.idle": "2022-08-23T20:23:50.619348Z",
     "shell.execute_reply": "2022-08-23T20:23:50.618041Z"
    },
    "papermill": {
     "duration": 0.020436,
     "end_time": "2022-08-23T20:23:50.621829",
     "exception": false,
     "start_time": "2022-08-23T20:23:50.601393",
     "status": "completed"
    },
    "tags": []
   },
   "outputs": [
    {
     "data": {
      "application/javascript": [
       "parent.postMessage({\"jupyterEvent\": \"custom.exercise_interaction\", \"data\": {\"outcomeType\": 1, \"valueTowardsCompletion\": 0.16666666666666666, \"interactionType\": 1, \"questionType\": 2, \"questionId\": \"1_RoundFunctionProblem\", \"learnToolsVersion\": \"0.3.4\", \"failureMessage\": \"\", \"exceptionClass\": \"\", \"trace\": \"\"}}, \"*\")"
      ],
      "text/plain": [
       "<IPython.core.display.Javascript object>"
      ]
     },
     "metadata": {},
     "output_type": "display_data"
    },
    {
     "data": {
      "text/markdown": [
       "<span style=\"color:#33cc33\">Correct</span>"
      ],
      "text/plain": [
       "Correct"
      ]
     },
     "metadata": {},
     "output_type": "display_data"
    }
   ],
   "source": [
    "def round_to_two_places(num):\n",
    "    \"\"\"Return the given number rounded to two decimal places. \n",
    "    \n",
    "    >>> round_to_two_places(3.14159)\n",
    "    3.14\n",
    "    \"\"\"\n",
    "    #help(round)\n",
    "    return round(num,2)\n",
    "   \n",
    "    pass\n",
    "\n",
    "# Check your answer\n",
    "q1.check()"
   ]
  },
  {
   "cell_type": "code",
   "execution_count": 3,
   "id": "a16f43f0",
   "metadata": {
    "execution": {
     "iopub.execute_input": "2022-08-23T20:23:50.634831Z",
     "iopub.status.busy": "2022-08-23T20:23:50.634030Z",
     "iopub.status.idle": "2022-08-23T20:23:50.642179Z",
     "shell.execute_reply": "2022-08-23T20:23:50.641158Z"
    },
    "papermill": {
     "duration": 0.018094,
     "end_time": "2022-08-23T20:23:50.645268",
     "exception": false,
     "start_time": "2022-08-23T20:23:50.627174",
     "status": "completed"
    },
    "tags": []
   },
   "outputs": [
    {
     "data": {
      "application/javascript": [
       "parent.postMessage({\"jupyterEvent\": \"custom.exercise_interaction\", \"data\": {\"interactionType\": 3, \"questionType\": 2, \"questionId\": \"1_RoundFunctionProblem\", \"learnToolsVersion\": \"0.3.4\", \"valueTowardsCompletion\": 0.0, \"failureMessage\": \"\", \"exceptionClass\": \"\", \"trace\": \"\", \"outcomeType\": 4}}, \"*\")"
      ],
      "text/plain": [
       "<IPython.core.display.Javascript object>"
      ]
     },
     "metadata": {},
     "output_type": "display_data"
    },
    {
     "data": {
      "text/markdown": [
       "<span style=\"color:#33cc99\">Solution:</span> \n",
       "```python\n",
       "return round(num, 2)\n",
       "```"
      ],
      "text/plain": [
       "Solution: \n",
       "```python\n",
       "return round(num, 2)\n",
       "```"
      ]
     },
     "metadata": {},
     "output_type": "display_data"
    }
   ],
   "source": [
    "# Uncomment the following for a hint\n",
    "#q1.hint()\n",
    "# Or uncomment the following to peek at the solution\n",
    "q1.solution()"
   ]
  },
  {
   "cell_type": "markdown",
   "id": "4830d3a1",
   "metadata": {
    "papermill": {
     "duration": 0.005683,
     "end_time": "2022-08-23T20:23:50.657459",
     "exception": false,
     "start_time": "2022-08-23T20:23:50.651776",
     "status": "completed"
    },
    "tags": []
   },
   "source": [
    "# 2.\n",
    "The help for `round` says that `ndigits` (the second argument) may be negative.\n",
    "What do you think will happen when it is? Try some examples in the following cell."
   ]
  },
  {
   "cell_type": "code",
   "execution_count": 4,
   "id": "3c6ab3e0",
   "metadata": {
    "execution": {
     "iopub.execute_input": "2022-08-23T20:23:50.670844Z",
     "iopub.status.busy": "2022-08-23T20:23:50.670384Z",
     "iopub.status.idle": "2022-08-23T20:23:50.678366Z",
     "shell.execute_reply": "2022-08-23T20:23:50.677040Z"
    },
    "papermill": {
     "duration": 0.018064,
     "end_time": "2022-08-23T20:23:50.681172",
     "exception": false,
     "start_time": "2022-08-23T20:23:50.663108",
     "status": "completed"
    },
    "tags": []
   },
   "outputs": [
    {
     "data": {
      "text/plain": [
       "47800.0"
      ]
     },
     "execution_count": 4,
     "metadata": {},
     "output_type": "execute_result"
    }
   ],
   "source": [
    "round(47774.555, -2)"
   ]
  },
  {
   "cell_type": "markdown",
   "id": "8a78f793",
   "metadata": {
    "papermill": {
     "duration": 0.005489,
     "end_time": "2022-08-23T20:23:50.692856",
     "exception": false,
     "start_time": "2022-08-23T20:23:50.687367",
     "status": "completed"
    },
    "tags": []
   },
   "source": [
    "Can you think of a case where this would be useful?  Once you're ready, run the code cell below to see the answer and to receive credit for completing the problem."
   ]
  },
  {
   "cell_type": "code",
   "execution_count": 5,
   "id": "5b12599c",
   "metadata": {
    "execution": {
     "iopub.execute_input": "2022-08-23T20:23:50.707380Z",
     "iopub.status.busy": "2022-08-23T20:23:50.706651Z",
     "iopub.status.idle": "2022-08-23T20:23:50.714930Z",
     "shell.execute_reply": "2022-08-23T20:23:50.713883Z"
    },
    "papermill": {
     "duration": 0.019067,
     "end_time": "2022-08-23T20:23:50.717597",
     "exception": false,
     "start_time": "2022-08-23T20:23:50.698530",
     "status": "completed"
    },
    "tags": []
   },
   "outputs": [
    {
     "data": {
      "application/javascript": [
       "parent.postMessage({\"jupyterEvent\": \"custom.exercise_interaction\", \"data\": {\"interactionType\": 3, \"questionType\": 4, \"questionId\": \"2_RoundNdigitsProblem\", \"learnToolsVersion\": \"0.3.4\", \"valueTowardsCompletion\": 0.0, \"failureMessage\": \"\", \"exceptionClass\": \"\", \"trace\": \"\", \"outcomeType\": 4}}, \"*\")"
      ],
      "text/plain": [
       "<IPython.core.display.Javascript object>"
      ]
     },
     "metadata": {},
     "output_type": "display_data"
    },
    {
     "data": {
      "text/markdown": [
       "<span style=\"color:#33cc99\">Solution:</span> As you've seen, `ndigits=-1` rounds to the nearest 10, `ndigits=-2` rounds to the nearest 100 and so on. Where might this be useful? Suppose we're dealing with large numbers:\n",
       "\n",
       "> The area of Finland is 338,424 km²  \n",
       "> The area of Greenland is 2,166,086 km²\n",
       "\n",
       "We probably don't care whether it's really 338,424, or 338,425, or 338,177. All those digits of accuracy are just distracting. We can chop them off by calling `round()` with `ndigits=-3`:\n",
       "\n",
       "> The area of Finland is 338,000 km²  \n",
       "> The area of Greenland is 2,166,000 km²\n",
       "\n",
       "(We'll talk about how we would get the commas later when we talk about string formatting :))\n"
      ],
      "text/plain": [
       "Solution: As you've seen, `ndigits=-1` rounds to the nearest 10, `ndigits=-2` rounds to the nearest 100 and so on. Where might this be useful? Suppose we're dealing with large numbers:\n",
       "\n",
       "> The area of Finland is 338,424 km²  \n",
       "> The area of Greenland is 2,166,086 km²\n",
       "\n",
       "We probably don't care whether it's really 338,424, or 338,425, or 338,177. All those digits of accuracy are just distracting. We can chop them off by calling `round()` with `ndigits=-3`:\n",
       "\n",
       "> The area of Finland is 338,000 km²  \n",
       "> The area of Greenland is 2,166,000 km²\n",
       "\n",
       "(We'll talk about how we would get the commas later when we talk about string formatting :))"
      ]
     },
     "metadata": {},
     "output_type": "display_data"
    }
   ],
   "source": [
    "# Check your answer (Run this code cell to receive credit!)\n",
    "q2.solution()"
   ]
  },
  {
   "cell_type": "markdown",
   "id": "8185aa27",
   "metadata": {
    "papermill": {
     "duration": 0.005828,
     "end_time": "2022-08-23T20:23:50.731908",
     "exception": false,
     "start_time": "2022-08-23T20:23:50.726080",
     "status": "completed"
    },
    "tags": []
   },
   "source": [
    "# 3.\n",
    "\n",
    "In the previous exercise, the candy-sharing friends Alice, Bob and Carol tried to split candies evenly. For the sake of their friendship, any candies left over would be smashed. For example, if they collectively bring home 91 candies, they'll take 30 each and smash 1.\n",
    "\n",
    "Below is a simple function that will calculate the number of candies to smash for *any* number of total candies.\n",
    "\n",
    "Modify it so that it optionally takes a second argument representing the number of friends the candies are being split between. If no second argument is provided, it should assume 3 friends, as before.\n",
    "\n",
    "Update the docstring to reflect this new behaviour."
   ]
  },
  {
   "cell_type": "code",
   "execution_count": 6,
   "id": "6d70875f",
   "metadata": {
    "execution": {
     "iopub.execute_input": "2022-08-23T20:23:50.746856Z",
     "iopub.status.busy": "2022-08-23T20:23:50.746055Z",
     "iopub.status.idle": "2022-08-23T20:23:50.756175Z",
     "shell.execute_reply": "2022-08-23T20:23:50.755235Z"
    },
    "papermill": {
     "duration": 0.021233,
     "end_time": "2022-08-23T20:23:50.759094",
     "exception": false,
     "start_time": "2022-08-23T20:23:50.737861",
     "status": "completed"
    },
    "tags": []
   },
   "outputs": [
    {
     "data": {
      "application/javascript": [
       "parent.postMessage({\"jupyterEvent\": \"custom.exercise_interaction\", \"data\": {\"outcomeType\": 1, \"valueTowardsCompletion\": 0.16666666666666666, \"interactionType\": 1, \"questionType\": 2, \"questionId\": \"3_CandySmashingFunctionProblem\", \"learnToolsVersion\": \"0.3.4\", \"failureMessage\": \"\", \"exceptionClass\": \"\", \"trace\": \"\"}}, \"*\")"
      ],
      "text/plain": [
       "<IPython.core.display.Javascript object>"
      ]
     },
     "metadata": {},
     "output_type": "display_data"
    },
    {
     "data": {
      "text/markdown": [
       "<span style=\"color:#33cc33\">Correct</span>"
      ],
      "text/plain": [
       "Correct"
      ]
     },
     "metadata": {},
     "output_type": "display_data"
    }
   ],
   "source": [
    "def to_smash(total_candies,n_of_friends=3):\n",
    "    \"\"\"Return the number of leftover candies that must be smashed after distributing\n",
    "    the given number of candies evenly between the number of friends given in the arguments\n",
    "    \n",
    "    >>> to_smash(91)\n",
    "    1\n",
    "    \"\"\"\n",
    "    return total_candies % n_of_friends\n",
    "to_smash(31)\n",
    "# Check your answer\n",
    "q3.check()"
   ]
  },
  {
   "cell_type": "code",
   "execution_count": 7,
   "id": "50a8f4c1",
   "metadata": {
    "execution": {
     "iopub.execute_input": "2022-08-23T20:23:50.775264Z",
     "iopub.status.busy": "2022-08-23T20:23:50.774558Z",
     "iopub.status.idle": "2022-08-23T20:23:50.779099Z",
     "shell.execute_reply": "2022-08-23T20:23:50.778157Z"
    },
    "papermill": {
     "duration": 0.016784,
     "end_time": "2022-08-23T20:23:50.782413",
     "exception": false,
     "start_time": "2022-08-23T20:23:50.765629",
     "status": "completed"
    },
    "tags": []
   },
   "outputs": [],
   "source": [
    "#q3.hint()"
   ]
  },
  {
   "cell_type": "code",
   "execution_count": 8,
   "id": "4c176a8d",
   "metadata": {
    "execution": {
     "iopub.execute_input": "2022-08-23T20:23:50.798908Z",
     "iopub.status.busy": "2022-08-23T20:23:50.798262Z",
     "iopub.status.idle": "2022-08-23T20:23:50.806903Z",
     "shell.execute_reply": "2022-08-23T20:23:50.805847Z"
    },
    "papermill": {
     "duration": 0.020707,
     "end_time": "2022-08-23T20:23:50.809400",
     "exception": false,
     "start_time": "2022-08-23T20:23:50.788693",
     "status": "completed"
    },
    "tags": []
   },
   "outputs": [
    {
     "data": {
      "application/javascript": [
       "parent.postMessage({\"jupyterEvent\": \"custom.exercise_interaction\", \"data\": {\"interactionType\": 3, \"questionType\": 2, \"questionId\": \"3_CandySmashingFunctionProblem\", \"learnToolsVersion\": \"0.3.4\", \"valueTowardsCompletion\": 0.0, \"failureMessage\": \"\", \"exceptionClass\": \"\", \"trace\": \"\", \"outcomeType\": 4}}, \"*\")"
      ],
      "text/plain": [
       "<IPython.core.display.Javascript object>"
      ]
     },
     "metadata": {},
     "output_type": "display_data"
    },
    {
     "data": {
      "text/markdown": [
       "<span style=\"color:#33cc99\">Solution:</span> \n",
       "```python\n",
       "def to_smash(total_candies, n_friends=3):\n",
       "    return total_candies % n_friends\n",
       "```"
      ],
      "text/plain": [
       "Solution: \n",
       "```python\n",
       "def to_smash(total_candies, n_friends=3):\n",
       "    return total_candies % n_friends\n",
       "```"
      ]
     },
     "metadata": {},
     "output_type": "display_data"
    }
   ],
   "source": [
    "q3.solution()"
   ]
  },
  {
   "cell_type": "markdown",
   "id": "e3c7e9f7",
   "metadata": {
    "papermill": {
     "duration": 0.009765,
     "end_time": "2022-08-23T20:23:50.828212",
     "exception": false,
     "start_time": "2022-08-23T20:23:50.818447",
     "status": "completed"
    },
    "tags": []
   },
   "source": [
    "# 4. (Optional)\n",
    "\n",
    "It may not be fun, but reading and understanding error messages will be an important part of your Python career.\n",
    "\n",
    "Each code cell below contains some commented buggy code. For each cell...\n",
    "\n",
    "1. Read the code and predict what you think will happen when it's run.\n",
    "2. Then uncomment the code and run it to see what happens. (**Tip**: In the kernel editor, you can highlight several lines and press `ctrl`+`/` to toggle commenting.)\n",
    "3. Fix the code (so that it accomplishes its intended purpose without throwing an exception)\n",
    "\n",
    "<!-- TODO: should this be autochecked? Delta is probably pretty small. -->"
   ]
  },
  {
   "cell_type": "code",
   "execution_count": 9,
   "id": "31ada8f3",
   "metadata": {
    "execution": {
     "iopub.execute_input": "2022-08-23T20:23:50.846892Z",
     "iopub.status.busy": "2022-08-23T20:23:50.845425Z",
     "iopub.status.idle": "2022-08-23T20:23:50.856219Z",
     "shell.execute_reply": "2022-08-23T20:23:50.854130Z"
    },
    "papermill": {
     "duration": 0.024029,
     "end_time": "2022-08-23T20:23:50.860214",
     "exception": false,
     "start_time": "2022-08-23T20:23:50.836185",
     "status": "completed"
    },
    "tags": []
   },
   "outputs": [
    {
     "data": {
      "text/plain": [
       "10.0"
      ]
     },
     "execution_count": 9,
     "metadata": {},
     "output_type": "execute_result"
    }
   ],
   "source": [
    "#round_to_two_places(9.9999)\n",
    "round(9.9999,2)"
   ]
  },
  {
   "cell_type": "code",
   "execution_count": 10,
   "id": "a34321cf",
   "metadata": {
    "execution": {
     "iopub.execute_input": "2022-08-23T20:23:50.886896Z",
     "iopub.status.busy": "2022-08-23T20:23:50.886267Z",
     "iopub.status.idle": "2022-08-23T20:23:50.900372Z",
     "shell.execute_reply": "2022-08-23T20:23:50.898919Z"
    },
    "papermill": {
     "duration": 0.031411,
     "end_time": "2022-08-23T20:23:50.903228",
     "exception": false,
     "start_time": "2022-08-23T20:23:50.871817",
     "status": "completed"
    },
    "tags": []
   },
   "outputs": [
    {
     "name": "stdout",
     "output_type": "stream",
     "text": [
      "5\n"
     ]
    }
   ],
   "source": [
    "def smallest_abs(x,y):\n",
    "    #x = -10\n",
    "    #y = 5\n",
    "    x_abs=abs(x)\n",
    "    y_abs=abs(y)\n",
    "    #Which of the two variables above has the smallest absolute value?\n",
    "    return min(x_abs,y_abs)\n",
    "print(smallest_abs(-10,5))"
   ]
  },
  {
   "cell_type": "code",
   "execution_count": 11,
   "id": "cb893eb1",
   "metadata": {
    "execution": {
     "iopub.execute_input": "2022-08-23T20:23:50.923687Z",
     "iopub.status.busy": "2022-08-23T20:23:50.922836Z",
     "iopub.status.idle": "2022-08-23T20:23:50.928427Z",
     "shell.execute_reply": "2022-08-23T20:23:50.927037Z"
    },
    "papermill": {
     "duration": 0.018114,
     "end_time": "2022-08-23T20:23:50.932071",
     "exception": false,
     "start_time": "2022-08-23T20:23:50.913957",
     "status": "completed"
    },
    "tags": []
   },
   "outputs": [],
   "source": [
    "# def f(x):\n",
    "#     y = abs(x)\n",
    "# return y\n",
    "\n",
    "# print(f(5))"
   ]
  },
  {
   "cell_type": "markdown",
   "id": "fe7852e2",
   "metadata": {
    "papermill": {
     "duration": 0.009374,
     "end_time": "2022-08-23T20:23:50.951633",
     "exception": false,
     "start_time": "2022-08-23T20:23:50.942259",
     "status": "completed"
    },
    "tags": []
   },
   "source": [
    "# Keep Going\n",
    "\n",
    "Nice job with the code. Next up, you'll learn about *conditionals*, which you'll need to **[write interesting programs](https://www.kaggle.com/colinmorris/booleans-and-conditionals)**. "
   ]
  },
  {
   "cell_type": "markdown",
   "id": "543ad393",
   "metadata": {
    "papermill": {
     "duration": 0.008284,
     "end_time": "2022-08-23T20:23:50.967702",
     "exception": false,
     "start_time": "2022-08-23T20:23:50.959418",
     "status": "completed"
    },
    "tags": []
   },
   "source": [
    "---\n",
    "\n",
    "\n",
    "\n",
    "\n",
    "*Have questions or comments? Visit the [Learn Discussion forum](https://www.kaggle.com/learn-forum/161283) to chat with other Learners.*"
   ]
  }
 ],
 "metadata": {
  "kernelspec": {
   "display_name": "Python 3",
   "language": "python",
   "name": "python3"
  },
  "language_info": {
   "codemirror_mode": {
    "name": "ipython",
    "version": 3
   },
   "file_extension": ".py",
   "mimetype": "text/x-python",
   "name": "python",
   "nbconvert_exporter": "python",
   "pygments_lexer": "ipython3",
   "version": "3.7.12"
  },
  "papermill": {
   "default_parameters": {},
   "duration": 11.49339,
   "end_time": "2022-08-23T20:23:51.698797",
   "environment_variables": {},
   "exception": null,
   "input_path": "__notebook__.ipynb",
   "output_path": "__notebook__.ipynb",
   "parameters": {},
   "start_time": "2022-08-23T20:23:40.205407",
   "version": "2.3.4"
  }
 },
 "nbformat": 4,
 "nbformat_minor": 5
}
