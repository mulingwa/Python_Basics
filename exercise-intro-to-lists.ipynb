{
 "cells": [
  {
   "cell_type": "markdown",
   "id": "3e3c943b",
   "metadata": {
    "papermill": {
     "duration": 0.007519,
     "end_time": "2022-08-23T18:31:55.277764",
     "exception": false,
     "start_time": "2022-08-23T18:31:55.270245",
     "status": "completed"
    },
    "tags": []
   },
   "source": [
    "**This notebook is an exercise in the [Intro to Programming](https://www.kaggle.com/learn/intro-to-programming) course.  You can reference the tutorial at [this link](https://www.kaggle.com/alexisbcook/intro-to-lists).**\n",
    "\n",
    "---\n"
   ]
  },
  {
   "cell_type": "markdown",
   "id": "8ef9f669",
   "metadata": {
    "papermill": {
     "duration": 0.005789,
     "end_time": "2022-08-23T18:31:55.289782",
     "exception": false,
     "start_time": "2022-08-23T18:31:55.283993",
     "status": "completed"
    },
    "tags": []
   },
   "source": [
    "In the tutorial, you learned how to define and modify Python lists.  In this exercise, you will use your new knowledge to solve several problems.\n",
    "\n",
    "# Set up the notebook\n",
    "\n",
    "Run the next code cell without changes to set up the notebook."
   ]
  },
  {
   "cell_type": "code",
   "execution_count": 1,
   "id": "5b23ee0a",
   "metadata": {
    "execution": {
     "iopub.execute_input": "2022-08-23T18:31:55.304152Z",
     "iopub.status.busy": "2022-08-23T18:31:55.303667Z",
     "iopub.status.idle": "2022-08-23T18:31:55.371179Z",
     "shell.execute_reply": "2022-08-23T18:31:55.369536Z"
    },
    "papermill": {
     "duration": 0.07857,
     "end_time": "2022-08-23T18:31:55.374495",
     "exception": false,
     "start_time": "2022-08-23T18:31:55.295925",
     "status": "completed"
    },
    "tags": []
   },
   "outputs": [
    {
     "name": "stdout",
     "output_type": "stream",
     "text": [
      "Setup complete.\n"
     ]
    }
   ],
   "source": [
    "from learntools.core import binder\n",
    "binder.bind(globals())\n",
    "from learntools.intro_to_programming.ex5 import *\n",
    "print('Setup complete.')"
   ]
  },
  {
   "cell_type": "markdown",
   "id": "9053d378",
   "metadata": {
    "papermill": {
     "duration": 0.006591,
     "end_time": "2022-08-23T18:31:55.387633",
     "exception": false,
     "start_time": "2022-08-23T18:31:55.381042",
     "status": "completed"
    },
    "tags": []
   },
   "source": [
    "# Question 1\n",
    "\n",
    "You own a restaurant with five food dishes, organized in the Python list `menu` below.  One day, you decide to:\n",
    "- remove bean soup (`'bean soup'`) from the menu, and\n",
    "- add roasted beet salad (`'roasted beet salad'`) to the menu.\n",
    "\n",
    "Implement this change to the list below.  While completing this task, \n",
    "- do not change the line that creates the `menu` list.  \n",
    "- your answer should use `.remove()` and `.append()`.  "
   ]
  },
  {
   "cell_type": "code",
   "execution_count": 2,
   "id": "44f67b6f",
   "metadata": {
    "execution": {
     "iopub.execute_input": "2022-08-23T18:31:55.401992Z",
     "iopub.status.busy": "2022-08-23T18:31:55.401481Z",
     "iopub.status.idle": "2022-08-23T18:31:55.415512Z",
     "shell.execute_reply": "2022-08-23T18:31:55.414383Z"
    },
    "papermill": {
     "duration": 0.024018,
     "end_time": "2022-08-23T18:31:55.417933",
     "exception": false,
     "start_time": "2022-08-23T18:31:55.393915",
     "status": "completed"
    },
    "tags": []
   },
   "outputs": [
    {
     "data": {
      "application/javascript": [
       "parent.postMessage({\"jupyterEvent\": \"custom.exercise_interaction\", \"data\": {\"outcomeType\": 1, \"valueTowardsCompletion\": 0.2, \"interactionType\": 1, \"questionType\": 2, \"questionId\": \"1_FoodMenu\", \"learnToolsVersion\": \"0.3.4\", \"failureMessage\": \"\", \"exceptionClass\": \"\", \"trace\": \"\"}}, \"*\")"
      ],
      "text/plain": [
       "<IPython.core.display.Javascript object>"
      ]
     },
     "metadata": {},
     "output_type": "display_data"
    },
    {
     "data": {
      "text/markdown": [
       "<span style=\"color:#33cc33\">Correct</span>"
      ],
      "text/plain": [
       "Correct"
      ]
     },
     "metadata": {},
     "output_type": "display_data"
    }
   ],
   "source": [
    "# Do not change: Initial menu for your restaurant\n",
    "menu = ['stewed meat with onions', 'bean soup', 'risotto with trout and shrimp',\n",
    "       'fish soup with cream and onion', 'gyro']\n",
    "\n",
    "# TODO: remove 'bean soup', and add 'roasted beet salad' to the end of the menu\n",
    "____\n",
    "del(menu[1])\n",
    "menu.append(\"roasted beet salad\")\n",
    "\n",
    "# Do not change: Check your answer\n",
    "q1.check()"
   ]
  },
  {
   "cell_type": "code",
   "execution_count": 3,
   "id": "60272b38",
   "metadata": {
    "execution": {
     "iopub.execute_input": "2022-08-23T18:31:55.433024Z",
     "iopub.status.busy": "2022-08-23T18:31:55.432633Z",
     "iopub.status.idle": "2022-08-23T18:31:55.436467Z",
     "shell.execute_reply": "2022-08-23T18:31:55.435611Z"
    },
    "papermill": {
     "duration": 0.013813,
     "end_time": "2022-08-23T18:31:55.438554",
     "exception": false,
     "start_time": "2022-08-23T18:31:55.424741",
     "status": "completed"
    },
    "tags": []
   },
   "outputs": [],
   "source": [
    "# Uncomment to see a hint\n",
    "#q1.hint()\n",
    "\n",
    "# Uncomment to see the solution\n",
    "#q1.solution()"
   ]
  },
  {
   "cell_type": "markdown",
   "id": "ffc3a50e",
   "metadata": {
    "papermill": {
     "duration": 0.006103,
     "end_time": "2022-08-23T18:31:55.451232",
     "exception": false,
     "start_time": "2022-08-23T18:31:55.445129",
     "status": "completed"
    },
    "tags": []
   },
   "source": [
    "# Question 2\n",
    "\n",
    "The list `num_customers` contains the number of customers who came into your restaurant every day over the last month (which lasted thirty days).  Fill in values for each of the following:\n",
    "- `avg_first_seven` - average number of customers who visited in the first seven days\n",
    "- `avg_last_seven` - average number of customers who visited in the last seven days\n",
    "- `max_month` - number of customers on the day that got the most customers in the last month\n",
    "- `min_month` - number of customers on the day that got the least customers in the last month\n",
    "\n",
    "Answer this question by writing code.  For instance, if you have to find the minimum value in a list, use `min()` instead of scanning for the smallest value and directly filling in a number."
   ]
  },
  {
   "cell_type": "code",
   "execution_count": 4,
   "id": "695f6b89",
   "metadata": {
    "execution": {
     "iopub.execute_input": "2022-08-23T18:31:55.466632Z",
     "iopub.status.busy": "2022-08-23T18:31:55.465863Z",
     "iopub.status.idle": "2022-08-23T18:31:55.476989Z",
     "shell.execute_reply": "2022-08-23T18:31:55.475909Z"
    },
    "papermill": {
     "duration": 0.021545,
     "end_time": "2022-08-23T18:31:55.479291",
     "exception": false,
     "start_time": "2022-08-23T18:31:55.457746",
     "status": "completed"
    },
    "tags": []
   },
   "outputs": [
    {
     "name": "stdout",
     "output_type": "stream",
     "text": [
      "157.0\n"
     ]
    },
    {
     "data": {
      "application/javascript": [
       "parent.postMessage({\"jupyterEvent\": \"custom.exercise_interaction\", \"data\": {\"outcomeType\": 1, \"valueTowardsCompletion\": 0.2, \"interactionType\": 1, \"questionType\": 1, \"questionId\": \"2_NumCustomers\", \"learnToolsVersion\": \"0.3.4\", \"failureMessage\": \"\", \"exceptionClass\": \"\", \"trace\": \"\"}}, \"*\")"
      ],
      "text/plain": [
       "<IPython.core.display.Javascript object>"
      ]
     },
     "metadata": {},
     "output_type": "display_data"
    },
    {
     "data": {
      "text/markdown": [
       "<span style=\"color:#33cc33\">Correct</span>"
      ],
      "text/plain": [
       "Correct"
      ]
     },
     "metadata": {},
     "output_type": "display_data"
    }
   ],
   "source": [
    "# Do not change: Number of customers each day for the last month\n",
    "num_customers = [137, 147, 135, 128, 170, 174, 165, 146, 126, 159,\n",
    "                 141, 148, 132, 147, 168, 153, 170, 161, 148, 152,\n",
    "                 141, 151, 131, 149, 164, 163, 143, 143, 166, 171]\n",
    "\n",
    "# TODO: Fill in values for the variables below\n",
    "avg_first_seven = (sum(num_customers[:7]))/7\n",
    "avg_last_seven = (sum(num_customers[23:]))/7\n",
    "print(avg_last_seven)\n",
    "max_month = max(num_customers)\n",
    "min_month = min(num_customers)\n",
    "\n",
    "# Do not change: Check your answer\n",
    "q2.check()"
   ]
  },
  {
   "cell_type": "code",
   "execution_count": 5,
   "id": "c3744b28",
   "metadata": {
    "execution": {
     "iopub.execute_input": "2022-08-23T18:31:55.494480Z",
     "iopub.status.busy": "2022-08-23T18:31:55.494093Z",
     "iopub.status.idle": "2022-08-23T18:31:55.498085Z",
     "shell.execute_reply": "2022-08-23T18:31:55.497137Z"
    },
    "papermill": {
     "duration": 0.014451,
     "end_time": "2022-08-23T18:31:55.500402",
     "exception": false,
     "start_time": "2022-08-23T18:31:55.485951",
     "status": "completed"
    },
    "tags": []
   },
   "outputs": [],
   "source": [
    "# Uncomment to see a hint\n",
    "#q2.hint()\n",
    "\n",
    "# Uncomment to see the solution\n",
    "#q2.solution()"
   ]
  },
  {
   "cell_type": "markdown",
   "id": "96228eca",
   "metadata": {
    "papermill": {
     "duration": 0.006466,
     "end_time": "2022-08-23T18:31:55.513806",
     "exception": false,
     "start_time": "2022-08-23T18:31:55.507340",
     "status": "completed"
    },
    "tags": []
   },
   "source": [
    "# Question 3\n",
    "\n",
    "In the tutorial, we gave an example of a Python string with information that was better as a list."
   ]
  },
  {
   "cell_type": "code",
   "execution_count": 6,
   "id": "cfc387aa",
   "metadata": {
    "execution": {
     "iopub.execute_input": "2022-08-23T18:31:55.529711Z",
     "iopub.status.busy": "2022-08-23T18:31:55.528928Z",
     "iopub.status.idle": "2022-08-23T18:31:55.533659Z",
     "shell.execute_reply": "2022-08-23T18:31:55.532835Z"
    },
    "papermill": {
     "duration": 0.015357,
     "end_time": "2022-08-23T18:31:55.535837",
     "exception": false,
     "start_time": "2022-08-23T18:31:55.520480",
     "status": "completed"
    },
    "tags": []
   },
   "outputs": [],
   "source": [
    "flowers = \"pink primrose,hard-leaved pocket orchid,canterbury bells,sweet pea,english marigold,tiger lily,moon orchid,bird of paradise,monkshood,globe thistle\""
   ]
  },
  {
   "cell_type": "markdown",
   "id": "ed115565",
   "metadata": {
    "papermill": {
     "duration": 0.006867,
     "end_time": "2022-08-23T18:31:55.549915",
     "exception": false,
     "start_time": "2022-08-23T18:31:55.543048",
     "status": "completed"
    },
    "tags": []
   },
   "source": [
    "You can actually use Python to quickly turn this string into a list with `.split()`.  In the parentheses, we need to provide the character should be used to mark the end of one list item and the beginning of another, and enclose it in quotation marks.  In this case, that character is a comma."
   ]
  },
  {
   "cell_type": "code",
   "execution_count": 7,
   "id": "129dabee",
   "metadata": {
    "execution": {
     "iopub.execute_input": "2022-08-23T18:31:55.565984Z",
     "iopub.status.busy": "2022-08-23T18:31:55.565171Z",
     "iopub.status.idle": "2022-08-23T18:31:55.571548Z",
     "shell.execute_reply": "2022-08-23T18:31:55.570527Z"
    },
    "papermill": {
     "duration": 0.01827,
     "end_time": "2022-08-23T18:31:55.575042",
     "exception": false,
     "start_time": "2022-08-23T18:31:55.556772",
     "status": "completed"
    },
    "tags": []
   },
   "outputs": [
    {
     "name": "stdout",
     "output_type": "stream",
     "text": [
      "['pink primrose', 'hard-leaved pocket orchid', 'canterbury bells', 'sweet pea', 'english marigold', 'tiger lily', 'moon orchid', 'bird of paradise', 'monkshood', 'globe thistle']\n"
     ]
    }
   ],
   "source": [
    " print(flowers.split(\",\"))"
   ]
  },
  {
   "cell_type": "markdown",
   "id": "c377fce0",
   "metadata": {
    "papermill": {
     "duration": 0.00659,
     "end_time": "2022-08-23T18:31:55.590144",
     "exception": false,
     "start_time": "2022-08-23T18:31:55.583554",
     "status": "completed"
    },
    "tags": []
   },
   "source": [
    "Now it is your turn to try this out!  Create two Python lists:\n",
    "- `letters` should be a Python list where each entry is an uppercase letter of the English alphabet.  For instance, the first two entries should be `\"A\"` and `\"B\"`, and the final two entries should be `\"Y\"` and `\"Z\"`.  Use the string `alphabet` to create this list.\n",
    "- `address` should be a Python list where each row in `address` is a different item in the list.  Currently, each row in `address` is separated by a comma. "
   ]
  },
  {
   "cell_type": "code",
   "execution_count": 8,
   "id": "8f5ab506",
   "metadata": {
    "execution": {
     "iopub.execute_input": "2022-08-23T18:31:55.606237Z",
     "iopub.status.busy": "2022-08-23T18:31:55.605546Z",
     "iopub.status.idle": "2022-08-23T18:31:55.614586Z",
     "shell.execute_reply": "2022-08-23T18:31:55.613600Z"
    },
    "papermill": {
     "duration": 0.01955,
     "end_time": "2022-08-23T18:31:55.616712",
     "exception": false,
     "start_time": "2022-08-23T18:31:55.597162",
     "status": "completed"
    },
    "tags": []
   },
   "outputs": [
    {
     "data": {
      "application/javascript": [
       "parent.postMessage({\"jupyterEvent\": \"custom.exercise_interaction\", \"data\": {\"outcomeType\": 1, \"valueTowardsCompletion\": 0.2, \"interactionType\": 1, \"questionType\": 1, \"questionId\": \"3_SplitString\", \"learnToolsVersion\": \"0.3.4\", \"failureMessage\": \"\", \"exceptionClass\": \"\", \"trace\": \"\"}}, \"*\")"
      ],
      "text/plain": [
       "<IPython.core.display.Javascript object>"
      ]
     },
     "metadata": {},
     "output_type": "display_data"
    },
    {
     "data": {
      "text/markdown": [
       "<span style=\"color:#33cc33\">Correct</span>"
      ],
      "text/plain": [
       "Correct"
      ]
     },
     "metadata": {},
     "output_type": "display_data"
    }
   ],
   "source": [
    "# DO not change: Define two Python strings\n",
    "alphabet = \"A.B.C.D.E.F.G.H.I.J.K.L.M.N.O.P.Q.R.S.T.U.V.W.X.Y.Z\"\n",
    "address = \"Mr. H. Potter,The cupboard under the Stairs,4 Privet Drive,Little Whinging,Surrey\"\n",
    "\n",
    "# TODO: Convert strings into Python lists\n",
    "letters = alphabet.split(\".\")\n",
    "formatted_address = address.split(\",\")\n",
    "\n",
    "# Do not change: Check your answer\n",
    "q3.check()"
   ]
  },
  {
   "cell_type": "code",
   "execution_count": 9,
   "id": "e33dcc8e",
   "metadata": {
    "execution": {
     "iopub.execute_input": "2022-08-23T18:31:55.633003Z",
     "iopub.status.busy": "2022-08-23T18:31:55.632010Z",
     "iopub.status.idle": "2022-08-23T18:31:55.636367Z",
     "shell.execute_reply": "2022-08-23T18:31:55.635501Z"
    },
    "papermill": {
     "duration": 0.014987,
     "end_time": "2022-08-23T18:31:55.638758",
     "exception": false,
     "start_time": "2022-08-23T18:31:55.623771",
     "status": "completed"
    },
    "tags": []
   },
   "outputs": [],
   "source": [
    "# Uncomment to see a hint\n",
    "#q3.hint()\n",
    "\n",
    "# Uncomment to see the solution\n",
    "#q3.solution()"
   ]
  },
  {
   "cell_type": "markdown",
   "id": "66a019a7",
   "metadata": {
    "papermill": {
     "duration": 0.007067,
     "end_time": "2022-08-23T18:31:55.653436",
     "exception": false,
     "start_time": "2022-08-23T18:31:55.646369",
     "status": "completed"
    },
    "tags": []
   },
   "source": [
    "# Question 4\n",
    "\n",
    "In the Python course, you'll learn all about **list comprehensions**, which allow you to create a list based on the values in another list.  In this question, you'll get a brief preview of how they work.\n",
    "\n",
    "Say we're working with the list below."
   ]
  },
  {
   "cell_type": "code",
   "execution_count": 10,
   "id": "251dfb5d",
   "metadata": {
    "execution": {
     "iopub.execute_input": "2022-08-23T18:31:55.670413Z",
     "iopub.status.busy": "2022-08-23T18:31:55.669573Z",
     "iopub.status.idle": "2022-08-23T18:31:55.674829Z",
     "shell.execute_reply": "2022-08-23T18:31:55.673710Z"
    },
    "papermill": {
     "duration": 0.016482,
     "end_time": "2022-08-23T18:31:55.677408",
     "exception": false,
     "start_time": "2022-08-23T18:31:55.660926",
     "status": "completed"
    },
    "tags": []
   },
   "outputs": [],
   "source": [
    "test_ratings = [1, 2, 3, 4, 5]"
   ]
  },
  {
   "cell_type": "markdown",
   "id": "eb426166",
   "metadata": {
    "papermill": {
     "duration": 0.00678,
     "end_time": "2022-08-23T18:31:55.691536",
     "exception": false,
     "start_time": "2022-08-23T18:31:55.684756",
     "status": "completed"
    },
    "tags": []
   },
   "source": [
    "Then we can use this list (`test_ratings`) to create a new list (`test_liked`) where each item has been turned into a boolean, depending on whether or not the item is greater than or equal to four."
   ]
  },
  {
   "cell_type": "code",
   "execution_count": 11,
   "id": "4caee813",
   "metadata": {
    "execution": {
     "iopub.execute_input": "2022-08-23T18:31:55.707519Z",
     "iopub.status.busy": "2022-08-23T18:31:55.707086Z",
     "iopub.status.idle": "2022-08-23T18:31:55.712458Z",
     "shell.execute_reply": "2022-08-23T18:31:55.711405Z"
    },
    "papermill": {
     "duration": 0.016399,
     "end_time": "2022-08-23T18:31:55.715115",
     "exception": false,
     "start_time": "2022-08-23T18:31:55.698716",
     "status": "completed"
    },
    "tags": []
   },
   "outputs": [
    {
     "name": "stdout",
     "output_type": "stream",
     "text": [
      "[False, False, False, True, True]\n"
     ]
    }
   ],
   "source": [
    "test_liked = [i>=4 for i in test_ratings]\n",
    "print(test_liked)"
   ]
  },
  {
   "cell_type": "markdown",
   "id": "2e2bb733",
   "metadata": {
    "papermill": {
     "duration": 0.007413,
     "end_time": "2022-08-23T18:31:55.730336",
     "exception": false,
     "start_time": "2022-08-23T18:31:55.722923",
     "status": "completed"
    },
    "tags": []
   },
   "source": [
    "In this question, you'll use this list comprehension to define a function `percentage_liked()` that takes one argument as input:\n",
    "- `ratings`: list of ratings that people gave to a movie, where each rating is a number between 1-5, inclusive\n",
    "\n",
    "We say someone liked the movie, if they gave a rating of either 4 or 5.  Your function should return the percentage of people who liked the movie.\n",
    "\n",
    "For instance, if we supply a value of `[1, 2, 3, 4, 5, 4, 5, 1]`, then 50% (4/8) of the people liked the movie, and the function should return `0.5`.\n",
    "\n",
    "Part of the function has already been completed for you.  You need only use `list_liked` to calculate `percentage_liked`."
   ]
  },
  {
   "cell_type": "code",
   "execution_count": 12,
   "id": "2ba7fead",
   "metadata": {
    "execution": {
     "iopub.execute_input": "2022-08-23T18:31:55.747541Z",
     "iopub.status.busy": "2022-08-23T18:31:55.746617Z",
     "iopub.status.idle": "2022-08-23T18:31:55.757541Z",
     "shell.execute_reply": "2022-08-23T18:31:55.756657Z"
    },
    "papermill": {
     "duration": 0.022019,
     "end_time": "2022-08-23T18:31:55.759780",
     "exception": false,
     "start_time": "2022-08-23T18:31:55.737761",
     "status": "completed"
    },
    "tags": []
   },
   "outputs": [
    {
     "data": {
      "application/javascript": [
       "parent.postMessage({\"jupyterEvent\": \"custom.exercise_interaction\", \"data\": {\"outcomeType\": 1, \"valueTowardsCompletion\": 0.2, \"interactionType\": 1, \"questionType\": 2, \"questionId\": \"4_PercentageLiked\", \"learnToolsVersion\": \"0.3.4\", \"failureMessage\": \"\", \"exceptionClass\": \"\", \"trace\": \"\"}}, \"*\")"
      ],
      "text/plain": [
       "<IPython.core.display.Javascript object>"
      ]
     },
     "metadata": {},
     "output_type": "display_data"
    },
    {
     "data": {
      "text/markdown": [
       "<span style=\"color:#33cc33\">Correct</span>"
      ],
      "text/plain": [
       "Correct"
      ]
     },
     "metadata": {},
     "output_type": "display_data"
    }
   ],
   "source": [
    "\n",
    "def percentage_liked(ratings):\n",
    "    list_liked = [i>=4 for i in ratings]\n",
    "    # TODO: Complete the function\n",
    "    liked_rating = (sum(list_liked))\n",
    "    #print(total_rating)\n",
    "    percentage_liked = liked_rating / len(list_liked)\n",
    "    return percentage_liked\n",
    "\n",
    "# Do not change: should return 0.5\n",
    "percentage_liked([1, 2, 3, 4, 5, 4, 5, 1])\n",
    "\n",
    "# Do not change: Check your answer\n",
    "q4.check()"
   ]
  },
  {
   "cell_type": "code",
   "execution_count": 13,
   "id": "aa2cd108",
   "metadata": {
    "execution": {
     "iopub.execute_input": "2022-08-23T18:31:55.777284Z",
     "iopub.status.busy": "2022-08-23T18:31:55.776581Z",
     "iopub.status.idle": "2022-08-23T18:31:55.781613Z",
     "shell.execute_reply": "2022-08-23T18:31:55.780053Z"
    },
    "papermill": {
     "duration": 0.016674,
     "end_time": "2022-08-23T18:31:55.784022",
     "exception": false,
     "start_time": "2022-08-23T18:31:55.767348",
     "status": "completed"
    },
    "tags": []
   },
   "outputs": [],
   "source": [
    "# Uncomment to see a hint\n",
    "#q4.hint()\n",
    "\n",
    "# Uncomment to see the solution\n",
    "#q4.solution()"
   ]
  },
  {
   "cell_type": "markdown",
   "id": "91346bcc",
   "metadata": {
    "papermill": {
     "duration": 0.007438,
     "end_time": "2022-08-23T18:31:55.799071",
     "exception": false,
     "start_time": "2022-08-23T18:31:55.791633",
     "status": "completed"
    },
    "tags": []
   },
   "source": [
    "# 🌶️ Question 5\n",
    " \n",
    "Say you're doing analytics for a website.  You need to write a function that returns the percentage growth in the total number of users relative to a specified number of years ago.\n",
    "\n",
    "Your function `percentage_growth()` should take two arguments as input:\n",
    "- `num_users` = Python list with the total number of users each year.  So `num_users[0]` is the total number of users in the first year, `num_users[1]` is the total number of users in the second year, and so on.  The final entry in the list gives the total number of users in the most recently completed year.\n",
    "- `yrs_ago` = number of years to go back in time when calculating the growth percentage\n",
    "\n",
    "For instance, say `num_users = [920344, 1043553, 1204334, 1458996, 1503323, 1593432, 1623463, 1843064, 1930992, 2001078]`.\n",
    "- if `yrs_ago = 1`, we want the function to return a value of about `0.036`. This corresponds to a percentage growth of approximately 3.6%, calculated as (2001078 - 1930992)/1930992.\n",
    "- if `years_ago = 7`, we would want to return approximately `0.66`.  This corresponds to a percentage growth of approximately 66%, calculated as (2001078 - 1204334)/1204334.\n",
    "\n",
    "Your coworker sent you a draft of a function, but it doesn't seem to be doing the correct calculation.  Can you figure out what has gone wrong and make the needed changes?"
   ]
  },
  {
   "cell_type": "code",
   "execution_count": 14,
   "id": "8d4b2e0b",
   "metadata": {
    "execution": {
     "iopub.execute_input": "2022-08-23T18:31:55.816266Z",
     "iopub.status.busy": "2022-08-23T18:31:55.815840Z",
     "iopub.status.idle": "2022-08-23T18:31:55.828589Z",
     "shell.execute_reply": "2022-08-23T18:31:55.826861Z"
    },
    "papermill": {
     "duration": 0.024002,
     "end_time": "2022-08-23T18:31:55.831058",
     "exception": false,
     "start_time": "2022-08-23T18:31:55.807056",
     "status": "completed"
    },
    "tags": []
   },
   "outputs": [
    {
     "name": "stdout",
     "output_type": "stream",
     "text": [
      "0.03629533421163837\n",
      "0.6615639847417742\n"
     ]
    },
    {
     "data": {
      "application/javascript": [
       "parent.postMessage({\"jupyterEvent\": \"custom.exercise_interaction\", \"data\": {\"outcomeType\": 1, \"valueTowardsCompletion\": 0.2, \"interactionType\": 1, \"questionType\": 2, \"questionId\": \"5_WebsiteAnalytics\", \"learnToolsVersion\": \"0.3.4\", \"failureMessage\": \"\", \"exceptionClass\": \"\", \"trace\": \"\"}}, \"*\")"
      ],
      "text/plain": [
       "<IPython.core.display.Javascript object>"
      ]
     },
     "metadata": {},
     "output_type": "display_data"
    },
    {
     "data": {
      "text/markdown": [
       "<span style=\"color:#33cc33\">Correct</span>"
      ],
      "text/plain": [
       "Correct"
      ]
     },
     "metadata": {},
     "output_type": "display_data"
    }
   ],
   "source": [
    "# TODO: Edit the function\n",
    "def percentage_growth(num_users, yrs_ago):\n",
    "    growth = (num_users[len(num_users)-1] - num_users[len(num_users)-yrs_ago- 1])/num_users[len(num_users)- yrs_ago -1 ]\n",
    "    return growth\n",
    "\n",
    "# Do not change: Variable for calculating some test examples\n",
    "num_users_test = [920344, 1043553, 1204334, 1458996, 1503323, 1593432, 1623463, 1843064, 1930992, 2001078]\n",
    "\n",
    "# Do not change: Should return .036\n",
    "print(percentage_growth(num_users_test, 1))\n",
    "\n",
    "# Do not change: Should return 0.66\n",
    "print(percentage_growth(num_users_test, 7))\n",
    "\n",
    "# Do not change: Check your answer\n",
    "q5.check()"
   ]
  },
  {
   "cell_type": "code",
   "execution_count": 15,
   "id": "dc01e57b",
   "metadata": {
    "execution": {
     "iopub.execute_input": "2022-08-23T18:31:55.848891Z",
     "iopub.status.busy": "2022-08-23T18:31:55.848447Z",
     "iopub.status.idle": "2022-08-23T18:31:55.852956Z",
     "shell.execute_reply": "2022-08-23T18:31:55.852000Z"
    },
    "papermill": {
     "duration": 0.016063,
     "end_time": "2022-08-23T18:31:55.855110",
     "exception": false,
     "start_time": "2022-08-23T18:31:55.839047",
     "status": "completed"
    },
    "tags": []
   },
   "outputs": [],
   "source": [
    "# Uncomment to see a hint\n",
    "#q5.hint()\n",
    "\n",
    "# Uncomment to see the solution\n",
    "#q5.solution()"
   ]
  },
  {
   "cell_type": "markdown",
   "id": "87bdd1fb",
   "metadata": {
    "papermill": {
     "duration": 0.007457,
     "end_time": "2022-08-23T18:31:55.870519",
     "exception": false,
     "start_time": "2022-08-23T18:31:55.863062",
     "status": "completed"
    },
    "tags": []
   },
   "source": [
    "# Congratulations!\n",
    "\n",
    "Congratulations for finishing the Intro to Programming course!  You should be proud of your very first steps with learning programming.  As next steps, we recommend taking:\n",
    "- the **[Python course](http://www.kaggle.com/learn/python)**, and \n",
    "- the **[Intro to Machine Learning course](https://www.kaggle.com/learn/intro-to-machine-learning)**."
   ]
  },
  {
   "cell_type": "markdown",
   "id": "ef12f38a",
   "metadata": {
    "papermill": {
     "duration": 0.007443,
     "end_time": "2022-08-23T18:31:55.885828",
     "exception": false,
     "start_time": "2022-08-23T18:31:55.878385",
     "status": "completed"
    },
    "tags": []
   },
   "source": [
    "---\n",
    "\n",
    "\n",
    "\n",
    "\n",
    "*Have questions or comments? Visit the [course discussion forum](https://www.kaggle.com/learn/intro-to-programming/discussion) to chat with other learners.*"
   ]
  }
 ],
 "metadata": {
  "kernelspec": {
   "display_name": "Python 3",
   "language": "python",
   "name": "python3"
  },
  "language_info": {
   "codemirror_mode": {
    "name": "ipython",
    "version": 3
   },
   "file_extension": ".py",
   "mimetype": "text/x-python",
   "name": "python",
   "nbconvert_exporter": "python",
   "pygments_lexer": "ipython3",
   "version": "3.7.12"
  },
  "papermill": {
   "default_parameters": {},
   "duration": 12.185028,
   "end_time": "2022-08-23T18:31:56.616929",
   "environment_variables": {},
   "exception": null,
   "input_path": "__notebook__.ipynb",
   "output_path": "__notebook__.ipynb",
   "parameters": {},
   "start_time": "2022-08-23T18:31:44.431901",
   "version": "2.3.4"
  }
 },
 "nbformat": 4,
 "nbformat_minor": 5
}
