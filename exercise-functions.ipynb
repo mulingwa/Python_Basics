{
 "cells": [
  {
   "cell_type": "markdown",
   "id": "78fde272",
   "metadata": {
    "papermill": {
     "duration": 0.007154,
     "end_time": "2022-08-23T10:08:43.815796",
     "exception": false,
     "start_time": "2022-08-23T10:08:43.808642",
     "status": "completed"
    },
    "tags": []
   },
   "source": [
    "**This notebook is an exercise in the [Intro to Programming](https://www.kaggle.com/learn/intro-to-programming) course.  You can reference the tutorial at [this link](https://www.kaggle.com/alexisbcook/functions).**\n",
    "\n",
    "---\n"
   ]
  },
  {
   "cell_type": "markdown",
   "id": "c5f96ea6",
   "metadata": {
    "papermill": {
     "duration": 0.005413,
     "end_time": "2022-08-23T10:08:43.827200",
     "exception": false,
     "start_time": "2022-08-23T10:08:43.821787",
     "status": "completed"
    },
    "tags": []
   },
   "source": [
    "In the tutorial, you learned about functions. In this exercise, you'll write some of your own!\n",
    "\n",
    "# Set up the notebook\n",
    "\n",
    "Run the next code cell without changes to set up the notebook."
   ]
  },
  {
   "cell_type": "code",
   "execution_count": 1,
   "id": "e39128f9",
   "metadata": {
    "execution": {
     "iopub.execute_input": "2022-08-23T10:08:43.840832Z",
     "iopub.status.busy": "2022-08-23T10:08:43.840205Z",
     "iopub.status.idle": "2022-08-23T10:08:43.894427Z",
     "shell.execute_reply": "2022-08-23T10:08:43.893533Z"
    },
    "papermill": {
     "duration": 0.064252,
     "end_time": "2022-08-23T10:08:43.897126",
     "exception": false,
     "start_time": "2022-08-23T10:08:43.832874",
     "status": "completed"
    },
    "tags": []
   },
   "outputs": [
    {
     "name": "stdout",
     "output_type": "stream",
     "text": [
      "Setup complete.\n"
     ]
    }
   ],
   "source": [
    "# Set up the exercise\n",
    "import math\n",
    "from learntools.core import binder\n",
    "binder.bind(globals())\n",
    "from learntools.intro_to_programming.ex2 import *\n",
    "print('Setup complete.')"
   ]
  },
  {
   "cell_type": "markdown",
   "id": "3db57e85",
   "metadata": {
    "papermill": {
     "duration": 0.005807,
     "end_time": "2022-08-23T10:08:43.908919",
     "exception": false,
     "start_time": "2022-08-23T10:08:43.903112",
     "status": "completed"
    },
    "tags": []
   },
   "source": [
    "# Question 1\n",
    "\n",
    "In the [House Prices - Advanced Regression Techniques competition](https://www.kaggle.com/c/house-prices-advanced-regression-techniques/overview), you need to use information like the number of bedrooms and bathrooms to predict the price of a house.  Inspired by this competition, you'll write your own function to do this.\n",
    "\n",
    "In the next code cell, create a function `get_expected_cost()` that has two arguments:\n",
    "- `beds` - number of bedrooms \n",
    "- `baths` - number of bathrooms\n",
    "\n",
    "It should return the expected cost of a house with that number of bedrooms and bathrooms.  Assume that:\n",
    "- the expected cost for a house with 0 bedrooms and 0 bathrooms is `80000`.  \n",
    "- each bedroom adds `30000` to the expected cost\n",
    "- each bathroom adds `10000` to the expected cost.\n",
    "\n",
    "For instance, \n",
    "- a house with 1 bedroom and 1 bathroom has an expected cost of `120000`, and \n",
    "- a house with 2 bedrooms and 1 bathroom has an expected cost of `150000`."
   ]
  },
  {
   "cell_type": "code",
   "execution_count": 2,
   "id": "b815abea",
   "metadata": {
    "execution": {
     "iopub.execute_input": "2022-08-23T10:08:43.922234Z",
     "iopub.status.busy": "2022-08-23T10:08:43.921854Z",
     "iopub.status.idle": "2022-08-23T10:08:43.932044Z",
     "shell.execute_reply": "2022-08-23T10:08:43.930953Z"
    },
    "papermill": {
     "duration": 0.019428,
     "end_time": "2022-08-23T10:08:43.934060",
     "exception": false,
     "start_time": "2022-08-23T10:08:43.914632",
     "status": "completed"
    },
    "tags": []
   },
   "outputs": [
    {
     "data": {
      "application/javascript": [
       "parent.postMessage({\"jupyterEvent\": \"custom.exercise_interaction\", \"data\": {\"outcomeType\": 1, \"valueTowardsCompletion\": 0.2, \"interactionType\": 1, \"questionType\": 2, \"questionId\": \"1_GetExpectedCost\", \"learnToolsVersion\": \"0.3.4\", \"failureMessage\": \"\", \"exceptionClass\": \"\", \"trace\": \"\"}}, \"*\")"
      ],
      "text/plain": [
       "<IPython.core.display.Javascript object>"
      ]
     },
     "metadata": {},
     "output_type": "display_data"
    },
    {
     "data": {
      "text/markdown": [
       "<span style=\"color:#33cc33\">Correct</span>"
      ],
      "text/plain": [
       "Correct"
      ]
     },
     "metadata": {},
     "output_type": "display_data"
    }
   ],
   "source": [
    "# TODO: Complete the function\n",
    "def get_expected_cost(beds, baths):\n",
    "    beds_value=beds*30000\n",
    "    baths_value=baths*10000\n",
    "    value = 80000+beds_value+baths_value\n",
    "    return value\n",
    "\n",
    "# Check your answer \n",
    "q1.check()"
   ]
  },
  {
   "cell_type": "code",
   "execution_count": 3,
   "id": "8b70ea4e",
   "metadata": {
    "execution": {
     "iopub.execute_input": "2022-08-23T10:08:43.947905Z",
     "iopub.status.busy": "2022-08-23T10:08:43.947272Z",
     "iopub.status.idle": "2022-08-23T10:08:43.951495Z",
     "shell.execute_reply": "2022-08-23T10:08:43.950359Z"
    },
    "papermill": {
     "duration": 0.01346,
     "end_time": "2022-08-23T10:08:43.953599",
     "exception": false,
     "start_time": "2022-08-23T10:08:43.940139",
     "status": "completed"
    },
    "tags": []
   },
   "outputs": [],
   "source": [
    "# Uncomment to see a hint\n",
    "#q1.hint()\n",
    "\n",
    "# Uncomment to view the solution\n",
    "#q1.solution()"
   ]
  },
  {
   "cell_type": "markdown",
   "id": "47201221",
   "metadata": {
    "papermill": {
     "duration": 0.00563,
     "end_time": "2022-08-23T10:08:43.965269",
     "exception": false,
     "start_time": "2022-08-23T10:08:43.959639",
     "status": "completed"
    },
    "tags": []
   },
   "source": [
    "# Question 2\n",
    "\n",
    "You are thinking about buying a home and want to get an idea of how much you will spend, based on the number of bedrooms and bathrooms.  You are trying to decide between four different options:\n",
    "- Option 1: house with two bedrooms and three bathrooms\n",
    "- Option 2: house with three bedrooms and two bathrooms\n",
    "- Option 3: house with three bedrooms and three bathrooms\n",
    "- Option 4: house with three bedrooms and four bathrooms\n",
    "\n",
    "Use the `get_expected_cost()` function you defined in question 1 to set `option_1`, `option_2`, `option_3`, and `option_4` to the expected cost of each option."
   ]
  },
  {
   "cell_type": "code",
   "execution_count": 4,
   "id": "d7021397",
   "metadata": {
    "execution": {
     "iopub.execute_input": "2022-08-23T10:08:43.978430Z",
     "iopub.status.busy": "2022-08-23T10:08:43.978043Z",
     "iopub.status.idle": "2022-08-23T10:08:43.990197Z",
     "shell.execute_reply": "2022-08-23T10:08:43.988627Z"
    },
    "papermill": {
     "duration": 0.021371,
     "end_time": "2022-08-23T10:08:43.992396",
     "exception": false,
     "start_time": "2022-08-23T10:08:43.971025",
     "status": "completed"
    },
    "tags": []
   },
   "outputs": [
    {
     "name": "stdout",
     "output_type": "stream",
     "text": [
      "170000\n",
      "190000\n",
      "200000\n",
      "210000\n"
     ]
    },
    {
     "data": {
      "application/javascript": [
       "parent.postMessage({\"jupyterEvent\": \"custom.exercise_interaction\", \"data\": {\"outcomeType\": 1, \"valueTowardsCompletion\": 0.2, \"interactionType\": 1, \"questionType\": 1, \"questionId\": \"2_RunGetExpectedCost\", \"learnToolsVersion\": \"0.3.4\", \"failureMessage\": \"\", \"exceptionClass\": \"\", \"trace\": \"\"}}, \"*\")"
      ],
      "text/plain": [
       "<IPython.core.display.Javascript object>"
      ]
     },
     "metadata": {},
     "output_type": "display_data"
    },
    {
     "data": {
      "text/markdown": [
       "<span style=\"color:#33cc33\">Correct</span>"
      ],
      "text/plain": [
       "Correct"
      ]
     },
     "metadata": {},
     "output_type": "display_data"
    }
   ],
   "source": [
    "# TODO: Use the get_expected_cost function to fill in each value\n",
    "option_one = get_expected_cost(2,3)\n",
    "option_two = get_expected_cost(3,2)\n",
    "option_three = get_expected_cost(3,3)\n",
    "option_four = get_expected_cost(3,4)\n",
    "\n",
    "print(option_one)\n",
    "print(option_two)\n",
    "print(option_three)\n",
    "print(option_four)\n",
    "\n",
    "# Check your answer\n",
    "q2.check()"
   ]
  },
  {
   "cell_type": "code",
   "execution_count": 5,
   "id": "edb78ce4",
   "metadata": {
    "execution": {
     "iopub.execute_input": "2022-08-23T10:08:44.006254Z",
     "iopub.status.busy": "2022-08-23T10:08:44.005868Z",
     "iopub.status.idle": "2022-08-23T10:08:44.010443Z",
     "shell.execute_reply": "2022-08-23T10:08:44.009387Z"
    },
    "papermill": {
     "duration": 0.014129,
     "end_time": "2022-08-23T10:08:44.012679",
     "exception": false,
     "start_time": "2022-08-23T10:08:43.998550",
     "status": "completed"
    },
    "tags": []
   },
   "outputs": [],
   "source": [
    "# Uncomment to see a hint\n",
    "#q2.hint()\n",
    "\n",
    "# Uncomment to view the solution\n",
    "#q2.solution()"
   ]
  },
  {
   "cell_type": "markdown",
   "id": "a8557047",
   "metadata": {
    "papermill": {
     "duration": 0.005877,
     "end_time": "2022-08-23T10:08:44.024857",
     "exception": false,
     "start_time": "2022-08-23T10:08:44.018980",
     "status": "completed"
    },
    "tags": []
   },
   "source": [
    "# Question 3\n",
    "\n",
    "You're a home decorator, and you'd like to use Python to streamline some of your work.  Specifically, you're creating a tool that you intend to use to calculate the cost of painting a room.\n",
    "\n",
    "As a first step, define a function `get_cost()` that takes as input:\n",
    "- `sqft_walls` = total square feet of walls to be painted\n",
    "- `sqft_ceiling` = square feet of ceiling to be painted\n",
    "- `sqft_per_gallon` = number of square feet that you can cover with one gallon of paint\n",
    "- `cost_per_gallon` = cost (in dollars) of one gallon of paint\n",
    "\n",
    "It should return the cost (in dollars) of putting one coat of paint on all walls and the ceiling.  Assume you can buy the exact amount of paint that you need, so you can buy partial gallons (e.g., if you need 7.523 gallons, you can buy that exact amount, instead of needing to buy 8 gallons and waste some paint).  Do not round your answer."
   ]
  },
  {
   "cell_type": "code",
   "execution_count": 6,
   "id": "860dac18",
   "metadata": {
    "execution": {
     "iopub.execute_input": "2022-08-23T10:08:44.038684Z",
     "iopub.status.busy": "2022-08-23T10:08:44.038283Z",
     "iopub.status.idle": "2022-08-23T10:08:44.047159Z",
     "shell.execute_reply": "2022-08-23T10:08:44.046133Z"
    },
    "papermill": {
     "duration": 0.019296,
     "end_time": "2022-08-23T10:08:44.050239",
     "exception": false,
     "start_time": "2022-08-23T10:08:44.030943",
     "status": "completed"
    },
    "tags": []
   },
   "outputs": [
    {
     "data": {
      "application/javascript": [
       "parent.postMessage({\"jupyterEvent\": \"custom.exercise_interaction\", \"data\": {\"outcomeType\": 1, \"valueTowardsCompletion\": 0.2, \"interactionType\": 1, \"questionType\": 2, \"questionId\": \"3_GetCostPaint\", \"learnToolsVersion\": \"0.3.4\", \"failureMessage\": \"\", \"exceptionClass\": \"\", \"trace\": \"\"}}, \"*\")"
      ],
      "text/plain": [
       "<IPython.core.display.Javascript object>"
      ]
     },
     "metadata": {},
     "output_type": "display_data"
    },
    {
     "data": {
      "text/markdown": [
       "<span style=\"color:#33cc33\">Correct</span>"
      ],
      "text/plain": [
       "Correct"
      ]
     },
     "metadata": {},
     "output_type": "display_data"
    }
   ],
   "source": [
    "# TODO: Finish defining the function\n",
    "def get_cost(sqft_walls, sqft_ceiling, sqft_per_gallon, cost_per_gallon):\n",
    "    total_sqft= sqft_walls + sqft_ceiling\n",
    "    total_gallon= total_sqft / sqft_per_gallon\n",
    "    cost = total_gallon * cost_per_gallon\n",
    "    return cost\n",
    "\n",
    "# Check your answer\n",
    "q3.check()"
   ]
  },
  {
   "cell_type": "code",
   "execution_count": 7,
   "id": "6ec874bb",
   "metadata": {
    "execution": {
     "iopub.execute_input": "2022-08-23T10:08:44.065382Z",
     "iopub.status.busy": "2022-08-23T10:08:44.064974Z",
     "iopub.status.idle": "2022-08-23T10:08:44.069870Z",
     "shell.execute_reply": "2022-08-23T10:08:44.068908Z"
    },
    "papermill": {
     "duration": 0.014901,
     "end_time": "2022-08-23T10:08:44.072237",
     "exception": false,
     "start_time": "2022-08-23T10:08:44.057336",
     "status": "completed"
    },
    "tags": []
   },
   "outputs": [],
   "source": [
    "# Uncomment to see a hint\n",
    "#q3.hint()\n",
    "\n",
    "# Uncomment to view the solution\n",
    "#q3.solution()"
   ]
  },
  {
   "cell_type": "markdown",
   "id": "c33c3078",
   "metadata": {
    "papermill": {
     "duration": 0.006969,
     "end_time": "2022-08-23T10:08:44.085675",
     "exception": false,
     "start_time": "2022-08-23T10:08:44.078706",
     "status": "completed"
    },
    "tags": []
   },
   "source": [
    "# Question 4\n",
    "\n",
    "Use the `get_cost()` function you defined in Question 3 to calculate the cost of applying one coat of paint to a room with:\n",
    "- 432 square feet of walls, and\n",
    "- 144 square feet of ceiling.\n",
    "\n",
    "Assume that one gallon of paint covers 400 square feet and costs $15.  As in Question 3, assume you can buy partial gallons of paint.  Do not round your answer."
   ]
  },
  {
   "cell_type": "code",
   "execution_count": 8,
   "id": "da744e5d",
   "metadata": {
    "execution": {
     "iopub.execute_input": "2022-08-23T10:08:44.100514Z",
     "iopub.status.busy": "2022-08-23T10:08:44.099858Z",
     "iopub.status.idle": "2022-08-23T10:08:44.108691Z",
     "shell.execute_reply": "2022-08-23T10:08:44.107732Z"
    },
    "papermill": {
     "duration": 0.018942,
     "end_time": "2022-08-23T10:08:44.111117",
     "exception": false,
     "start_time": "2022-08-23T10:08:44.092175",
     "status": "completed"
    },
    "tags": []
   },
   "outputs": [
    {
     "data": {
      "application/javascript": [
       "parent.postMessage({\"jupyterEvent\": \"custom.exercise_interaction\", \"data\": {\"outcomeType\": 1, \"valueTowardsCompletion\": 0.2, \"interactionType\": 1, \"questionType\": 1, \"questionId\": \"4_GetCostPaintExample\", \"learnToolsVersion\": \"0.3.4\", \"failureMessage\": \"\", \"exceptionClass\": \"\", \"trace\": \"\"}}, \"*\")"
      ],
      "text/plain": [
       "<IPython.core.display.Javascript object>"
      ]
     },
     "metadata": {},
     "output_type": "display_data"
    },
    {
     "data": {
      "text/markdown": [
       "<span style=\"color:#33cc33\">Correct</span>"
      ],
      "text/plain": [
       "Correct"
      ]
     },
     "metadata": {},
     "output_type": "display_data"
    }
   ],
   "source": [
    "# TODO: Set the project_cost variable to the cost of the project\n",
    "project_cost = get_cost(432, 144, 400, 15)\n",
    "\n",
    "# Check your answer\n",
    "q4.check()"
   ]
  },
  {
   "cell_type": "code",
   "execution_count": 9,
   "id": "16899ff9",
   "metadata": {
    "execution": {
     "iopub.execute_input": "2022-08-23T10:08:44.126348Z",
     "iopub.status.busy": "2022-08-23T10:08:44.125947Z",
     "iopub.status.idle": "2022-08-23T10:08:44.130631Z",
     "shell.execute_reply": "2022-08-23T10:08:44.129548Z"
    },
    "papermill": {
     "duration": 0.015028,
     "end_time": "2022-08-23T10:08:44.132826",
     "exception": false,
     "start_time": "2022-08-23T10:08:44.117798",
     "status": "completed"
    },
    "tags": []
   },
   "outputs": [],
   "source": [
    "# Uncomment to see a hint\n",
    "#q4.hint()\n",
    "\n",
    "# Uncomment to view the solution\n",
    "#q4.solution()"
   ]
  },
  {
   "cell_type": "markdown",
   "id": "72239188",
   "metadata": {
    "papermill": {
     "duration": 0.006476,
     "end_time": "2022-08-23T10:08:44.146140",
     "exception": false,
     "start_time": "2022-08-23T10:08:44.139664",
     "status": "completed"
    },
    "tags": []
   },
   "source": [
    "# 🌶️ Question 5\n",
    "\n",
    "Now say you can no longer buy fractions of a gallon.  (For instance, if you need 4.3 gallons to do a project, then you have to buy 5 gallons of paint.)\n",
    "\n",
    "With this new scenario, you will create a new function `get_actual_cost` that uses the same inputs and calculates the cost of your project.\n",
    "\n",
    "One function that you'll need to use to do this is `math.ceil()`.  We demonstrate usage of this function in the code cell below.  It takes as a number as input and rounds the number up to the nearest integer.  \n",
    "\n",
    "Run the next code cell to test this function for yourself.  Feel free to change the value of `test_value` and make sure `math.ceil()` returns the number you expect."
   ]
  },
  {
   "cell_type": "code",
   "execution_count": 10,
   "id": "dd53b7ae",
   "metadata": {
    "execution": {
     "iopub.execute_input": "2022-08-23T10:08:44.161395Z",
     "iopub.status.busy": "2022-08-23T10:08:44.161024Z",
     "iopub.status.idle": "2022-08-23T10:08:44.166880Z",
     "shell.execute_reply": "2022-08-23T10:08:44.165668Z"
    },
    "papermill": {
     "duration": 0.0173,
     "end_time": "2022-08-23T10:08:44.170219",
     "exception": false,
     "start_time": "2022-08-23T10:08:44.152919",
     "status": "completed"
    },
    "tags": []
   },
   "outputs": [
    {
     "name": "stdout",
     "output_type": "stream",
     "text": [
      "3\n"
     ]
    }
   ],
   "source": [
    "\n",
    "test_value = 2.17\n",
    "\n",
    "rounded_value = math.ceil(test_value)\n",
    "print(rounded_value)"
   ]
  },
  {
   "cell_type": "markdown",
   "id": "a4858a6c",
   "metadata": {
    "papermill": {
     "duration": 0.006618,
     "end_time": "2022-08-23T10:08:44.184370",
     "exception": false,
     "start_time": "2022-08-23T10:08:44.177752",
     "status": "completed"
    },
    "tags": []
   },
   "source": [
    "Use the next code cell to define the function `get_actual_cost()`.  You'll need to use the `math.ceil()` function to do this.\n",
    "\n",
    "When answering this question, note that it's completely valid to define a function that makes use of another function.  For instance, we can define a function `round_up_and_divide_by_three` that makes use of the `math.ceil` function:\n",
    "```\n",
    "def round_up_and_divide_by_three(num):\n",
    "    new_value = math.ceil(num)\n",
    "    final_value = new_value / 3\n",
    "    return final_value\n",
    "```"
   ]
  },
  {
   "cell_type": "code",
   "execution_count": 11,
   "id": "881e8a18",
   "metadata": {
    "execution": {
     "iopub.execute_input": "2022-08-23T10:08:44.200039Z",
     "iopub.status.busy": "2022-08-23T10:08:44.199656Z",
     "iopub.status.idle": "2022-08-23T10:08:44.209465Z",
     "shell.execute_reply": "2022-08-23T10:08:44.208507Z"
    },
    "papermill": {
     "duration": 0.020225,
     "end_time": "2022-08-23T10:08:44.211611",
     "exception": false,
     "start_time": "2022-08-23T10:08:44.191386",
     "status": "completed"
    },
    "tags": []
   },
   "outputs": [
    {
     "data": {
      "application/javascript": [
       "parent.postMessage({\"jupyterEvent\": \"custom.exercise_interaction\", \"data\": {\"outcomeType\": 1, \"valueTowardsCompletion\": 0.2, \"interactionType\": 1, \"questionType\": 2, \"questionId\": \"5_NoMoreFractions\", \"learnToolsVersion\": \"0.3.4\", \"failureMessage\": \"\", \"exceptionClass\": \"\", \"trace\": \"\"}}, \"*\")"
      ],
      "text/plain": [
       "<IPython.core.display.Javascript object>"
      ]
     },
     "metadata": {},
     "output_type": "display_data"
    },
    {
     "data": {
      "text/markdown": [
       "<span style=\"color:#33cc33\">Correct</span>"
      ],
      "text/plain": [
       "Correct"
      ]
     },
     "metadata": {},
     "output_type": "display_data"
    }
   ],
   "source": [
    "def get_actual_cost(sqft_walls, sqft_ceiling, sqft_per_gallon, cost_per_gallon):\n",
    "    total_sqft= sqft_walls + sqft_ceiling\n",
    "    total_gallon= total_sqft / sqft_per_gallon\n",
    "    gallons= math.ceil(total_gallon)\n",
    "    cost= gallons * cost_per_gallon\n",
    "    return cost\n",
    "\n",
    "# Check your answer\n",
    "q5.check()"
   ]
  },
  {
   "cell_type": "code",
   "execution_count": 12,
   "id": "bd497ffa",
   "metadata": {
    "execution": {
     "iopub.execute_input": "2022-08-23T10:08:44.227646Z",
     "iopub.status.busy": "2022-08-23T10:08:44.227294Z",
     "iopub.status.idle": "2022-08-23T10:08:44.231484Z",
     "shell.execute_reply": "2022-08-23T10:08:44.230443Z"
    },
    "papermill": {
     "duration": 0.015046,
     "end_time": "2022-08-23T10:08:44.233576",
     "exception": false,
     "start_time": "2022-08-23T10:08:44.218530",
     "status": "completed"
    },
    "tags": []
   },
   "outputs": [],
   "source": [
    "# Uncomment to see a hint\n",
    "#q5.hint()\n",
    "\n",
    "# Uncomment to view the solution\n",
    "#q5.solution()"
   ]
  },
  {
   "cell_type": "markdown",
   "id": "ddf98054",
   "metadata": {
    "papermill": {
     "duration": 0.006913,
     "end_time": "2022-08-23T10:08:44.247547",
     "exception": false,
     "start_time": "2022-08-23T10:08:44.240634",
     "status": "completed"
    },
    "tags": []
   },
   "source": [
    "Once your function is verified as correct, run the next code cell to calculate the updated cost of your project."
   ]
  },
  {
   "cell_type": "code",
   "execution_count": 13,
   "id": "3b339006",
   "metadata": {
    "execution": {
     "iopub.execute_input": "2022-08-23T10:08:44.263990Z",
     "iopub.status.busy": "2022-08-23T10:08:44.263110Z",
     "iopub.status.idle": "2022-08-23T10:08:44.270749Z",
     "shell.execute_reply": "2022-08-23T10:08:44.269712Z"
    },
    "papermill": {
     "duration": 0.018512,
     "end_time": "2022-08-23T10:08:44.273010",
     "exception": false,
     "start_time": "2022-08-23T10:08:44.254498",
     "status": "completed"
    },
    "tags": []
   },
   "outputs": [
    {
     "data": {
      "text/plain": [
       "30"
      ]
     },
     "execution_count": 13,
     "metadata": {},
     "output_type": "execute_result"
    }
   ],
   "source": [
    "get_actual_cost(432, 144, 400, 15) "
   ]
  },
  {
   "cell_type": "markdown",
   "id": "e18d3a94",
   "metadata": {
    "papermill": {
     "duration": 0.007092,
     "end_time": "2022-08-23T10:08:44.287666",
     "exception": false,
     "start_time": "2022-08-23T10:08:44.280574",
     "status": "completed"
    },
    "tags": []
   },
   "source": [
    "Say you're working with a slightly larger room.  Run the next code cell to calculate the cost of the project."
   ]
  },
  {
   "cell_type": "code",
   "execution_count": 14,
   "id": "da804055",
   "metadata": {
    "execution": {
     "iopub.execute_input": "2022-08-23T10:08:44.304445Z",
     "iopub.status.busy": "2022-08-23T10:08:44.303626Z",
     "iopub.status.idle": "2022-08-23T10:08:44.310702Z",
     "shell.execute_reply": "2022-08-23T10:08:44.309826Z"
    },
    "papermill": {
     "duration": 0.018151,
     "end_time": "2022-08-23T10:08:44.313016",
     "exception": false,
     "start_time": "2022-08-23T10:08:44.294865",
     "status": "completed"
    },
    "tags": []
   },
   "outputs": [
    {
     "data": {
      "text/plain": [
       "45"
      ]
     },
     "execution_count": 14,
     "metadata": {},
     "output_type": "execute_result"
    }
   ],
   "source": [
    "get_actual_cost(594, 288, 400, 15) "
   ]
  },
  {
   "cell_type": "markdown",
   "id": "49ca061f",
   "metadata": {
    "papermill": {
     "duration": 0.007154,
     "end_time": "2022-08-23T10:08:44.327574",
     "exception": false,
     "start_time": "2022-08-23T10:08:44.320420",
     "status": "completed"
    },
    "tags": []
   },
   "source": [
    "# Keep going\n",
    "\n",
    "Continue to learn about **[data types](https://www.kaggle.com/alexisbcook/data-types)**."
   ]
  },
  {
   "cell_type": "markdown",
   "id": "73f8b669",
   "metadata": {
    "papermill": {
     "duration": 0.006896,
     "end_time": "2022-08-23T10:08:44.341721",
     "exception": false,
     "start_time": "2022-08-23T10:08:44.334825",
     "status": "completed"
    },
    "tags": []
   },
   "source": [
    "---\n",
    "\n",
    "\n",
    "\n",
    "\n",
    "*Have questions or comments? Visit the [course discussion forum](https://www.kaggle.com/learn/intro-to-programming/discussion) to chat with other learners.*"
   ]
  }
 ],
 "metadata": {
  "kernelspec": {
   "display_name": "Python 3",
   "language": "python",
   "name": "python3"
  },
  "language_info": {
   "codemirror_mode": {
    "name": "ipython",
    "version": 3
   },
   "file_extension": ".py",
   "mimetype": "text/x-python",
   "name": "python",
   "nbconvert_exporter": "python",
   "pygments_lexer": "ipython3",
   "version": "3.7.12"
  },
  "papermill": {
   "default_parameters": {},
   "duration": 9.881406,
   "end_time": "2022-08-23T10:08:44.969821",
   "environment_variables": {},
   "exception": null,
   "input_path": "__notebook__.ipynb",
   "output_path": "__notebook__.ipynb",
   "parameters": {},
   "start_time": "2022-08-23T10:08:35.088415",
   "version": "2.3.4"
  }
 },
 "nbformat": 4,
 "nbformat_minor": 5
}
