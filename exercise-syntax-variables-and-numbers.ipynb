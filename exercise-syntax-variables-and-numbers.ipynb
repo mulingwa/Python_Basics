{
 "cells": [
  {
   "cell_type": "markdown",
   "id": "be06376a",
   "metadata": {
    "papermill": {
     "duration": 0.008527,
     "end_time": "2022-08-23T20:01:09.357751",
     "exception": false,
     "start_time": "2022-08-23T20:01:09.349224",
     "status": "completed"
    },
    "tags": []
   },
   "source": [
    "**This notebook is an exercise in the [Python](https://www.kaggle.com/learn/python) course.  You can reference the tutorial at [this link](https://www.kaggle.com/colinmorris/hello-python).**\n",
    "\n",
    "---\n"
   ]
  },
  {
   "cell_type": "markdown",
   "id": "bf01907c",
   "metadata": {
    "papermill": {
     "duration": 0.006816,
     "end_time": "2022-08-23T20:01:09.371920",
     "exception": false,
     "start_time": "2022-08-23T20:01:09.365104",
     "status": "completed"
    },
    "tags": []
   },
   "source": [
    "Welcome to your first set of Python coding problems.  If this is your first time using Kaggle Notebooks, welcome! \n",
    "\n",
    "Notebooks are composed of blocks (called \"cells\") of text and code. Each of these is editable, though you'll mainly be editing the code cells to answer some questions.\n",
    "\n",
    "To get started, try running the code cell below (by pressing the ► button, or clicking on the cell and pressing ctrl+enter on your keyboard)."
   ]
  },
  {
   "cell_type": "code",
   "execution_count": null,
   "id": "d98c3bde",
   "metadata": {
    "papermill": {
     "duration": 0.006708,
     "end_time": "2022-08-23T20:01:09.385655",
     "exception": false,
     "start_time": "2022-08-23T20:01:09.378947",
     "status": "completed"
    },
    "tags": []
   },
   "outputs": [],
   "source": []
  },
  {
   "cell_type": "code",
   "execution_count": 1,
   "id": "12736b87",
   "metadata": {
    "execution": {
     "iopub.execute_input": "2022-08-23T20:01:09.402078Z",
     "iopub.status.busy": "2022-08-23T20:01:09.401307Z",
     "iopub.status.idle": "2022-08-23T20:01:09.414237Z",
     "shell.execute_reply": "2022-08-23T20:01:09.412789Z"
    },
    "papermill": {
     "duration": 0.024478,
     "end_time": "2022-08-23T20:01:09.417127",
     "exception": false,
     "start_time": "2022-08-23T20:01:09.392649",
     "status": "completed"
    },
    "tags": []
   },
   "outputs": [
    {
     "name": "stdout",
     "output_type": "stream",
     "text": [
      "You've successfully run some Python code\n",
      "Congratulations!\n",
      "Hello\n"
     ]
    }
   ],
   "source": [
    "print(\"You've successfully run some Python code\")\n",
    "print(\"Congratulations!\")\n",
    "print(\"Hello\")"
   ]
  },
  {
   "cell_type": "code",
   "execution_count": 2,
   "id": "129f6e87",
   "metadata": {
    "execution": {
     "iopub.execute_input": "2022-08-23T20:01:09.434804Z",
     "iopub.status.busy": "2022-08-23T20:01:09.434062Z",
     "iopub.status.idle": "2022-08-23T20:01:09.440625Z",
     "shell.execute_reply": "2022-08-23T20:01:09.439442Z"
    },
    "papermill": {
     "duration": 0.01807,
     "end_time": "2022-08-23T20:01:09.443036",
     "exception": false,
     "start_time": "2022-08-23T20:01:09.424966",
     "status": "completed"
    },
    "tags": []
   },
   "outputs": [
    {
     "name": "stdout",
     "output_type": "stream",
     "text": [
      "Python learner\n",
      "vibuziiiiiiiiiiiii\n"
     ]
    }
   ],
   "source": [
    "name=\"learner\"\n",
    "print(\"Python \"+ name)\n",
    "print(\"vibuziiiiiiiiiiiii\")"
   ]
  },
  {
   "cell_type": "markdown",
   "id": "513c5863",
   "metadata": {
    "papermill": {
     "duration": 0.006766,
     "end_time": "2022-08-23T20:01:09.457168",
     "exception": false,
     "start_time": "2022-08-23T20:01:09.450402",
     "status": "completed"
    },
    "tags": []
   },
   "source": [
    "Try adding another line of code in the cell above and re-running it. \n",
    "\n",
    "Now let's get a little fancier:  Add a new code cell by clicking on an existing code cell, hitting the escape key, and then hitting the `a` or `b` key.  The `a` key will add a cell above the current cell, and `b` adds a cell below.\n",
    "\n",
    "Great! Now you know how to use Notebooks.\n",
    "\n",
    "Each hands-on exercise starts by setting up our feedback and code checking mechanism. Run the code cell below to do that. Then you'll be ready to move on to question 0."
   ]
  },
  {
   "cell_type": "code",
   "execution_count": 3,
   "id": "f32cd804",
   "metadata": {
    "_kg_hide-input": true,
    "_kg_hide-output": true,
    "execution": {
     "iopub.execute_input": "2022-08-23T20:01:09.473128Z",
     "iopub.status.busy": "2022-08-23T20:01:09.472674Z",
     "iopub.status.idle": "2022-08-23T20:01:09.524280Z",
     "shell.execute_reply": "2022-08-23T20:01:09.522826Z"
    },
    "papermill": {
     "duration": 0.063285,
     "end_time": "2022-08-23T20:01:09.527455",
     "exception": false,
     "start_time": "2022-08-23T20:01:09.464170",
     "status": "completed"
    },
    "tags": []
   },
   "outputs": [
    {
     "name": "stdout",
     "output_type": "stream",
     "text": [
      "Setup complete! You're ready to start question 0.\n"
     ]
    }
   ],
   "source": [
    "from learntools.core import binder; binder.bind(globals())\n",
    "from learntools.python.ex1 import *\n",
    "print(\"Setup complete! You're ready to start question 0.\")"
   ]
  },
  {
   "cell_type": "markdown",
   "id": "187eafdb",
   "metadata": {
    "papermill": {
     "duration": 0.006978,
     "end_time": "2022-08-23T20:01:09.541700",
     "exception": false,
     "start_time": "2022-08-23T20:01:09.534722",
     "status": "completed"
    },
    "tags": []
   },
   "source": [
    "# 0.\n",
    "\n",
    "*This is a silly question intended as an introduction to the format we use for hands-on exercises throughout all Kaggle courses.*\n",
    "\n",
    "**What is your favorite color? **\n",
    "\n",
    "To complete this question, create a variable called `color` in the cell below with an appropriate value. The function call `q0.check()` (which we've already provided in the cell below) will check your answer."
   ]
  },
  {
   "cell_type": "code",
   "execution_count": 4,
   "id": "7a93b985",
   "metadata": {
    "execution": {
     "iopub.execute_input": "2022-08-23T20:01:09.557933Z",
     "iopub.status.busy": "2022-08-23T20:01:09.557508Z",
     "iopub.status.idle": "2022-08-23T20:01:09.569437Z",
     "shell.execute_reply": "2022-08-23T20:01:09.568189Z"
    },
    "papermill": {
     "duration": 0.02284,
     "end_time": "2022-08-23T20:01:09.571764",
     "exception": false,
     "start_time": "2022-08-23T20:01:09.548924",
     "status": "completed"
    },
    "tags": []
   },
   "outputs": [
    {
     "data": {
      "application/javascript": [
       "parent.postMessage({\"jupyterEvent\": \"custom.exercise_interaction\", \"data\": {\"outcomeType\": 1, \"valueTowardsCompletion\": 0.25, \"interactionType\": 1, \"questionType\": 2, \"questionId\": \"0_ExerciseFormatTutorial\", \"learnToolsVersion\": \"0.3.4\", \"failureMessage\": \"\", \"exceptionClass\": \"\", \"trace\": \"\"}}, \"*\")"
      ],
      "text/plain": [
       "<IPython.core.display.Javascript object>"
      ]
     },
     "metadata": {},
     "output_type": "display_data"
    },
    {
     "data": {
      "text/markdown": [
       "<span style=\"color:#33cc33\">Correct:</span> What?! You got it right without needing a hint or anything? Drats. Well hey, you should still continue to the next step to get some practice asking for a hint and checking solutions. (Even though you obviously don't need any help here.)"
      ],
      "text/plain": [
       "Correct: What?! You got it right without needing a hint or anything? Drats. Well hey, you should still continue to the next step to get some practice asking for a hint and checking solutions. (Even though you obviously don't need any help here.)"
      ]
     },
     "metadata": {},
     "output_type": "display_data"
    }
   ],
   "source": [
    "# create a variable called color with an appropriate value on the line below\n",
    "# (Remember, strings in Python must be enclosed in 'single' or \"double\" quotes)\n",
    "____\n",
    "color=\"Blue\"\n",
    "# Check your answer\n",
    "q0.check()"
   ]
  },
  {
   "cell_type": "markdown",
   "id": "f950ef3c",
   "metadata": {
    "jupyter": {
     "source_hidden": true
    },
    "papermill": {
     "duration": 0.007052,
     "end_time": "2022-08-23T20:01:09.586985",
     "exception": false,
     "start_time": "2022-08-23T20:01:09.579933",
     "status": "completed"
    },
    "tags": []
   },
   "source": [
    "Didn't get the right answer? How do you not even know your own favorite color?!\n",
    "\n",
    "Delete the `#` in the line below to make one of the lines run. You can choose between getting a hint or the full answer by choosing which line to remove the `#` from. \n",
    "\n",
    "Removing the `#` is called uncommenting, because it changes that line from a \"comment\" which Python doesn't run to code, which Python does run."
   ]
  },
  {
   "cell_type": "code",
   "execution_count": 5,
   "id": "f0d3f71f",
   "metadata": {
    "execution": {
     "iopub.execute_input": "2022-08-23T20:01:09.603326Z",
     "iopub.status.busy": "2022-08-23T20:01:09.602929Z",
     "iopub.status.idle": "2022-08-23T20:01:09.612492Z",
     "shell.execute_reply": "2022-08-23T20:01:09.611407Z"
    },
    "papermill": {
     "duration": 0.020533,
     "end_time": "2022-08-23T20:01:09.614814",
     "exception": false,
     "start_time": "2022-08-23T20:01:09.594281",
     "status": "completed"
    },
    "tags": []
   },
   "outputs": [
    {
     "data": {
      "application/javascript": [
       "parent.postMessage({\"jupyterEvent\": \"custom.exercise_interaction\", \"data\": {\"interactionType\": 2, \"questionType\": 2, \"questionId\": \"0_ExerciseFormatTutorial\", \"learnToolsVersion\": \"0.3.4\", \"valueTowardsCompletion\": 0.0, \"failureMessage\": \"\", \"exceptionClass\": \"\", \"trace\": \"\", \"outcomeType\": 4}}, \"*\")"
      ],
      "text/plain": [
       "<IPython.core.display.Javascript object>"
      ]
     },
     "metadata": {},
     "output_type": "display_data"
    },
    {
     "data": {
      "text/markdown": [
       "<span style=\"color:#3366cc\">Hint:</span> Your favorite color rhymes with *glue*."
      ],
      "text/plain": [
       "Hint: Your favorite color rhymes with *glue*."
      ]
     },
     "metadata": {},
     "output_type": "display_data"
    }
   ],
   "source": [
    "q0.hint()\n",
    "#q0.solution()"
   ]
  },
  {
   "cell_type": "markdown",
   "id": "45ad6df4",
   "metadata": {
    "papermill": {
     "duration": 0.007294,
     "end_time": "2022-08-23T20:01:09.629767",
     "exception": false,
     "start_time": "2022-08-23T20:01:09.622473",
     "status": "completed"
    },
    "tags": []
   },
   "source": [
    "The upcoming questions work the same way. The only thing that will change are the question numbers. For the next question, you'll call `q1.check()`, `q1.hint()`, `q1.solution()`, for question 2, you'll call `q2.check()`, and so on."
   ]
  },
  {
   "cell_type": "markdown",
   "id": "7c55908d",
   "metadata": {
    "papermill": {
     "duration": 0.007673,
     "end_time": "2022-08-23T20:01:09.645104",
     "exception": false,
     "start_time": "2022-08-23T20:01:09.637431",
     "status": "completed"
    },
    "tags": []
   },
   "source": [
    "<hr/>\n",
    "\n",
    "# 1.\n",
    "\n",
    "Complete the code below. In case it's helpful, here is the table of available arithmetic operations:\n",
    "\n",
    "\n",
    "\n",
    "| Operator     | Name           | Description                                            |\n",
    "|--------------|----------------|--------------------------------------------------------|\n",
    "| ``a + b``    | Addition       | Sum of ``a`` and ``b``                                 |\n",
    "| ``a - b``    | Subtraction    | Difference of ``a`` and ``b``                          |\n",
    "| ``a * b``    | Multiplication | Product of ``a`` and ``b``                             |\n",
    "| ``a / b``    | True division  | Quotient of ``a`` and ``b``                            |\n",
    "| ``a // b``   | Floor division | Quotient of ``a`` and ``b``, removing fractional parts |\n",
    "| ``a % b``    | Modulus        | Integer remainder after division of ``a`` by ``b``     |\n",
    "| ``a ** b``   | Exponentiation | ``a`` raised to the power of ``b``                     |\n",
    "| ``-a``       | Negation       | The negative of ``a``                                  |\n",
    "\n",
    "<span style=\"display:none\"></span>\n"
   ]
  },
  {
   "cell_type": "code",
   "execution_count": 6,
   "id": "18a0347c",
   "metadata": {
    "execution": {
     "iopub.execute_input": "2022-08-23T20:01:09.661945Z",
     "iopub.status.busy": "2022-08-23T20:01:09.661526Z",
     "iopub.status.idle": "2022-08-23T20:01:09.670571Z",
     "shell.execute_reply": "2022-08-23T20:01:09.669714Z"
    },
    "papermill": {
     "duration": 0.020166,
     "end_time": "2022-08-23T20:01:09.672824",
     "exception": false,
     "start_time": "2022-08-23T20:01:09.652658",
     "status": "completed"
    },
    "tags": []
   },
   "outputs": [
    {
     "data": {
      "application/javascript": [
       "parent.postMessage({\"jupyterEvent\": \"custom.exercise_interaction\", \"data\": {\"outcomeType\": 1, \"valueTowardsCompletion\": 0.25, \"interactionType\": 1, \"questionType\": 1, \"questionId\": \"1_CircleArea\", \"learnToolsVersion\": \"0.3.4\", \"failureMessage\": \"\", \"exceptionClass\": \"\", \"trace\": \"\"}}, \"*\")"
      ],
      "text/plain": [
       "<IPython.core.display.Javascript object>"
      ]
     },
     "metadata": {},
     "output_type": "display_data"
    },
    {
     "data": {
      "text/markdown": [
       "<span style=\"color:#33cc33\">Correct</span>"
      ],
      "text/plain": [
       "Correct"
      ]
     },
     "metadata": {},
     "output_type": "display_data"
    }
   ],
   "source": [
    "pi = 3.14159 # approximate\n",
    "diameter = 3\n",
    "\n",
    "# Create a variable called 'radius' equal to half the diameter\n",
    "radius=diameter/2\n",
    "# Create a variable called 'area', using the formula for the area of a circle: pi times the radius squared\n",
    "____\n",
    "area=pi * (radius **2)\n",
    "# Check your answer\n",
    "q1.check()"
   ]
  },
  {
   "cell_type": "code",
   "execution_count": 7,
   "id": "5a5eb658",
   "metadata": {
    "execution": {
     "iopub.execute_input": "2022-08-23T20:01:09.690637Z",
     "iopub.status.busy": "2022-08-23T20:01:09.690243Z",
     "iopub.status.idle": "2022-08-23T20:01:09.698195Z",
     "shell.execute_reply": "2022-08-23T20:01:09.696771Z"
    },
    "papermill": {
     "duration": 0.019883,
     "end_time": "2022-08-23T20:01:09.700755",
     "exception": false,
     "start_time": "2022-08-23T20:01:09.680872",
     "status": "completed"
    },
    "tags": []
   },
   "outputs": [
    {
     "data": {
      "application/javascript": [
       "parent.postMessage({\"jupyterEvent\": \"custom.exercise_interaction\", \"data\": {\"interactionType\": 3, \"questionType\": 1, \"questionId\": \"1_CircleArea\", \"learnToolsVersion\": \"0.3.4\", \"valueTowardsCompletion\": 0.0, \"failureMessage\": \"\", \"exceptionClass\": \"\", \"trace\": \"\", \"outcomeType\": 4}}, \"*\")"
      ],
      "text/plain": [
       "<IPython.core.display.Javascript object>"
      ]
     },
     "metadata": {},
     "output_type": "display_data"
    },
    {
     "data": {
      "text/markdown": [
       "<span style=\"color:#33cc99\">Solution:</span> \n",
       "```python\n",
       "radius = diameter / 2\n",
       "area = pi * radius ** 2\n",
       "```"
      ],
      "text/plain": [
       "Solution: \n",
       "```python\n",
       "radius = diameter / 2\n",
       "area = pi * radius ** 2\n",
       "```"
      ]
     },
     "metadata": {},
     "output_type": "display_data"
    }
   ],
   "source": [
    "# Uncomment and run the lines below if you need help.\n",
    "#q1.hint()\n",
    "q1.solution()"
   ]
  },
  {
   "cell_type": "markdown",
   "id": "b6ab9fc2",
   "metadata": {
    "papermill": {
     "duration": 0.007914,
     "end_time": "2022-08-23T20:01:09.717186",
     "exception": false,
     "start_time": "2022-08-23T20:01:09.709272",
     "status": "completed"
    },
    "tags": []
   },
   "source": [
    "<hr/>\n",
    "\n",
    "# 2.\n",
    "\n",
    "Add code to the following cell to swap variables `a` and `b` (so that `a` refers to the object previously referred to by `b` and vice versa)."
   ]
  },
  {
   "cell_type": "code",
   "execution_count": 8,
   "id": "eef4769e",
   "metadata": {
    "execution": {
     "iopub.execute_input": "2022-08-23T20:01:09.735474Z",
     "iopub.status.busy": "2022-08-23T20:01:09.735057Z",
     "iopub.status.idle": "2022-08-23T20:01:09.745046Z",
     "shell.execute_reply": "2022-08-23T20:01:09.743866Z"
    },
    "papermill": {
     "duration": 0.02198,
     "end_time": "2022-08-23T20:01:09.747307",
     "exception": false,
     "start_time": "2022-08-23T20:01:09.725327",
     "status": "completed"
    },
    "tags": []
   },
   "outputs": [
    {
     "data": {
      "application/javascript": [
       "parent.postMessage({\"jupyterEvent\": \"custom.exercise_interaction\", \"data\": {\"outcomeType\": 1, \"valueTowardsCompletion\": 0.25, \"interactionType\": 1, \"questionType\": 2, \"questionId\": \"2_VariableSwap\", \"learnToolsVersion\": \"0.3.4\", \"failureMessage\": \"\", \"exceptionClass\": \"\", \"trace\": \"\"}}, \"*\")"
      ],
      "text/plain": [
       "<IPython.core.display.Javascript object>"
      ]
     },
     "metadata": {},
     "output_type": "display_data"
    },
    {
     "data": {
      "text/markdown": [
       "<span style=\"color:#33cc33\">Correct:</span> \n",
       "\n",
       "The most straightforward solution is to use a third variable to temporarily store one of the old values. e.g.:\n",
       "\n",
       "    tmp = a\n",
       "    a = b\n",
       "    b = tmp\n",
       "\n",
       "If you've read lots of Python code, you might have seen the following trick to swap two variables in one line:\n",
       "\n",
       "    a, b = b, a\n",
       "\n",
       "We'll demystify this bit of Python magic later when we talk about *tuples*."
      ],
      "text/plain": [
       "Correct: \n",
       "\n",
       "The most straightforward solution is to use a third variable to temporarily store one of the old values. e.g.:\n",
       "\n",
       "    tmp = a\n",
       "    a = b\n",
       "    b = tmp\n",
       "\n",
       "If you've read lots of Python code, you might have seen the following trick to swap two variables in one line:\n",
       "\n",
       "    a, b = b, a\n",
       "\n",
       "We'll demystify this bit of Python magic later when we talk about *tuples*."
      ]
     },
     "metadata": {},
     "output_type": "display_data"
    }
   ],
   "source": [
    "########### Setup code - don't touch this part ######################\n",
    "# If you're curious, these are examples of lists. We'll talk about \n",
    "# them in depth a few lessons from now. For now, just know that they're\n",
    "# yet another type of Python object, like int or float.\n",
    "a = [1, 2, 3]\n",
    "b = [3, 2, 1]\n",
    "q2.store_original_ids()\n",
    "######################################################################\n",
    "\n",
    "# Your code goes here. Swap the values to which a and b refer.\n",
    "# If you get stuck, you can always uncomment one or both of the lines in\n",
    "# the next cell for a hint, or to peek at the solution.\n",
    "temp=a\n",
    "a=b\n",
    "b=temp\n",
    "######################################################################\n",
    "\n",
    "# Check your answer\n",
    "q2.check()"
   ]
  },
  {
   "cell_type": "code",
   "execution_count": 9,
   "id": "7af2c07e",
   "metadata": {
    "execution": {
     "iopub.execute_input": "2022-08-23T20:01:09.766094Z",
     "iopub.status.busy": "2022-08-23T20:01:09.765661Z",
     "iopub.status.idle": "2022-08-23T20:01:09.770974Z",
     "shell.execute_reply": "2022-08-23T20:01:09.769619Z"
    },
    "papermill": {
     "duration": 0.017719,
     "end_time": "2022-08-23T20:01:09.773428",
     "exception": false,
     "start_time": "2022-08-23T20:01:09.755709",
     "status": "completed"
    },
    "tags": []
   },
   "outputs": [],
   "source": [
    "#q2.hint()"
   ]
  },
  {
   "cell_type": "code",
   "execution_count": 10,
   "id": "34b34900",
   "metadata": {
    "execution": {
     "iopub.execute_input": "2022-08-23T20:01:09.792295Z",
     "iopub.status.busy": "2022-08-23T20:01:09.791907Z",
     "iopub.status.idle": "2022-08-23T20:01:09.797114Z",
     "shell.execute_reply": "2022-08-23T20:01:09.795827Z"
    },
    "papermill": {
     "duration": 0.017413,
     "end_time": "2022-08-23T20:01:09.799436",
     "exception": false,
     "start_time": "2022-08-23T20:01:09.782023",
     "status": "completed"
    },
    "tags": []
   },
   "outputs": [],
   "source": [
    "#q2.solution()"
   ]
  },
  {
   "cell_type": "markdown",
   "id": "24e9a12c",
   "metadata": {
    "papermill": {
     "duration": 0.008206,
     "end_time": "2022-08-23T20:01:09.816499",
     "exception": false,
     "start_time": "2022-08-23T20:01:09.808293",
     "status": "completed"
    },
    "tags": []
   },
   "source": [
    "<hr/>\n",
    "\n",
    "# 3a.\n",
    "\n",
    "Add parentheses to the following expression so that it evaluates to 1."
   ]
  },
  {
   "cell_type": "code",
   "execution_count": 11,
   "id": "255582a3",
   "metadata": {
    "execution": {
     "iopub.execute_input": "2022-08-23T20:01:09.835282Z",
     "iopub.status.busy": "2022-08-23T20:01:09.834869Z",
     "iopub.status.idle": "2022-08-23T20:01:09.841215Z",
     "shell.execute_reply": "2022-08-23T20:01:09.840268Z"
    },
    "papermill": {
     "duration": 0.018354,
     "end_time": "2022-08-23T20:01:09.843386",
     "exception": false,
     "start_time": "2022-08-23T20:01:09.825032",
     "status": "completed"
    },
    "tags": []
   },
   "outputs": [
    {
     "data": {
      "text/plain": [
       "1"
      ]
     },
     "execution_count": 11,
     "metadata": {},
     "output_type": "execute_result"
    }
   ],
   "source": [
    "(5 - 3 )// 2"
   ]
  },
  {
   "cell_type": "code",
   "execution_count": 12,
   "id": "7c634ebf",
   "metadata": {
    "execution": {
     "iopub.execute_input": "2022-08-23T20:01:09.863093Z",
     "iopub.status.busy": "2022-08-23T20:01:09.862588Z",
     "iopub.status.idle": "2022-08-23T20:01:09.867256Z",
     "shell.execute_reply": "2022-08-23T20:01:09.866069Z"
    },
    "papermill": {
     "duration": 0.017309,
     "end_time": "2022-08-23T20:01:09.869500",
     "exception": false,
     "start_time": "2022-08-23T20:01:09.852191",
     "status": "completed"
    },
    "tags": []
   },
   "outputs": [],
   "source": [
    "#q3.a.hint()"
   ]
  },
  {
   "cell_type": "code",
   "execution_count": 13,
   "id": "77b96862",
   "metadata": {
    "execution": {
     "iopub.execute_input": "2022-08-23T20:01:09.889359Z",
     "iopub.status.busy": "2022-08-23T20:01:09.888565Z",
     "iopub.status.idle": "2022-08-23T20:01:09.897458Z",
     "shell.execute_reply": "2022-08-23T20:01:09.896289Z"
    },
    "papermill": {
     "duration": 0.021721,
     "end_time": "2022-08-23T20:01:09.899866",
     "exception": false,
     "start_time": "2022-08-23T20:01:09.878145",
     "status": "completed"
    },
    "tags": []
   },
   "outputs": [
    {
     "data": {
      "application/javascript": [
       "parent.postMessage({\"jupyterEvent\": \"custom.exercise_interaction\", \"data\": {\"interactionType\": 3, \"questionType\": 4, \"questionId\": \"3.1_ArithmeticParensEasy\", \"learnToolsVersion\": \"0.3.4\", \"valueTowardsCompletion\": 0.0, \"failureMessage\": \"\", \"exceptionClass\": \"\", \"trace\": \"\", \"outcomeType\": 4}}, \"*\")"
      ],
      "text/plain": [
       "<IPython.core.display.Javascript object>"
      ]
     },
     "metadata": {},
     "output_type": "display_data"
    },
    {
     "data": {
      "text/markdown": [
       "<span style=\"color:#33cc99\">Solution:</span> \n",
       "```python\n",
       "(5 - 3) // 2\n",
       "```"
      ],
      "text/plain": [
       "Solution: \n",
       "```python\n",
       "(5 - 3) // 2\n",
       "```"
      ]
     },
     "metadata": {},
     "output_type": "display_data"
    }
   ],
   "source": [
    "# Check your answer (Run this code cell to receive credit!)\n",
    "q3.a.solution()"
   ]
  },
  {
   "cell_type": "markdown",
   "id": "0124ec61",
   "metadata": {
    "papermill": {
     "duration": 0.008494,
     "end_time": "2022-08-23T20:01:09.917476",
     "exception": false,
     "start_time": "2022-08-23T20:01:09.908982",
     "status": "completed"
    },
    "tags": []
   },
   "source": [
    "# 3b.  <span title=\"A bit spicy\" style=\"color: darkgreen \">🌶️</span>\n",
    "\n",
    "<small>Questions, like this one, marked a spicy pepper are a bit harder.</small>\n",
    "\n",
    "Add parentheses to the following expression so that it evaluates to 0."
   ]
  },
  {
   "cell_type": "code",
   "execution_count": 14,
   "id": "a89515da",
   "metadata": {
    "execution": {
     "iopub.execute_input": "2022-08-23T20:01:09.937189Z",
     "iopub.status.busy": "2022-08-23T20:01:09.936763Z",
     "iopub.status.idle": "2022-08-23T20:01:09.943814Z",
     "shell.execute_reply": "2022-08-23T20:01:09.942677Z"
    },
    "papermill": {
     "duration": 0.020002,
     "end_time": "2022-08-23T20:01:09.946288",
     "exception": false,
     "start_time": "2022-08-23T20:01:09.926286",
     "status": "completed"
    },
    "tags": []
   },
   "outputs": [
    {
     "data": {
      "text/plain": [
       "0"
      ]
     },
     "execution_count": 14,
     "metadata": {},
     "output_type": "execute_result"
    }
   ],
   "source": [
    "(8 - 3) * (2 - (1 + 1))"
   ]
  },
  {
   "cell_type": "code",
   "execution_count": 15,
   "id": "5d7c9c51",
   "metadata": {
    "execution": {
     "iopub.execute_input": "2022-08-23T20:01:09.966462Z",
     "iopub.status.busy": "2022-08-23T20:01:09.966010Z",
     "iopub.status.idle": "2022-08-23T20:01:09.970540Z",
     "shell.execute_reply": "2022-08-23T20:01:09.969612Z"
    },
    "papermill": {
     "duration": 0.01737,
     "end_time": "2022-08-23T20:01:09.972757",
     "exception": false,
     "start_time": "2022-08-23T20:01:09.955387",
     "status": "completed"
    },
    "tags": []
   },
   "outputs": [],
   "source": [
    "#q3.b.hint()"
   ]
  },
  {
   "cell_type": "code",
   "execution_count": 16,
   "id": "e57b263a",
   "metadata": {
    "execution": {
     "iopub.execute_input": "2022-08-23T20:01:09.992773Z",
     "iopub.status.busy": "2022-08-23T20:01:09.992334Z",
     "iopub.status.idle": "2022-08-23T20:01:10.001302Z",
     "shell.execute_reply": "2022-08-23T20:01:10.000216Z"
    },
    "papermill": {
     "duration": 0.021801,
     "end_time": "2022-08-23T20:01:10.003768",
     "exception": false,
     "start_time": "2022-08-23T20:01:09.981967",
     "status": "completed"
    },
    "tags": []
   },
   "outputs": [
    {
     "data": {
      "application/javascript": [
       "parent.postMessage({\"jupyterEvent\": \"custom.exercise_interaction\", \"data\": {\"interactionType\": 3, \"questionType\": 4, \"questionId\": \"3.2_ArithmeticParensHard\", \"learnToolsVersion\": \"0.3.4\", \"valueTowardsCompletion\": 0.0, \"failureMessage\": \"\", \"exceptionClass\": \"\", \"trace\": \"\", \"outcomeType\": 4}}, \"*\")"
      ],
      "text/plain": [
       "<IPython.core.display.Javascript object>"
      ]
     },
     "metadata": {},
     "output_type": "display_data"
    },
    {
     "data": {
      "text/markdown": [
       "<span style=\"color:#33cc99\">Solution:</span> `(8 - 3) * (2 - (1 + 1))` is one solution. There may be others."
      ],
      "text/plain": [
       "Solution: `(8 - 3) * (2 - (1 + 1))` is one solution. There may be others."
      ]
     },
     "metadata": {},
     "output_type": "display_data"
    }
   ],
   "source": [
    "# Check your answer (Run this code cell to receive credit!)\n",
    "q3.b.solution()"
   ]
  },
  {
   "cell_type": "markdown",
   "id": "9c6a4d8c",
   "metadata": {
    "papermill": {
     "duration": 0.008995,
     "end_time": "2022-08-23T20:01:10.022335",
     "exception": false,
     "start_time": "2022-08-23T20:01:10.013340",
     "status": "completed"
    },
    "tags": []
   },
   "source": [
    "<hr/>\n",
    "\n",
    "# 4. \n",
    "Alice, Bob and Carol have agreed to pool their Halloween candy and split it evenly among themselves.\n",
    "For the sake of their friendship, any candies left over will be smashed. For example, if they collectively\n",
    "bring home 91 candies, they'll take 30 each and smash 1.\n",
    "\n",
    "Write an arithmetic expression below to calculate how many candies they must smash for a given haul."
   ]
  },
  {
   "cell_type": "code",
   "execution_count": 17,
   "id": "c3110c6c",
   "metadata": {
    "execution": {
     "iopub.execute_input": "2022-08-23T20:01:10.042985Z",
     "iopub.status.busy": "2022-08-23T20:01:10.042531Z",
     "iopub.status.idle": "2022-08-23T20:01:10.052602Z",
     "shell.execute_reply": "2022-08-23T20:01:10.051357Z"
    },
    "papermill": {
     "duration": 0.023494,
     "end_time": "2022-08-23T20:01:10.055034",
     "exception": false,
     "start_time": "2022-08-23T20:01:10.031540",
     "status": "completed"
    },
    "tags": []
   },
   "outputs": [
    {
     "data": {
      "application/javascript": [
       "parent.postMessage({\"jupyterEvent\": \"custom.exercise_interaction\", \"data\": {\"outcomeType\": 1, \"valueTowardsCompletion\": 0.25, \"interactionType\": 1, \"questionType\": 1, \"questionId\": \"4_CandySplitting\", \"learnToolsVersion\": \"0.3.4\", \"failureMessage\": \"\", \"exceptionClass\": \"\", \"trace\": \"\"}}, \"*\")"
      ],
      "text/plain": [
       "<IPython.core.display.Javascript object>"
      ]
     },
     "metadata": {},
     "output_type": "display_data"
    },
    {
     "data": {
      "text/markdown": [
       "<span style=\"color:#33cc33\">Correct</span>"
      ],
      "text/plain": [
       "Correct"
      ]
     },
     "metadata": {},
     "output_type": "display_data"
    }
   ],
   "source": [
    "# Variables representing the number of candies collected by alice, bob, and carol\n",
    "alice_candies = 121\n",
    "bob_candies = 77\n",
    "carol_candies = 109\n",
    "\n",
    "# Your code goes here! Replace the right-hand side of this assignment with an expression\n",
    "# involving alice_candies, bob_candies, and carol_candies\n",
    "to_smash = ((alice_candies+bob_candies+carol_candies)% 3)\n",
    "\n",
    "# Check your answer\n",
    "q4.check()"
   ]
  },
  {
   "cell_type": "code",
   "execution_count": 18,
   "id": "c8be166d",
   "metadata": {
    "execution": {
     "iopub.execute_input": "2022-08-23T20:01:10.076432Z",
     "iopub.status.busy": "2022-08-23T20:01:10.076027Z",
     "iopub.status.idle": "2022-08-23T20:01:10.085453Z",
     "shell.execute_reply": "2022-08-23T20:01:10.084226Z"
    },
    "papermill": {
     "duration": 0.0231,
     "end_time": "2022-08-23T20:01:10.087914",
     "exception": false,
     "start_time": "2022-08-23T20:01:10.064814",
     "status": "completed"
    },
    "tags": []
   },
   "outputs": [
    {
     "data": {
      "application/javascript": [
       "parent.postMessage({\"jupyterEvent\": \"custom.exercise_interaction\", \"data\": {\"interactionType\": 3, \"questionType\": 1, \"questionId\": \"4_CandySplitting\", \"learnToolsVersion\": \"0.3.4\", \"valueTowardsCompletion\": 0.0, \"failureMessage\": \"\", \"exceptionClass\": \"\", \"trace\": \"\", \"outcomeType\": 4}}, \"*\")"
      ],
      "text/plain": [
       "<IPython.core.display.Javascript object>"
      ]
     },
     "metadata": {},
     "output_type": "display_data"
    },
    {
     "data": {
      "text/markdown": [
       "<span style=\"color:#33cc99\">Solution:</span> \n",
       "```python\n",
       "(alice_candies + bob_candies + carol_candies) % 3\n",
       "```"
      ],
      "text/plain": [
       "Solution: \n",
       "```python\n",
       "(alice_candies + bob_candies + carol_candies) % 3\n",
       "```"
      ]
     },
     "metadata": {},
     "output_type": "display_data"
    }
   ],
   "source": [
    "#q4.hint()\n",
    "q4.solution()"
   ]
  },
  {
   "cell_type": "markdown",
   "id": "f901c04d",
   "metadata": {
    "papermill": {
     "duration": 0.009619,
     "end_time": "2022-08-23T20:01:10.107455",
     "exception": false,
     "start_time": "2022-08-23T20:01:10.097836",
     "status": "completed"
    },
    "tags": []
   },
   "source": [
    "# Keep Going\n",
    "\n",
    "Next up, you'll **[learn to write new functions and understand functions others write](https://www.kaggle.com/colinmorris/functions-and-getting-help)**. This will make you at least 10 times more productive as a Python programmer. "
   ]
  },
  {
   "cell_type": "markdown",
   "id": "0622ad12",
   "metadata": {
    "papermill": {
     "duration": 0.009489,
     "end_time": "2022-08-23T20:01:10.126876",
     "exception": false,
     "start_time": "2022-08-23T20:01:10.117387",
     "status": "completed"
    },
    "tags": []
   },
   "source": [
    "---\n",
    "\n",
    "\n",
    "\n",
    "\n",
    "*Have questions or comments? Visit the [Learn Discussion forum](https://www.kaggle.com/learn-forum/161283) to chat with other Learners.*"
   ]
  }
 ],
 "metadata": {
  "kernelspec": {
   "display_name": "Python 3",
   "language": "python",
   "name": "python3"
  },
  "language_info": {
   "codemirror_mode": {
    "name": "ipython",
    "version": 3
   },
   "file_extension": ".py",
   "mimetype": "text/x-python",
   "name": "python",
   "nbconvert_exporter": "python",
   "pygments_lexer": "ipython3",
   "version": "3.7.12"
  },
  "papermill": {
   "default_parameters": {},
   "duration": 12.05069,
   "end_time": "2022-08-23T20:01:10.858585",
   "environment_variables": {},
   "exception": null,
   "input_path": "__notebook__.ipynb",
   "output_path": "__notebook__.ipynb",
   "parameters": {},
   "start_time": "2022-08-23T20:00:58.807895",
   "version": "2.3.4"
  }
 },
 "nbformat": 4,
 "nbformat_minor": 5
}
