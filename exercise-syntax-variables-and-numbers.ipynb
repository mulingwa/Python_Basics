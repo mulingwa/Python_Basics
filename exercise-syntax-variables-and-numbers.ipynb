{
 "cells": [
  {
   "cell_type": "markdown",
   "id": "83a4822f",
   "metadata": {
    "papermill": {
     "duration": 0.006536,
     "end_time": "2022-08-23T20:01:27.396243",
     "exception": false,
     "start_time": "2022-08-23T20:01:27.389707",
     "status": "completed"
    },
    "tags": []
   },
   "source": [
    "**This notebook is an exercise in the [Python](https://www.kaggle.com/learn/python) course.  You can reference the tutorial at [this link](https://www.kaggle.com/colinmorris/hello-python).**\n",
    "\n",
    "---\n"
   ]
  },
  {
   "cell_type": "markdown",
   "id": "9947ac09",
   "metadata": {
    "papermill": {
     "duration": 0.005447,
     "end_time": "2022-08-23T20:01:27.407445",
     "exception": false,
     "start_time": "2022-08-23T20:01:27.401998",
     "status": "completed"
    },
    "tags": []
   },
   "source": [
    "Welcome to your first set of Python coding problems.  If this is your first time using Kaggle Notebooks, welcome! \n",
    "\n",
    "Notebooks are composed of blocks (called \"cells\") of text and code. Each of these is editable, though you'll mainly be editing the code cells to answer some questions.\n",
    "\n",
    "To get started, try running the code cell below (by pressing the ► button, or clicking on the cell and pressing ctrl+enter on your keyboard)."
   ]
  },
  {
   "cell_type": "code",
   "execution_count": null,
   "id": "5d081cbe",
   "metadata": {
    "papermill": {
     "duration": 0.005401,
     "end_time": "2022-08-23T20:01:27.418413",
     "exception": false,
     "start_time": "2022-08-23T20:01:27.413012",
     "status": "completed"
    },
    "tags": []
   },
   "outputs": [],
   "source": []
  },
  {
   "cell_type": "code",
   "execution_count": 1,
   "id": "42141280",
   "metadata": {
    "execution": {
     "iopub.execute_input": "2022-08-23T20:01:27.431711Z",
     "iopub.status.busy": "2022-08-23T20:01:27.431266Z",
     "iopub.status.idle": "2022-08-23T20:01:27.442547Z",
     "shell.execute_reply": "2022-08-23T20:01:27.441936Z"
    },
    "papermill": {
     "duration": 0.020596,
     "end_time": "2022-08-23T20:01:27.444631",
     "exception": false,
     "start_time": "2022-08-23T20:01:27.424035",
     "status": "completed"
    },
    "tags": []
   },
   "outputs": [
    {
     "name": "stdout",
     "output_type": "stream",
     "text": [
      "You've successfully run some Python code\n",
      "Congratulations!\n",
      "Hello\n"
     ]
    }
   ],
   "source": [
    "print(\"You've successfully run some Python code\")\n",
    "print(\"Congratulations!\")\n",
    "print(\"Hello\")"
   ]
  },
  {
   "cell_type": "code",
   "execution_count": 2,
   "id": "fae8f6e5",
   "metadata": {
    "execution": {
     "iopub.execute_input": "2022-08-23T20:01:27.458951Z",
     "iopub.status.busy": "2022-08-23T20:01:27.458516Z",
     "iopub.status.idle": "2022-08-23T20:01:27.463902Z",
     "shell.execute_reply": "2022-08-23T20:01:27.462755Z"
    },
    "papermill": {
     "duration": 0.014344,
     "end_time": "2022-08-23T20:01:27.465812",
     "exception": false,
     "start_time": "2022-08-23T20:01:27.451468",
     "status": "completed"
    },
    "tags": []
   },
   "outputs": [
    {
     "name": "stdout",
     "output_type": "stream",
     "text": [
      "Python learner\n",
      "vibuziiiiiiiiiiiii\n"
     ]
    }
   ],
   "source": [
    "name=\"learner\"\n",
    "print(\"Python \"+ name)\n",
    "print(\"vibuziiiiiiiiiiiii\")"
   ]
  },
  {
   "cell_type": "markdown",
   "id": "4d18b819",
   "metadata": {
    "papermill": {
     "duration": 0.00564,
     "end_time": "2022-08-23T20:01:27.477953",
     "exception": false,
     "start_time": "2022-08-23T20:01:27.472313",
     "status": "completed"
    },
    "tags": []
   },
   "source": [
    "Try adding another line of code in the cell above and re-running it. \n",
    "\n",
    "Now let's get a little fancier:  Add a new code cell by clicking on an existing code cell, hitting the escape key, and then hitting the `a` or `b` key.  The `a` key will add a cell above the current cell, and `b` adds a cell below.\n",
    "\n",
    "Great! Now you know how to use Notebooks.\n",
    "\n",
    "Each hands-on exercise starts by setting up our feedback and code checking mechanism. Run the code cell below to do that. Then you'll be ready to move on to question 0."
   ]
  },
  {
   "cell_type": "code",
   "execution_count": 3,
   "id": "81a11bd4",
   "metadata": {
    "_kg_hide-input": true,
    "_kg_hide-output": true,
    "execution": {
     "iopub.execute_input": "2022-08-23T20:01:27.491308Z",
     "iopub.status.busy": "2022-08-23T20:01:27.490618Z",
     "iopub.status.idle": "2022-08-23T20:01:27.525440Z",
     "shell.execute_reply": "2022-08-23T20:01:27.524461Z"
    },
    "papermill": {
     "duration": 0.043632,
     "end_time": "2022-08-23T20:01:27.527360",
     "exception": false,
     "start_time": "2022-08-23T20:01:27.483728",
     "status": "completed"
    },
    "tags": []
   },
   "outputs": [
    {
     "name": "stdout",
     "output_type": "stream",
     "text": [
      "Setup complete! You're ready to start question 0.\n"
     ]
    }
   ],
   "source": [
    "from learntools.core import binder; binder.bind(globals())\n",
    "from learntools.python.ex1 import *\n",
    "print(\"Setup complete! You're ready to start question 0.\")"
   ]
  },
  {
   "cell_type": "markdown",
   "id": "68146224",
   "metadata": {
    "papermill": {
     "duration": 0.005791,
     "end_time": "2022-08-23T20:01:27.539284",
     "exception": false,
     "start_time": "2022-08-23T20:01:27.533493",
     "status": "completed"
    },
    "tags": []
   },
   "source": [
    "# 0.\n",
    "\n",
    "*This is a silly question intended as an introduction to the format we use for hands-on exercises throughout all Kaggle courses.*\n",
    "\n",
    "**What is your favorite color? **\n",
    "\n",
    "To complete this question, create a variable called `color` in the cell below with an appropriate value. The function call `q0.check()` (which we've already provided in the cell below) will check your answer."
   ]
  },
  {
   "cell_type": "code",
   "execution_count": 4,
   "id": "d627d2c3",
   "metadata": {
    "execution": {
     "iopub.execute_input": "2022-08-23T20:01:27.552206Z",
     "iopub.status.busy": "2022-08-23T20:01:27.551887Z",
     "iopub.status.idle": "2022-08-23T20:01:27.560496Z",
     "shell.execute_reply": "2022-08-23T20:01:27.559890Z"
    },
    "papermill": {
     "duration": 0.017084,
     "end_time": "2022-08-23T20:01:27.562148",
     "exception": false,
     "start_time": "2022-08-23T20:01:27.545064",
     "status": "completed"
    },
    "tags": []
   },
   "outputs": [
    {
     "data": {
      "application/javascript": [
       "parent.postMessage({\"jupyterEvent\": \"custom.exercise_interaction\", \"data\": {\"outcomeType\": 1, \"valueTowardsCompletion\": 0.25, \"interactionType\": 1, \"questionType\": 2, \"questionId\": \"0_ExerciseFormatTutorial\", \"learnToolsVersion\": \"0.3.4\", \"failureMessage\": \"\", \"exceptionClass\": \"\", \"trace\": \"\"}}, \"*\")"
      ],
      "text/plain": [
       "<IPython.core.display.Javascript object>"
      ]
     },
     "metadata": {},
     "output_type": "display_data"
    },
    {
     "data": {
      "text/markdown": [
       "<span style=\"color:#33cc33\">Correct:</span> What?! You got it right without needing a hint or anything? Drats. Well hey, you should still continue to the next step to get some practice asking for a hint and checking solutions. (Even though you obviously don't need any help here.)"
      ],
      "text/plain": [
       "Correct: What?! You got it right without needing a hint or anything? Drats. Well hey, you should still continue to the next step to get some practice asking for a hint and checking solutions. (Even though you obviously don't need any help here.)"
      ]
     },
     "metadata": {},
     "output_type": "display_data"
    }
   ],
   "source": [
    "# create a variable called color with an appropriate value on the line below\n",
    "# (Remember, strings in Python must be enclosed in 'single' or \"double\" quotes)\n",
    "____\n",
    "color=\"Blue\"\n",
    "# Check your answer\n",
    "q0.check()"
   ]
  },
  {
   "cell_type": "markdown",
   "id": "117e00d4",
   "metadata": {
    "jupyter": {
     "source_hidden": true
    },
    "papermill": {
     "duration": 0.005811,
     "end_time": "2022-08-23T20:01:27.574581",
     "exception": false,
     "start_time": "2022-08-23T20:01:27.568770",
     "status": "completed"
    },
    "tags": []
   },
   "source": [
    "Didn't get the right answer? How do you not even know your own favorite color?!\n",
    "\n",
    "Delete the `#` in the line below to make one of the lines run. You can choose between getting a hint or the full answer by choosing which line to remove the `#` from. \n",
    "\n",
    "Removing the `#` is called uncommenting, because it changes that line from a \"comment\" which Python doesn't run to code, which Python does run."
   ]
  },
  {
   "cell_type": "code",
   "execution_count": 5,
   "id": "121e5365",
   "metadata": {
    "execution": {
     "iopub.execute_input": "2022-08-23T20:01:27.588026Z",
     "iopub.status.busy": "2022-08-23T20:01:27.587670Z",
     "iopub.status.idle": "2022-08-23T20:01:27.594523Z",
     "shell.execute_reply": "2022-08-23T20:01:27.593687Z"
    },
    "papermill": {
     "duration": 0.015676,
     "end_time": "2022-08-23T20:01:27.596281",
     "exception": false,
     "start_time": "2022-08-23T20:01:27.580605",
     "status": "completed"
    },
    "tags": []
   },
   "outputs": [
    {
     "data": {
      "application/javascript": [
       "parent.postMessage({\"jupyterEvent\": \"custom.exercise_interaction\", \"data\": {\"interactionType\": 2, \"questionType\": 2, \"questionId\": \"0_ExerciseFormatTutorial\", \"learnToolsVersion\": \"0.3.4\", \"valueTowardsCompletion\": 0.0, \"failureMessage\": \"\", \"exceptionClass\": \"\", \"trace\": \"\", \"outcomeType\": 4}}, \"*\")"
      ],
      "text/plain": [
       "<IPython.core.display.Javascript object>"
      ]
     },
     "metadata": {},
     "output_type": "display_data"
    },
    {
     "data": {
      "text/markdown": [
       "<span style=\"color:#3366cc\">Hint:</span> Your favorite color rhymes with *glue*."
      ],
      "text/plain": [
       "Hint: Your favorite color rhymes with *glue*."
      ]
     },
     "metadata": {},
     "output_type": "display_data"
    }
   ],
   "source": [
    "q0.hint()\n",
    "#q0.solution()"
   ]
  },
  {
   "cell_type": "markdown",
   "id": "a4e5bef0",
   "metadata": {
    "papermill": {
     "duration": 0.006093,
     "end_time": "2022-08-23T20:01:27.608994",
     "exception": false,
     "start_time": "2022-08-23T20:01:27.602901",
     "status": "completed"
    },
    "tags": []
   },
   "source": [
    "The upcoming questions work the same way. The only thing that will change are the question numbers. For the next question, you'll call `q1.check()`, `q1.hint()`, `q1.solution()`, for question 2, you'll call `q2.check()`, and so on."
   ]
  },
  {
   "cell_type": "markdown",
   "id": "6cc88637",
   "metadata": {
    "papermill": {
     "duration": 0.006132,
     "end_time": "2022-08-23T20:01:27.621451",
     "exception": false,
     "start_time": "2022-08-23T20:01:27.615319",
     "status": "completed"
    },
    "tags": []
   },
   "source": [
    "<hr/>\n",
    "\n",
    "# 1.\n",
    "\n",
    "Complete the code below. In case it's helpful, here is the table of available arithmetic operations:\n",
    "\n",
    "\n",
    "\n",
    "| Operator     | Name           | Description                                            |\n",
    "|--------------|----------------|--------------------------------------------------------|\n",
    "| ``a + b``    | Addition       | Sum of ``a`` and ``b``                                 |\n",
    "| ``a - b``    | Subtraction    | Difference of ``a`` and ``b``                          |\n",
    "| ``a * b``    | Multiplication | Product of ``a`` and ``b``                             |\n",
    "| ``a / b``    | True division  | Quotient of ``a`` and ``b``                            |\n",
    "| ``a // b``   | Floor division | Quotient of ``a`` and ``b``, removing fractional parts |\n",
    "| ``a % b``    | Modulus        | Integer remainder after division of ``a`` by ``b``     |\n",
    "| ``a ** b``   | Exponentiation | ``a`` raised to the power of ``b``                     |\n",
    "| ``-a``       | Negation       | The negative of ``a``                                  |\n",
    "\n",
    "<span style=\"display:none\"></span>\n"
   ]
  },
  {
   "cell_type": "code",
   "execution_count": 6,
   "id": "822eaeed",
   "metadata": {
    "execution": {
     "iopub.execute_input": "2022-08-23T20:01:27.635659Z",
     "iopub.status.busy": "2022-08-23T20:01:27.635306Z",
     "iopub.status.idle": "2022-08-23T20:01:27.642916Z",
     "shell.execute_reply": "2022-08-23T20:01:27.642273Z"
    },
    "papermill": {
     "duration": 0.016727,
     "end_time": "2022-08-23T20:01:27.644458",
     "exception": false,
     "start_time": "2022-08-23T20:01:27.627731",
     "status": "completed"
    },
    "tags": []
   },
   "outputs": [
    {
     "data": {
      "application/javascript": [
       "parent.postMessage({\"jupyterEvent\": \"custom.exercise_interaction\", \"data\": {\"outcomeType\": 1, \"valueTowardsCompletion\": 0.25, \"interactionType\": 1, \"questionType\": 1, \"questionId\": \"1_CircleArea\", \"learnToolsVersion\": \"0.3.4\", \"failureMessage\": \"\", \"exceptionClass\": \"\", \"trace\": \"\"}}, \"*\")"
      ],
      "text/plain": [
       "<IPython.core.display.Javascript object>"
      ]
     },
     "metadata": {},
     "output_type": "display_data"
    },
    {
     "data": {
      "text/markdown": [
       "<span style=\"color:#33cc33\">Correct</span>"
      ],
      "text/plain": [
       "Correct"
      ]
     },
     "metadata": {},
     "output_type": "display_data"
    }
   ],
   "source": [
    "pi = 3.14159 # approximate\n",
    "diameter = 3\n",
    "\n",
    "# Create a variable called 'radius' equal to half the diameter\n",
    "radius=diameter/2\n",
    "# Create a variable called 'area', using the formula for the area of a circle: pi times the radius squared\n",
    "____\n",
    "area=pi * (radius **2)\n",
    "# Check your answer\n",
    "q1.check()"
   ]
  },
  {
   "cell_type": "code",
   "execution_count": 7,
   "id": "fc2d61e6",
   "metadata": {
    "execution": {
     "iopub.execute_input": "2022-08-23T20:01:27.658985Z",
     "iopub.status.busy": "2022-08-23T20:01:27.658662Z",
     "iopub.status.idle": "2022-08-23T20:01:27.664827Z",
     "shell.execute_reply": "2022-08-23T20:01:27.664216Z"
    },
    "papermill": {
     "duration": 0.015233,
     "end_time": "2022-08-23T20:01:27.666377",
     "exception": false,
     "start_time": "2022-08-23T20:01:27.651144",
     "status": "completed"
    },
    "tags": []
   },
   "outputs": [
    {
     "data": {
      "application/javascript": [
       "parent.postMessage({\"jupyterEvent\": \"custom.exercise_interaction\", \"data\": {\"interactionType\": 3, \"questionType\": 1, \"questionId\": \"1_CircleArea\", \"learnToolsVersion\": \"0.3.4\", \"valueTowardsCompletion\": 0.0, \"failureMessage\": \"\", \"exceptionClass\": \"\", \"trace\": \"\", \"outcomeType\": 4}}, \"*\")"
      ],
      "text/plain": [
       "<IPython.core.display.Javascript object>"
      ]
     },
     "metadata": {},
     "output_type": "display_data"
    },
    {
     "data": {
      "text/markdown": [
       "<span style=\"color:#33cc99\">Solution:</span> \n",
       "```python\n",
       "radius = diameter / 2\n",
       "area = pi * radius ** 2\n",
       "```"
      ],
      "text/plain": [
       "Solution: \n",
       "```python\n",
       "radius = diameter / 2\n",
       "area = pi * radius ** 2\n",
       "```"
      ]
     },
     "metadata": {},
     "output_type": "display_data"
    }
   ],
   "source": [
    "# Uncomment and run the lines below if you need help.\n",
    "#q1.hint()\n",
    "q1.solution()"
   ]
  },
  {
   "cell_type": "markdown",
   "id": "9dd04690",
   "metadata": {
    "papermill": {
     "duration": 0.006698,
     "end_time": "2022-08-23T20:01:27.679972",
     "exception": false,
     "start_time": "2022-08-23T20:01:27.673274",
     "status": "completed"
    },
    "tags": []
   },
   "source": [
    "<hr/>\n",
    "\n",
    "# 2.\n",
    "\n",
    "Add code to the following cell to swap variables `a` and `b` (so that `a` refers to the object previously referred to by `b` and vice versa)."
   ]
  },
  {
   "cell_type": "code",
   "execution_count": 8,
   "id": "343f4372",
   "metadata": {
    "execution": {
     "iopub.execute_input": "2022-08-23T20:01:27.694853Z",
     "iopub.status.busy": "2022-08-23T20:01:27.694482Z",
     "iopub.status.idle": "2022-08-23T20:01:27.703129Z",
     "shell.execute_reply": "2022-08-23T20:01:27.702279Z"
    },
    "papermill": {
     "duration": 0.018034,
     "end_time": "2022-08-23T20:01:27.704749",
     "exception": false,
     "start_time": "2022-08-23T20:01:27.686715",
     "status": "completed"
    },
    "tags": []
   },
   "outputs": [
    {
     "data": {
      "application/javascript": [
       "parent.postMessage({\"jupyterEvent\": \"custom.exercise_interaction\", \"data\": {\"outcomeType\": 1, \"valueTowardsCompletion\": 0.25, \"interactionType\": 1, \"questionType\": 2, \"questionId\": \"2_VariableSwap\", \"learnToolsVersion\": \"0.3.4\", \"failureMessage\": \"\", \"exceptionClass\": \"\", \"trace\": \"\"}}, \"*\")"
      ],
      "text/plain": [
       "<IPython.core.display.Javascript object>"
      ]
     },
     "metadata": {},
     "output_type": "display_data"
    },
    {
     "data": {
      "text/markdown": [
       "<span style=\"color:#33cc33\">Correct:</span> \n",
       "\n",
       "The most straightforward solution is to use a third variable to temporarily store one of the old values. e.g.:\n",
       "\n",
       "    tmp = a\n",
       "    a = b\n",
       "    b = tmp\n",
       "\n",
       "If you've read lots of Python code, you might have seen the following trick to swap two variables in one line:\n",
       "\n",
       "    a, b = b, a\n",
       "\n",
       "We'll demystify this bit of Python magic later when we talk about *tuples*."
      ],
      "text/plain": [
       "Correct: \n",
       "\n",
       "The most straightforward solution is to use a third variable to temporarily store one of the old values. e.g.:\n",
       "\n",
       "    tmp = a\n",
       "    a = b\n",
       "    b = tmp\n",
       "\n",
       "If you've read lots of Python code, you might have seen the following trick to swap two variables in one line:\n",
       "\n",
       "    a, b = b, a\n",
       "\n",
       "We'll demystify this bit of Python magic later when we talk about *tuples*."
      ]
     },
     "metadata": {},
     "output_type": "display_data"
    }
   ],
   "source": [
    "########### Setup code - don't touch this part ######################\n",
    "# If you're curious, these are examples of lists. We'll talk about \n",
    "# them in depth a few lessons from now. For now, just know that they're\n",
    "# yet another type of Python object, like int or float.\n",
    "a = [1, 2, 3]\n",
    "b = [3, 2, 1]\n",
    "q2.store_original_ids()\n",
    "######################################################################\n",
    "\n",
    "# Your code goes here. Swap the values to which a and b refer.\n",
    "# If you get stuck, you can always uncomment one or both of the lines in\n",
    "# the next cell for a hint, or to peek at the solution.\n",
    "temp=a\n",
    "a=b\n",
    "b=temp\n",
    "######################################################################\n",
    "\n",
    "# Check your answer\n",
    "q2.check()"
   ]
  },
  {
   "cell_type": "code",
   "execution_count": 9,
   "id": "b3c98a72",
   "metadata": {
    "execution": {
     "iopub.execute_input": "2022-08-23T20:01:27.719924Z",
     "iopub.status.busy": "2022-08-23T20:01:27.719568Z",
     "iopub.status.idle": "2022-08-23T20:01:27.723863Z",
     "shell.execute_reply": "2022-08-23T20:01:27.723003Z"
    },
    "papermill": {
     "duration": 0.013628,
     "end_time": "2022-08-23T20:01:27.725459",
     "exception": false,
     "start_time": "2022-08-23T20:01:27.711831",
     "status": "completed"
    },
    "tags": []
   },
   "outputs": [],
   "source": [
    "#q2.hint()"
   ]
  },
  {
   "cell_type": "code",
   "execution_count": 10,
   "id": "e86d117f",
   "metadata": {
    "execution": {
     "iopub.execute_input": "2022-08-23T20:01:27.741900Z",
     "iopub.status.busy": "2022-08-23T20:01:27.741437Z",
     "iopub.status.idle": "2022-08-23T20:01:27.746130Z",
     "shell.execute_reply": "2022-08-23T20:01:27.745253Z"
    },
    "papermill": {
     "duration": 0.014977,
     "end_time": "2022-08-23T20:01:27.747650",
     "exception": false,
     "start_time": "2022-08-23T20:01:27.732673",
     "status": "completed"
    },
    "tags": []
   },
   "outputs": [],
   "source": [
    "#q2.solution()"
   ]
  },
  {
   "cell_type": "markdown",
   "id": "66cf219f",
   "metadata": {
    "papermill": {
     "duration": 0.00704,
     "end_time": "2022-08-23T20:01:27.761977",
     "exception": false,
     "start_time": "2022-08-23T20:01:27.754937",
     "status": "completed"
    },
    "tags": []
   },
   "source": [
    "<hr/>\n",
    "\n",
    "# 3a.\n",
    "\n",
    "Add parentheses to the following expression so that it evaluates to 1."
   ]
  },
  {
   "cell_type": "code",
   "execution_count": 11,
   "id": "3a956849",
   "metadata": {
    "execution": {
     "iopub.execute_input": "2022-08-23T20:01:27.778272Z",
     "iopub.status.busy": "2022-08-23T20:01:27.777610Z",
     "iopub.status.idle": "2022-08-23T20:01:27.783446Z",
     "shell.execute_reply": "2022-08-23T20:01:27.782831Z"
    },
    "papermill": {
     "duration": 0.015984,
     "end_time": "2022-08-23T20:01:27.785201",
     "exception": false,
     "start_time": "2022-08-23T20:01:27.769217",
     "status": "completed"
    },
    "tags": []
   },
   "outputs": [
    {
     "data": {
      "text/plain": [
       "1"
      ]
     },
     "execution_count": 11,
     "metadata": {},
     "output_type": "execute_result"
    }
   ],
   "source": [
    "(5 - 3 )// 2"
   ]
  },
  {
   "cell_type": "code",
   "execution_count": 12,
   "id": "75cc6d62",
   "metadata": {
    "execution": {
     "iopub.execute_input": "2022-08-23T20:01:27.802203Z",
     "iopub.status.busy": "2022-08-23T20:01:27.801853Z",
     "iopub.status.idle": "2022-08-23T20:01:27.805684Z",
     "shell.execute_reply": "2022-08-23T20:01:27.804822Z"
    },
    "papermill": {
     "duration": 0.01456,
     "end_time": "2022-08-23T20:01:27.807508",
     "exception": false,
     "start_time": "2022-08-23T20:01:27.792948",
     "status": "completed"
    },
    "tags": []
   },
   "outputs": [],
   "source": [
    "#q3.a.hint()"
   ]
  },
  {
   "cell_type": "code",
   "execution_count": 13,
   "id": "4fc22f35",
   "metadata": {
    "execution": {
     "iopub.execute_input": "2022-08-23T20:01:27.824052Z",
     "iopub.status.busy": "2022-08-23T20:01:27.823569Z",
     "iopub.status.idle": "2022-08-23T20:01:27.830990Z",
     "shell.execute_reply": "2022-08-23T20:01:27.830252Z"
    },
    "papermill": {
     "duration": 0.017493,
     "end_time": "2022-08-23T20:01:27.832519",
     "exception": false,
     "start_time": "2022-08-23T20:01:27.815026",
     "status": "completed"
    },
    "tags": []
   },
   "outputs": [
    {
     "data": {
      "application/javascript": [
       "parent.postMessage({\"jupyterEvent\": \"custom.exercise_interaction\", \"data\": {\"interactionType\": 3, \"questionType\": 4, \"questionId\": \"3.1_ArithmeticParensEasy\", \"learnToolsVersion\": \"0.3.4\", \"valueTowardsCompletion\": 0.0, \"failureMessage\": \"\", \"exceptionClass\": \"\", \"trace\": \"\", \"outcomeType\": 4}}, \"*\")"
      ],
      "text/plain": [
       "<IPython.core.display.Javascript object>"
      ]
     },
     "metadata": {},
     "output_type": "display_data"
    },
    {
     "data": {
      "text/markdown": [
       "<span style=\"color:#33cc99\">Solution:</span> \n",
       "```python\n",
       "(5 - 3) // 2\n",
       "```"
      ],
      "text/plain": [
       "Solution: \n",
       "```python\n",
       "(5 - 3) // 2\n",
       "```"
      ]
     },
     "metadata": {},
     "output_type": "display_data"
    }
   ],
   "source": [
    "# Check your answer (Run this code cell to receive credit!)\n",
    "q3.a.solution()"
   ]
  },
  {
   "cell_type": "markdown",
   "id": "392dd269",
   "metadata": {
    "papermill": {
     "duration": 0.006937,
     "end_time": "2022-08-23T20:01:27.846876",
     "exception": false,
     "start_time": "2022-08-23T20:01:27.839939",
     "status": "completed"
    },
    "tags": []
   },
   "source": [
    "# 3b.  <span title=\"A bit spicy\" style=\"color: darkgreen \">🌶️</span>\n",
    "\n",
    "<small>Questions, like this one, marked a spicy pepper are a bit harder.</small>\n",
    "\n",
    "Add parentheses to the following expression so that it evaluates to 0."
   ]
  },
  {
   "cell_type": "code",
   "execution_count": 14,
   "id": "0ba97c63",
   "metadata": {
    "execution": {
     "iopub.execute_input": "2022-08-23T20:01:27.862676Z",
     "iopub.status.busy": "2022-08-23T20:01:27.862349Z",
     "iopub.status.idle": "2022-08-23T20:01:27.868093Z",
     "shell.execute_reply": "2022-08-23T20:01:27.867331Z"
    },
    "papermill": {
     "duration": 0.015665,
     "end_time": "2022-08-23T20:01:27.869697",
     "exception": false,
     "start_time": "2022-08-23T20:01:27.854032",
     "status": "completed"
    },
    "tags": []
   },
   "outputs": [
    {
     "data": {
      "text/plain": [
       "0"
      ]
     },
     "execution_count": 14,
     "metadata": {},
     "output_type": "execute_result"
    }
   ],
   "source": [
    "(8 - 3) * (2 - (1 + 1))"
   ]
  },
  {
   "cell_type": "code",
   "execution_count": 15,
   "id": "11e28e02",
   "metadata": {
    "execution": {
     "iopub.execute_input": "2022-08-23T20:01:27.885529Z",
     "iopub.status.busy": "2022-08-23T20:01:27.885283Z",
     "iopub.status.idle": "2022-08-23T20:01:27.889295Z",
     "shell.execute_reply": "2022-08-23T20:01:27.888370Z"
    },
    "papermill": {
     "duration": 0.014014,
     "end_time": "2022-08-23T20:01:27.891019",
     "exception": false,
     "start_time": "2022-08-23T20:01:27.877005",
     "status": "completed"
    },
    "tags": []
   },
   "outputs": [],
   "source": [
    "#q3.b.hint()"
   ]
  },
  {
   "cell_type": "code",
   "execution_count": 16,
   "id": "44988b79",
   "metadata": {
    "execution": {
     "iopub.execute_input": "2022-08-23T20:01:27.908335Z",
     "iopub.status.busy": "2022-08-23T20:01:27.907188Z",
     "iopub.status.idle": "2022-08-23T20:01:27.915269Z",
     "shell.execute_reply": "2022-08-23T20:01:27.914468Z"
    },
    "papermill": {
     "duration": 0.018795,
     "end_time": "2022-08-23T20:01:27.917228",
     "exception": false,
     "start_time": "2022-08-23T20:01:27.898433",
     "status": "completed"
    },
    "tags": []
   },
   "outputs": [
    {
     "data": {
      "application/javascript": [
       "parent.postMessage({\"jupyterEvent\": \"custom.exercise_interaction\", \"data\": {\"interactionType\": 3, \"questionType\": 4, \"questionId\": \"3.2_ArithmeticParensHard\", \"learnToolsVersion\": \"0.3.4\", \"valueTowardsCompletion\": 0.0, \"failureMessage\": \"\", \"exceptionClass\": \"\", \"trace\": \"\", \"outcomeType\": 4}}, \"*\")"
      ],
      "text/plain": [
       "<IPython.core.display.Javascript object>"
      ]
     },
     "metadata": {},
     "output_type": "display_data"
    },
    {
     "data": {
      "text/markdown": [
       "<span style=\"color:#33cc99\">Solution:</span> `(8 - 3) * (2 - (1 + 1))` is one solution. There may be others."
      ],
      "text/plain": [
       "Solution: `(8 - 3) * (2 - (1 + 1))` is one solution. There may be others."
      ]
     },
     "metadata": {},
     "output_type": "display_data"
    }
   ],
   "source": [
    "# Check your answer (Run this code cell to receive credit!)\n",
    "q3.b.solution()"
   ]
  },
  {
   "cell_type": "markdown",
   "id": "e9afdb49",
   "metadata": {
    "papermill": {
     "duration": 0.007978,
     "end_time": "2022-08-23T20:01:27.934083",
     "exception": false,
     "start_time": "2022-08-23T20:01:27.926105",
     "status": "completed"
    },
    "tags": []
   },
   "source": [
    "<hr/>\n",
    "\n",
    "# 4. \n",
    "Alice, Bob and Carol have agreed to pool their Halloween candy and split it evenly among themselves.\n",
    "For the sake of their friendship, any candies left over will be smashed. For example, if they collectively\n",
    "bring home 91 candies, they'll take 30 each and smash 1.\n",
    "\n",
    "Write an arithmetic expression below to calculate how many candies they must smash for a given haul."
   ]
  },
  {
   "cell_type": "code",
   "execution_count": 17,
   "id": "d07af13b",
   "metadata": {
    "execution": {
     "iopub.execute_input": "2022-08-23T20:01:27.951529Z",
     "iopub.status.busy": "2022-08-23T20:01:27.951087Z",
     "iopub.status.idle": "2022-08-23T20:01:27.959838Z",
     "shell.execute_reply": "2022-08-23T20:01:27.958884Z"
    },
    "papermill": {
     "duration": 0.019996,
     "end_time": "2022-08-23T20:01:27.962149",
     "exception": false,
     "start_time": "2022-08-23T20:01:27.942153",
     "status": "completed"
    },
    "tags": []
   },
   "outputs": [
    {
     "data": {
      "application/javascript": [
       "parent.postMessage({\"jupyterEvent\": \"custom.exercise_interaction\", \"data\": {\"outcomeType\": 1, \"valueTowardsCompletion\": 0.25, \"interactionType\": 1, \"questionType\": 1, \"questionId\": \"4_CandySplitting\", \"learnToolsVersion\": \"0.3.4\", \"failureMessage\": \"\", \"exceptionClass\": \"\", \"trace\": \"\"}}, \"*\")"
      ],
      "text/plain": [
       "<IPython.core.display.Javascript object>"
      ]
     },
     "metadata": {},
     "output_type": "display_data"
    },
    {
     "data": {
      "text/markdown": [
       "<span style=\"color:#33cc33\">Correct</span>"
      ],
      "text/plain": [
       "Correct"
      ]
     },
     "metadata": {},
     "output_type": "display_data"
    }
   ],
   "source": [
    "# Variables representing the number of candies collected by alice, bob, and carol\n",
    "alice_candies = 121\n",
    "bob_candies = 77\n",
    "carol_candies = 109\n",
    "\n",
    "# Your code goes here! Replace the right-hand side of this assignment with an expression\n",
    "# involving alice_candies, bob_candies, and carol_candies\n",
    "to_smash = ((alice_candies+bob_candies+carol_candies)% 3)\n",
    "\n",
    "# Check your answer\n",
    "q4.check()"
   ]
  },
  {
   "cell_type": "code",
   "execution_count": 18,
   "id": "3f9d3310",
   "metadata": {
    "execution": {
     "iopub.execute_input": "2022-08-23T20:01:27.981136Z",
     "iopub.status.busy": "2022-08-23T20:01:27.980771Z",
     "iopub.status.idle": "2022-08-23T20:01:27.987309Z",
     "shell.execute_reply": "2022-08-23T20:01:27.986281Z"
    },
    "papermill": {
     "duration": 0.01802,
     "end_time": "2022-08-23T20:01:27.988926",
     "exception": false,
     "start_time": "2022-08-23T20:01:27.970906",
     "status": "completed"
    },
    "tags": []
   },
   "outputs": [
    {
     "data": {
      "application/javascript": [
       "parent.postMessage({\"jupyterEvent\": \"custom.exercise_interaction\", \"data\": {\"interactionType\": 3, \"questionType\": 1, \"questionId\": \"4_CandySplitting\", \"learnToolsVersion\": \"0.3.4\", \"valueTowardsCompletion\": 0.0, \"failureMessage\": \"\", \"exceptionClass\": \"\", \"trace\": \"\", \"outcomeType\": 4}}, \"*\")"
      ],
      "text/plain": [
       "<IPython.core.display.Javascript object>"
      ]
     },
     "metadata": {},
     "output_type": "display_data"
    },
    {
     "data": {
      "text/markdown": [
       "<span style=\"color:#33cc99\">Solution:</span> \n",
       "```python\n",
       "(alice_candies + bob_candies + carol_candies) % 3\n",
       "```"
      ],
      "text/plain": [
       "Solution: \n",
       "```python\n",
       "(alice_candies + bob_candies + carol_candies) % 3\n",
       "```"
      ]
     },
     "metadata": {},
     "output_type": "display_data"
    }
   ],
   "source": [
    "#q4.hint()\n",
    "q4.solution()"
   ]
  },
  {
   "cell_type": "markdown",
   "id": "bf75d244",
   "metadata": {
    "papermill": {
     "duration": 0.008319,
     "end_time": "2022-08-23T20:01:28.005555",
     "exception": false,
     "start_time": "2022-08-23T20:01:27.997236",
     "status": "completed"
    },
    "tags": []
   },
   "source": [
    "# Keep Going\n",
    "\n",
    "Next up, you'll **[learn to write new functions and understand functions others write](https://www.kaggle.com/colinmorris/functions-and-getting-help)**. This will make you at least 10 times more productive as a Python programmer. "
   ]
  },
  {
   "cell_type": "markdown",
   "id": "6da41b41",
   "metadata": {
    "papermill": {
     "duration": 0.007817,
     "end_time": "2022-08-23T20:01:28.021311",
     "exception": false,
     "start_time": "2022-08-23T20:01:28.013494",
     "status": "completed"
    },
    "tags": []
   },
   "source": [
    "---\n",
    "\n",
    "\n",
    "\n",
    "\n",
    "*Have questions or comments? Visit the [Learn Discussion forum](https://www.kaggle.com/learn-forum/161283) to chat with other Learners.*"
   ]
  }
 ],
 "metadata": {
  "kernelspec": {
   "display_name": "Python 3",
   "language": "python",
   "name": "python3"
  },
  "language_info": {
   "codemirror_mode": {
    "name": "ipython",
    "version": 3
   },
   "file_extension": ".py",
   "mimetype": "text/x-python",
   "name": "python",
   "nbconvert_exporter": "python",
   "pygments_lexer": "ipython3",
   "version": "3.7.12"
  },
  "papermill": {
   "default_parameters": {},
   "duration": 8.610693,
   "end_time": "2022-08-23T20:01:28.647721",
   "environment_variables": {},
   "exception": null,
   "input_path": "__notebook__.ipynb",
   "output_path": "__notebook__.ipynb",
   "parameters": {},
   "start_time": "2022-08-23T20:01:20.037028",
   "version": "2.3.4"
  }
 },
 "nbformat": 4,
 "nbformat_minor": 5
}
