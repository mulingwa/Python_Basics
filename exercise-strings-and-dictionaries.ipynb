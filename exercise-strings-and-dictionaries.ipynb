{
 "cells": [
  {
   "cell_type": "markdown",
   "id": "f7b66018",
   "metadata": {
    "papermill": {
     "duration": 0.006456,
     "end_time": "2023-01-12T06:21:29.523465",
     "exception": false,
     "start_time": "2023-01-12T06:21:29.517009",
     "status": "completed"
    },
    "tags": []
   },
   "source": [
    "**This notebook is an exercise in the [Python](https://www.kaggle.com/learn/python) course.  You can reference the tutorial at [this link](https://www.kaggle.com/colinmorris/strings-and-dictionaries).**\n",
    "\n",
    "---\n"
   ]
  },
  {
   "cell_type": "markdown",
   "id": "dd140ad5",
   "metadata": {
    "papermill": {
     "duration": 0.005343,
     "end_time": "2023-01-12T06:21:29.534271",
     "exception": false,
     "start_time": "2023-01-12T06:21:29.528928",
     "status": "completed"
    },
    "tags": []
   },
   "source": [
    "You are almost done with the course. Nice job!\n",
    "\n",
    "We have a couple more interesting problems for you before you go. \n",
    "\n",
    "As always, run the setup code below before working on the questions."
   ]
  },
  {
   "cell_type": "code",
   "execution_count": 1,
   "id": "2c430d53",
   "metadata": {
    "execution": {
     "iopub.execute_input": "2023-01-12T06:21:29.547583Z",
     "iopub.status.busy": "2023-01-12T06:21:29.546939Z",
     "iopub.status.idle": "2023-01-12T06:21:29.613206Z",
     "shell.execute_reply": "2023-01-12T06:21:29.611926Z"
    },
    "papermill": {
     "duration": 0.076831,
     "end_time": "2023-01-12T06:21:29.616546",
     "exception": false,
     "start_time": "2023-01-12T06:21:29.539715",
     "status": "completed"
    },
    "tags": []
   },
   "outputs": [
    {
     "name": "stdout",
     "output_type": "stream",
     "text": [
      "Setup complete.\n"
     ]
    }
   ],
   "source": [
    "from learntools.core import binder; binder.bind(globals())\n",
    "from learntools.python.ex6 import *\n",
    "print('Setup complete.')"
   ]
  },
  {
   "cell_type": "markdown",
   "id": "4e87566a",
   "metadata": {
    "papermill": {
     "duration": 0.005102,
     "end_time": "2023-01-12T06:21:29.627127",
     "exception": false,
     "start_time": "2023-01-12T06:21:29.622025",
     "status": "completed"
    },
    "tags": []
   },
   "source": [
    "Let's start with a string lightning round to warm up. What are the lengths of the strings below?\n",
    "\n",
    "For each of the five strings below, predict what `len()` would return when passed that string. Use the variable `length` to record your answer, then run the cell to check whether you were right.  \n",
    "\n",
    "# 0a."
   ]
  },
  {
   "cell_type": "code",
   "execution_count": 2,
   "id": "a60f985d",
   "metadata": {
    "execution": {
     "iopub.execute_input": "2023-01-12T06:21:29.640399Z",
     "iopub.status.busy": "2023-01-12T06:21:29.639727Z",
     "iopub.status.idle": "2023-01-12T06:21:29.653783Z",
     "shell.execute_reply": "2023-01-12T06:21:29.652281Z"
    },
    "papermill": {
     "duration": 0.02335,
     "end_time": "2023-01-12T06:21:29.656121",
     "exception": false,
     "start_time": "2023-01-12T06:21:29.632771",
     "status": "completed"
    },
    "tags": []
   },
   "outputs": [
    {
     "name": "stdout",
     "output_type": "stream",
     "text": [
      "10\n"
     ]
    },
    {
     "data": {
      "application/javascript": [
       "parent.postMessage({\"jupyterEvent\": \"custom.exercise_interaction\", \"data\": {\"outcomeType\": 1, \"valueTowardsCompletion\": 0.3333333333333333, \"interactionType\": 1, \"questionType\": 1, \"questionId\": \"0.1_ZA\", \"learnToolsVersion\": \"0.3.4\", \"failureMessage\": \"\", \"exceptionClass\": \"\", \"trace\": \"\"}}, \"*\")"
      ],
      "text/plain": [
       "<IPython.core.display.Javascript object>"
      ]
     },
     "metadata": {},
     "output_type": "display_data"
    },
    {
     "data": {
      "text/markdown": [
       "<span style=\"color:#33cc33\">Correct:</span> \n",
       "\n",
       "The empty string has length zero. Note that the empty string is also the only string that Python considers as False when converting to boolean."
      ],
      "text/plain": [
       "Correct: \n",
       "\n",
       "The empty string has length zero. Note that the empty string is also the only string that Python considers as False when converting to boolean."
      ]
     },
     "metadata": {},
     "output_type": "display_data"
    }
   ],
   "source": [
    "a = \"Mayooooooo\"\n",
    "length = 0\n",
    "print(len(a))\n",
    "q0.a.check()"
   ]
  },
  {
   "cell_type": "markdown",
   "id": "3bccf6f0",
   "metadata": {
    "papermill": {
     "duration": 0.005363,
     "end_time": "2023-01-12T06:21:29.667294",
     "exception": false,
     "start_time": "2023-01-12T06:21:29.661931",
     "status": "completed"
    },
    "tags": []
   },
   "source": [
    "# 0b."
   ]
  },
  {
   "cell_type": "code",
   "execution_count": 3,
   "id": "ddec56da",
   "metadata": {
    "execution": {
     "iopub.execute_input": "2023-01-12T06:21:29.680217Z",
     "iopub.status.busy": "2023-01-12T06:21:29.679784Z",
     "iopub.status.idle": "2023-01-12T06:21:29.688544Z",
     "shell.execute_reply": "2023-01-12T06:21:29.687700Z"
    },
    "papermill": {
     "duration": 0.018105,
     "end_time": "2023-01-12T06:21:29.690987",
     "exception": false,
     "start_time": "2023-01-12T06:21:29.672882",
     "status": "completed"
    },
    "tags": []
   },
   "outputs": [
    {
     "data": {
      "application/javascript": [
       "parent.postMessage({\"jupyterEvent\": \"custom.exercise_interaction\", \"data\": {\"outcomeType\": 1, \"valueTowardsCompletion\": 0.3333333333333333, \"interactionType\": 1, \"questionType\": 1, \"questionId\": \"0.2_ZB\", \"learnToolsVersion\": \"0.3.4\", \"failureMessage\": \"\", \"exceptionClass\": \"\", \"trace\": \"\"}}, \"*\")"
      ],
      "text/plain": [
       "<IPython.core.display.Javascript object>"
      ]
     },
     "metadata": {},
     "output_type": "display_data"
    },
    {
     "data": {
      "text/markdown": [
       "<span style=\"color:#33cc33\">Correct:</span> \n",
       "\n",
       "Keep in mind Python includes spaces (and punctuation) when counting string length."
      ],
      "text/plain": [
       "Correct: \n",
       "\n",
       "Keep in mind Python includes spaces (and punctuation) when counting string length."
      ]
     },
     "metadata": {},
     "output_type": "display_data"
    }
   ],
   "source": [
    "b = \"it's ok\"\n",
    "length = 7\n",
    "q0.b.check()"
   ]
  },
  {
   "cell_type": "markdown",
   "id": "53a43c23",
   "metadata": {
    "papermill": {
     "duration": 0.005896,
     "end_time": "2023-01-12T06:21:29.703203",
     "exception": false,
     "start_time": "2023-01-12T06:21:29.697307",
     "status": "completed"
    },
    "tags": []
   },
   "source": [
    "# 0c."
   ]
  },
  {
   "cell_type": "code",
   "execution_count": 4,
   "id": "9f6f5a74",
   "metadata": {
    "execution": {
     "iopub.execute_input": "2023-01-12T06:21:29.719133Z",
     "iopub.status.busy": "2023-01-12T06:21:29.718200Z",
     "iopub.status.idle": "2023-01-12T06:21:29.727191Z",
     "shell.execute_reply": "2023-01-12T06:21:29.726081Z"
    },
    "papermill": {
     "duration": 0.018784,
     "end_time": "2023-01-12T06:21:29.729631",
     "exception": false,
     "start_time": "2023-01-12T06:21:29.710847",
     "status": "completed"
    },
    "tags": []
   },
   "outputs": [
    {
     "data": {
      "application/javascript": [
       "parent.postMessage({\"jupyterEvent\": \"custom.exercise_interaction\", \"data\": {\"outcomeType\": 1, \"valueTowardsCompletion\": 0.3333333333333333, \"interactionType\": 1, \"questionType\": 1, \"questionId\": \"0.3_ZC\", \"learnToolsVersion\": \"0.3.4\", \"failureMessage\": \"\", \"exceptionClass\": \"\", \"trace\": \"\"}}, \"*\")"
      ],
      "text/plain": [
       "<IPython.core.display.Javascript object>"
      ]
     },
     "metadata": {},
     "output_type": "display_data"
    },
    {
     "data": {
      "text/markdown": [
       "<span style=\"color:#33cc33\">Correct:</span> \n",
       "\n",
       "Even though we use different syntax to create it, the string `c` is identical to `b`. In particular, note that the backslash is not part of the string, so it doesn't contribute to its length."
      ],
      "text/plain": [
       "Correct: \n",
       "\n",
       "Even though we use different syntax to create it, the string `c` is identical to `b`. In particular, note that the backslash is not part of the string, so it doesn't contribute to its length."
      ]
     },
     "metadata": {},
     "output_type": "display_data"
    }
   ],
   "source": [
    "c = 'it\\'s ok'\n",
    "length = 7\n",
    "q0.c.check()"
   ]
  },
  {
   "cell_type": "markdown",
   "id": "e7209a16",
   "metadata": {
    "papermill": {
     "duration": 0.005985,
     "end_time": "2023-01-12T06:21:29.742044",
     "exception": false,
     "start_time": "2023-01-12T06:21:29.736059",
     "status": "completed"
    },
    "tags": []
   },
   "source": [
    "# 0d."
   ]
  },
  {
   "cell_type": "code",
   "execution_count": 5,
   "id": "8e04b88a",
   "metadata": {
    "execution": {
     "iopub.execute_input": "2023-01-12T06:21:29.758645Z",
     "iopub.status.busy": "2023-01-12T06:21:29.757521Z",
     "iopub.status.idle": "2023-01-12T06:21:29.770733Z",
     "shell.execute_reply": "2023-01-12T06:21:29.769206Z"
    },
    "papermill": {
     "duration": 0.026552,
     "end_time": "2023-01-12T06:21:29.776177",
     "exception": false,
     "start_time": "2023-01-12T06:21:29.749625",
     "status": "completed"
    },
    "tags": []
   },
   "outputs": [
    {
     "data": {
      "application/javascript": [
       "parent.postMessage({\"jupyterEvent\": \"custom.exercise_interaction\", \"data\": {\"outcomeType\": 1, \"valueTowardsCompletion\": 0.3333333333333333, \"interactionType\": 1, \"questionType\": 1, \"questionId\": \"0.4_ZD\", \"learnToolsVersion\": \"0.3.4\", \"failureMessage\": \"\", \"exceptionClass\": \"\", \"trace\": \"\"}}, \"*\")"
      ],
      "text/plain": [
       "<IPython.core.display.Javascript object>"
      ]
     },
     "metadata": {},
     "output_type": "display_data"
    },
    {
     "data": {
      "text/markdown": [
       "<span style=\"color:#33cc33\">Correct:</span> \n",
       "\n",
       "The fact that this string was created using triple-quote syntax doesn't make any difference in terms of its content or length. This string is exactly the same as `'hey'`."
      ],
      "text/plain": [
       "Correct: \n",
       "\n",
       "The fact that this string was created using triple-quote syntax doesn't make any difference in terms of its content or length. This string is exactly the same as `'hey'`."
      ]
     },
     "metadata": {},
     "output_type": "display_data"
    }
   ],
   "source": [
    "d = \"\"\"hey\"\"\"\n",
    "length = 3\n",
    "q0.d.check()"
   ]
  },
  {
   "cell_type": "markdown",
   "id": "a1070a02",
   "metadata": {
    "papermill": {
     "duration": 0.009203,
     "end_time": "2023-01-12T06:21:29.794039",
     "exception": false,
     "start_time": "2023-01-12T06:21:29.784836",
     "status": "completed"
    },
    "tags": []
   },
   "source": [
    "# 0e."
   ]
  },
  {
   "cell_type": "code",
   "execution_count": 6,
   "id": "ca3f354a",
   "metadata": {
    "execution": {
     "iopub.execute_input": "2023-01-12T06:21:29.812491Z",
     "iopub.status.busy": "2023-01-12T06:21:29.812022Z",
     "iopub.status.idle": "2023-01-12T06:21:29.823369Z",
     "shell.execute_reply": "2023-01-12T06:21:29.821744Z"
    },
    "papermill": {
     "duration": 0.022751,
     "end_time": "2023-01-12T06:21:29.825819",
     "exception": false,
     "start_time": "2023-01-12T06:21:29.803068",
     "status": "completed"
    },
    "tags": []
   },
   "outputs": [
    {
     "name": "stdout",
     "output_type": "stream",
     "text": [
      "1\n"
     ]
    },
    {
     "data": {
      "application/javascript": [
       "parent.postMessage({\"jupyterEvent\": \"custom.exercise_interaction\", \"data\": {\"outcomeType\": 1, \"valueTowardsCompletion\": 0.3333333333333333, \"interactionType\": 1, \"questionType\": 1, \"questionId\": \"0.5_ZE\", \"learnToolsVersion\": \"0.3.4\", \"failureMessage\": \"\", \"exceptionClass\": \"\", \"trace\": \"\"}}, \"*\")"
      ],
      "text/plain": [
       "<IPython.core.display.Javascript object>"
      ]
     },
     "metadata": {},
     "output_type": "display_data"
    },
    {
     "data": {
      "text/markdown": [
       "<span style=\"color:#33cc33\">Correct:</span> \n",
       "\n",
       "The newline character is just a single character! (Even though we represent it to Python using a combination of two characters.)"
      ],
      "text/plain": [
       "Correct: \n",
       "\n",
       "The newline character is just a single character! (Even though we represent it to Python using a combination of two characters.)"
      ]
     },
     "metadata": {},
     "output_type": "display_data"
    }
   ],
   "source": [
    "e = '\\n'\n",
    "length = 1\n",
    "print(len(e))\n",
    "q0.e.check()"
   ]
  },
  {
   "cell_type": "markdown",
   "id": "57216cc2",
   "metadata": {
    "papermill": {
     "duration": 0.006942,
     "end_time": "2023-01-12T06:21:29.840061",
     "exception": false,
     "start_time": "2023-01-12T06:21:29.833119",
     "status": "completed"
    },
    "tags": []
   },
   "source": [
    "# 1.\n",
    "\n",
    "There is a saying that \"Data scientists spend 80% of their time cleaning data, and 20% of their time complaining about cleaning data.\" Let's see if you can write a function to help clean US zip code data. Given a string, it should return whether or not that string represents a valid zip code. For our purposes, a valid zip code is any string consisting of exactly 5 digits.\n",
    "\n",
    "HINT: `str` has a method that will be useful here. Use `help(str)` to review a list of string methods."
   ]
  },
  {
   "cell_type": "code",
   "execution_count": 7,
   "id": "1aa65365",
   "metadata": {
    "execution": {
     "iopub.execute_input": "2023-01-12T06:21:29.856764Z",
     "iopub.status.busy": "2023-01-12T06:21:29.855911Z",
     "iopub.status.idle": "2023-01-12T06:21:29.864972Z",
     "shell.execute_reply": "2023-01-12T06:21:29.863850Z"
    },
    "papermill": {
     "duration": 0.019893,
     "end_time": "2023-01-12T06:21:29.867277",
     "exception": false,
     "start_time": "2023-01-12T06:21:29.847384",
     "status": "completed"
    },
    "tags": []
   },
   "outputs": [
    {
     "data": {
      "application/javascript": [
       "parent.postMessage({\"jupyterEvent\": \"custom.exercise_interaction\", \"data\": {\"outcomeType\": 1, \"valueTowardsCompletion\": 0.3333333333333333, \"interactionType\": 1, \"questionType\": 2, \"questionId\": \"1_ZipValidator\", \"learnToolsVersion\": \"0.3.4\", \"failureMessage\": \"\", \"exceptionClass\": \"\", \"trace\": \"\"}}, \"*\")"
      ],
      "text/plain": [
       "<IPython.core.display.Javascript object>"
      ]
     },
     "metadata": {},
     "output_type": "display_data"
    },
    {
     "data": {
      "text/markdown": [
       "<span style=\"color:#33cc33\">Correct</span>"
      ],
      "text/plain": [
       "Correct"
      ]
     },
     "metadata": {},
     "output_type": "display_data"
    }
   ],
   "source": [
    "def is_valid_zip(zip_code):\n",
    "    \"\"\"Returns whether the input string is a valid (5 digit) zip code\n",
    "    \"\"\"\n",
    "    return zip_code.isdigit() and len(zip_code)==5\n",
    "    pass\n",
    "\n",
    "\n",
    "# Check your answer\n",
    "q1.check()"
   ]
  },
  {
   "cell_type": "code",
   "execution_count": 8,
   "id": "d433e34d",
   "metadata": {
    "execution": {
     "iopub.execute_input": "2023-01-12T06:21:29.884476Z",
     "iopub.status.busy": "2023-01-12T06:21:29.883274Z",
     "iopub.status.idle": "2023-01-12T06:21:29.887840Z",
     "shell.execute_reply": "2023-01-12T06:21:29.886922Z"
    },
    "papermill": {
     "duration": 0.015316,
     "end_time": "2023-01-12T06:21:29.890303",
     "exception": false,
     "start_time": "2023-01-12T06:21:29.874987",
     "status": "completed"
    },
    "tags": []
   },
   "outputs": [],
   "source": [
    "#q1.hint()\n",
    "#q1.solution()"
   ]
  },
  {
   "cell_type": "markdown",
   "id": "3507b920",
   "metadata": {
    "papermill": {
     "duration": 0.006714,
     "end_time": "2023-01-12T06:21:29.904510",
     "exception": false,
     "start_time": "2023-01-12T06:21:29.897796",
     "status": "completed"
    },
    "tags": []
   },
   "source": [
    "# 2.\n",
    "\n",
    "A researcher has gathered thousands of news articles. But she wants to focus her attention on articles including a specific word. Complete the function below to help her filter her list of articles.\n",
    "\n",
    "Your function should meet the following criteria:\n",
    "\n",
    "- Do not include documents where the keyword string shows up only as a part of a larger word. For example, if she were looking for the keyword “closed”, you would not include the string “enclosed.” \n",
    "- She does not want you to distinguish upper case from lower case letters. So the phrase “Closed the case.” would be included when the keyword is “closed”\n",
    "- Do not let periods or commas affect what is matched. “It is closed.” would be included when the keyword is “closed”. But you can assume there are no other types of punctuation."
   ]
  },
  {
   "cell_type": "code",
   "execution_count": 9,
   "id": "627f2eb7",
   "metadata": {
    "execution": {
     "iopub.execute_input": "2023-01-12T06:21:29.921311Z",
     "iopub.status.busy": "2023-01-12T06:21:29.920161Z",
     "iopub.status.idle": "2023-01-12T06:21:29.933572Z",
     "shell.execute_reply": "2023-01-12T06:21:29.932367Z"
    },
    "papermill": {
     "duration": 0.024508,
     "end_time": "2023-01-12T06:21:29.936191",
     "exception": false,
     "start_time": "2023-01-12T06:21:29.911683",
     "status": "completed"
    },
    "tags": []
   },
   "outputs": [
    {
     "data": {
      "application/javascript": [
       "parent.postMessage({\"jupyterEvent\": \"custom.exercise_interaction\", \"data\": {\"outcomeType\": 3, \"exceptionClass\": \"AttributeError\", \"trace\": \"  File \\\"/opt/conda/lib/python3.7/site-packages/learntools/core/problem.py\\\", line 239, in check\\n    actual = fn(*args)\\n\\n  File \\\"/tmp/ipykernel_19/3378018289.py\\\", line 15, in word_search\\n    normalized = [tokens.rstrip('.,').lower() for token in tokens]\\n\\n  File \\\"/tmp/ipykernel_19/3378018289.py\\\", line 15, in <listcomp>\\n    normalized = [tokens.rstrip('.,').lower() for token in tokens]\\n\", \"failureMessage\": \"When calling your function with arguments `[['The Learn Python Challenge Casino', 'They bought a car, and a horse', 'Casinoville?'], 'casino']`, Python raised the following exception... **`AttributeError: 'list' object has no attribute 'rstrip'`**\", \"interactionType\": 1, \"questionType\": 2, \"questionId\": \"2_WordSearch\", \"learnToolsVersion\": \"0.3.4\", \"valueTowardsCompletion\": 0.0}}, \"*\")"
      ],
      "text/plain": [
       "<IPython.core.display.Javascript object>"
      ]
     },
     "metadata": {},
     "output_type": "display_data"
    },
    {
     "data": {
      "text/markdown": [
       "<span style=\"color:#cc3333\">Incorrect:</span> When calling your function with arguments `[['The Learn Python Challenge Casino', 'They bought a car, and a horse', 'Casinoville?'], 'casino']`, Python raised the following exception... **`AttributeError: 'list' object has no attribute 'rstrip'`**"
      ],
      "text/plain": [
       "Incorrect: When calling your function with arguments `[['The Learn Python Challenge Casino', 'They bought a car, and a horse', 'Casinoville?'], 'casino']`, Python raised the following exception... **`AttributeError: 'list' object has no attribute 'rstrip'`**"
      ]
     },
     "metadata": {},
     "output_type": "display_data"
    }
   ],
   "source": [
    "def word_search(doc_list, keyword):\n",
    "    \"\"\"\n",
    "    Takes a list of documents (each document is a string) and a keyword. \n",
    "    Returns list of the index values into the original list for all documents \n",
    "    containing the keyword.\n",
    "\n",
    "    Example:\n",
    "    doc_list = [\"The Learn Python Challenge Casino.\", \"They bought a car\", \"Casinoville\"]\n",
    "    >>> word_search(doc_list, 'casino')\n",
    "    >>> [0]\n",
    "    \"\"\"\n",
    "    indices = []\n",
    "    for i,doc in enumerate(doc_list):\n",
    "        tokens = doc.split()\n",
    "        normalized = [tokens.rstrip('.,').lower() for token in tokens]\n",
    "        if keyword.lower() in normalized:\n",
    "            indices.append(i)\n",
    "    return indices\n",
    "        \n",
    "    pass\n",
    "\n",
    "# Check your answer\n",
    "q2.check()"
   ]
  },
  {
   "cell_type": "code",
   "execution_count": 10,
   "id": "703eddca",
   "metadata": {
    "execution": {
     "iopub.execute_input": "2023-01-12T06:21:29.953872Z",
     "iopub.status.busy": "2023-01-12T06:21:29.952507Z",
     "iopub.status.idle": "2023-01-12T06:21:29.964259Z",
     "shell.execute_reply": "2023-01-12T06:21:29.962811Z"
    },
    "papermill": {
     "duration": 0.023243,
     "end_time": "2023-01-12T06:21:29.967089",
     "exception": false,
     "start_time": "2023-01-12T06:21:29.943846",
     "status": "completed"
    },
    "tags": []
   },
   "outputs": [
    {
     "data": {
      "application/javascript": [
       "parent.postMessage({\"jupyterEvent\": \"custom.exercise_interaction\", \"data\": {\"interactionType\": 3, \"questionType\": 2, \"questionId\": \"2_WordSearch\", \"learnToolsVersion\": \"0.3.4\", \"valueTowardsCompletion\": 0.0, \"failureMessage\": \"\", \"exceptionClass\": \"\", \"trace\": \"\", \"outcomeType\": 4}}, \"*\")"
      ],
      "text/plain": [
       "<IPython.core.display.Javascript object>"
      ]
     },
     "metadata": {},
     "output_type": "display_data"
    },
    {
     "data": {
      "text/markdown": [
       "<span style=\"color:#33cc99\">Solution:</span> \n",
       "```python\n",
       "def word_search(doc_list, keyword):\n",
       "    # list to hold the indices of matching documents\n",
       "    indices = [] \n",
       "    # Iterate through the indices (i) and elements (doc) of documents\n",
       "    for i, doc in enumerate(doc_list):\n",
       "        # Split the string doc into a list of words (according to whitespace)\n",
       "        tokens = doc.split()\n",
       "        # Make a transformed list where we 'normalize' each word to facilitate matching.\n",
       "        # Periods and commas are removed from the end of each word, and it's set to all lowercase.\n",
       "        normalized = [token.rstrip('.,').lower() for token in tokens]\n",
       "        # Is there a match? If so, update the list of matching indices.\n",
       "        if keyword.lower() in normalized:\n",
       "            indices.append(i)\n",
       "    return indices\n",
       "```"
      ],
      "text/plain": [
       "Solution: \n",
       "```python\n",
       "def word_search(doc_list, keyword):\n",
       "    # list to hold the indices of matching documents\n",
       "    indices = [] \n",
       "    # Iterate through the indices (i) and elements (doc) of documents\n",
       "    for i, doc in enumerate(doc_list):\n",
       "        # Split the string doc into a list of words (according to whitespace)\n",
       "        tokens = doc.split()\n",
       "        # Make a transformed list where we 'normalize' each word to facilitate matching.\n",
       "        # Periods and commas are removed from the end of each word, and it's set to all lowercase.\n",
       "        normalized = [token.rstrip('.,').lower() for token in tokens]\n",
       "        # Is there a match? If so, update the list of matching indices.\n",
       "        if keyword.lower() in normalized:\n",
       "            indices.append(i)\n",
       "    return indices\n",
       "```"
      ]
     },
     "metadata": {},
     "output_type": "display_data"
    }
   ],
   "source": [
    "#q2.hint()\n",
    "q2.solution()"
   ]
  },
  {
   "cell_type": "markdown",
   "id": "cb0fa128",
   "metadata": {
    "papermill": {
     "duration": 0.007584,
     "end_time": "2023-01-12T06:21:29.982445",
     "exception": false,
     "start_time": "2023-01-12T06:21:29.974861",
     "status": "completed"
    },
    "tags": []
   },
   "source": [
    "# 3.\n",
    "\n",
    "Now the researcher wants to supply multiple keywords to search for. Complete the function below to help her.\n",
    "\n",
    "(You're encouraged to use the `word_search` function you just wrote when implementing this function. Reusing code in this way makes your programs more robust and readable - and it saves typing!)"
   ]
  },
  {
   "cell_type": "code",
   "execution_count": 11,
   "id": "5287cef2",
   "metadata": {
    "execution": {
     "iopub.execute_input": "2023-01-12T06:21:29.999564Z",
     "iopub.status.busy": "2023-01-12T06:21:29.999172Z",
     "iopub.status.idle": "2023-01-12T06:21:30.009986Z",
     "shell.execute_reply": "2023-01-12T06:21:30.008591Z"
    },
    "papermill": {
     "duration": 0.022048,
     "end_time": "2023-01-12T06:21:30.012394",
     "exception": false,
     "start_time": "2023-01-12T06:21:29.990346",
     "status": "completed"
    },
    "tags": []
   },
   "outputs": [
    {
     "data": {
      "application/javascript": [
       "parent.postMessage({\"jupyterEvent\": \"custom.exercise_interaction\", \"data\": {\"outcomeType\": 4, \"interactionType\": 1, \"questionType\": 2, \"questionId\": \"3_MultiWordSearch\", \"learnToolsVersion\": \"0.3.4\", \"valueTowardsCompletion\": 0.0, \"failureMessage\": \"\", \"exceptionClass\": \"\", \"trace\": \"\"}}, \"*\")"
      ],
      "text/plain": [
       "<IPython.core.display.Javascript object>"
      ]
     },
     "metadata": {},
     "output_type": "display_data"
    },
    {
     "data": {
      "text/markdown": [
       "<span style=\"color:#ccaa33\">Check:</span> When you've updated the starter code, `check()` will tell you whether your code is correct. "
      ],
      "text/plain": [
       "Check: When you've updated the starter code, `check()` will tell you whether your code is correct. "
      ]
     },
     "metadata": {},
     "output_type": "display_data"
    }
   ],
   "source": [
    "def multi_word_search(doc_list, keywords):\n",
    "    \"\"\"\n",
    "    Takes list of documents (each document is a string) and a list of keywords.  \n",
    "    Returns a dictionary where each key is a keyword, and the value is a list of indices\n",
    "    (from doc_list) of the documents containing that keyword\n",
    "\n",
    "    >>> doc_list = [\"The Learn Python Challenge Casino.\", \"They bought a car and a casino\", \"Casinoville\"]\n",
    "    >>> keywords = ['casino', 'they']\n",
    "    >>> multi_word_search(doc_list, keywords)\n",
    "    {'casino': [0, 1], 'they': [1]}\n",
    "    \"\"\"\n",
    "    pass\n",
    "\n",
    "# Check your answer\n",
    "q3.check()"
   ]
  },
  {
   "cell_type": "code",
   "execution_count": 12,
   "id": "bed0bca6",
   "metadata": {
    "execution": {
     "iopub.execute_input": "2023-01-12T06:21:30.030854Z",
     "iopub.status.busy": "2023-01-12T06:21:30.030366Z",
     "iopub.status.idle": "2023-01-12T06:21:30.035505Z",
     "shell.execute_reply": "2023-01-12T06:21:30.034540Z"
    },
    "papermill": {
     "duration": 0.017395,
     "end_time": "2023-01-12T06:21:30.037922",
     "exception": false,
     "start_time": "2023-01-12T06:21:30.020527",
     "status": "completed"
    },
    "tags": []
   },
   "outputs": [],
   "source": [
    "#q3.solution()"
   ]
  },
  {
   "cell_type": "markdown",
   "id": "443cc5ed",
   "metadata": {
    "papermill": {
     "duration": 0.007534,
     "end_time": "2023-01-12T06:21:30.053448",
     "exception": false,
     "start_time": "2023-01-12T06:21:30.045914",
     "status": "completed"
    },
    "tags": []
   },
   "source": [
    "# Keep Going\n",
    "\n",
    "You've learned a lot. But even the best programmers rely heavily on \"libraries\" of code from other programmers. You'll learn about that in **[the last lesson](https://www.kaggle.com/colinmorris/working-with-external-libraries)**.\n"
   ]
  },
  {
   "cell_type": "markdown",
   "id": "1dc7a171",
   "metadata": {
    "papermill": {
     "duration": 0.007541,
     "end_time": "2023-01-12T06:21:30.069026",
     "exception": false,
     "start_time": "2023-01-12T06:21:30.061485",
     "status": "completed"
    },
    "tags": []
   },
   "source": [
    "---\n",
    "\n",
    "\n",
    "\n",
    "\n",
    "*Have questions or comments? Visit the [course discussion forum](https://www.kaggle.com/learn/python/discussion) to chat with other learners.*"
   ]
  }
 ],
 "metadata": {
  "kernelspec": {
   "display_name": "Python 3",
   "language": "python",
   "name": "python3"
  },
  "language_info": {
   "codemirror_mode": {
    "name": "ipython",
    "version": 3
   },
   "file_extension": ".py",
   "mimetype": "text/x-python",
   "name": "python",
   "nbconvert_exporter": "python",
   "pygments_lexer": "ipython3",
   "version": "3.7.12"
  },
  "papermill": {
   "default_parameters": {},
   "duration": 13.240224,
   "end_time": "2023-01-12T06:21:33.231527",
   "environment_variables": {},
   "exception": null,
   "input_path": "__notebook__.ipynb",
   "output_path": "__notebook__.ipynb",
   "parameters": {},
   "start_time": "2023-01-12T06:21:19.991303",
   "version": "2.3.4"
  }
 },
 "nbformat": 4,
 "nbformat_minor": 5
}
