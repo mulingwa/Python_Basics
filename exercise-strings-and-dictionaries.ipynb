{
 "cells": [
  {
   "cell_type": "markdown",
   "id": "80f742d5",
   "metadata": {
    "papermill": {
     "duration": 0.010829,
     "end_time": "2023-02-22T13:05:26.599235",
     "exception": false,
     "start_time": "2023-02-22T13:05:26.588406",
     "status": "completed"
    },
    "tags": []
   },
   "source": [
    "**This notebook is an exercise in the [Python](https://www.kaggle.com/learn/python) course.  You can reference the tutorial at [this link](https://www.kaggle.com/colinmorris/strings-and-dictionaries).**\n",
    "\n",
    "---\n"
   ]
  },
  {
   "cell_type": "markdown",
   "id": "9dae96c1",
   "metadata": {
    "papermill": {
     "duration": 0.007352,
     "end_time": "2023-02-22T13:05:26.614785",
     "exception": false,
     "start_time": "2023-02-22T13:05:26.607433",
     "status": "completed"
    },
    "tags": []
   },
   "source": [
    "You are almost done with the course. Nice job!\n",
    "\n",
    "We have a couple more interesting problems for you before you go. \n",
    "\n",
    "As always, run the setup code below before working on the questions."
   ]
  },
  {
   "cell_type": "code",
   "execution_count": 1,
   "id": "8fcfeea8",
   "metadata": {
    "execution": {
     "iopub.execute_input": "2023-02-22T13:05:26.634133Z",
     "iopub.status.busy": "2023-02-22T13:05:26.633168Z",
     "iopub.status.idle": "2023-02-22T13:05:26.697327Z",
     "shell.execute_reply": "2023-02-22T13:05:26.696353Z"
    },
    "papermill": {
     "duration": 0.078464,
     "end_time": "2023-02-22T13:05:26.701519",
     "exception": false,
     "start_time": "2023-02-22T13:05:26.623055",
     "status": "completed"
    },
    "tags": []
   },
   "outputs": [
    {
     "name": "stdout",
     "output_type": "stream",
     "text": [
      "Setup complete.\n"
     ]
    }
   ],
   "source": [
    "from learntools.core import binder; binder.bind(globals())\n",
    "from learntools.python.ex6 import *\n",
    "print('Setup complete.')"
   ]
  },
  {
   "cell_type": "markdown",
   "id": "0e49152b",
   "metadata": {
    "papermill": {
     "duration": 0.005558,
     "end_time": "2023-02-22T13:05:26.713851",
     "exception": false,
     "start_time": "2023-02-22T13:05:26.708293",
     "status": "completed"
    },
    "tags": []
   },
   "source": [
    "Let's start with a string lightning round to warm up. What are the lengths of the strings below?\n",
    "\n",
    "For each of the five strings below, predict what `len()` would return when passed that string. Use the variable `length` to record your answer, then run the cell to check whether you were right.  \n",
    "\n",
    "# 0a."
   ]
  },
  {
   "cell_type": "code",
   "execution_count": 2,
   "id": "1cd18bde",
   "metadata": {
    "execution": {
     "iopub.execute_input": "2023-02-22T13:05:26.727833Z",
     "iopub.status.busy": "2023-02-22T13:05:26.727102Z",
     "iopub.status.idle": "2023-02-22T13:05:26.739067Z",
     "shell.execute_reply": "2023-02-22T13:05:26.737652Z"
    },
    "papermill": {
     "duration": 0.021945,
     "end_time": "2023-02-22T13:05:26.741648",
     "exception": false,
     "start_time": "2023-02-22T13:05:26.719703",
     "status": "completed"
    },
    "tags": []
   },
   "outputs": [
    {
     "name": "stdout",
     "output_type": "stream",
     "text": [
      "10\n"
     ]
    },
    {
     "data": {
      "application/javascript": [
       "parent.postMessage({\"jupyterEvent\": \"custom.exercise_interaction\", \"data\": {\"outcomeType\": 1, \"valueTowardsCompletion\": 0.3333333333333333, \"interactionType\": 1, \"questionType\": 1, \"questionId\": \"0.1_ZA\", \"learnToolsVersion\": \"0.3.4\", \"failureMessage\": \"\", \"exceptionClass\": \"\", \"trace\": \"\"}}, \"*\")"
      ],
      "text/plain": [
       "<IPython.core.display.Javascript object>"
      ]
     },
     "metadata": {},
     "output_type": "display_data"
    },
    {
     "data": {
      "text/markdown": [
       "<span style=\"color:#33cc33\">Correct:</span> \n",
       "\n",
       "The empty string has length zero. Note that the empty string is also the only string that Python considers as False when converting to boolean."
      ],
      "text/plain": [
       "Correct: \n",
       "\n",
       "The empty string has length zero. Note that the empty string is also the only string that Python considers as False when converting to boolean."
      ]
     },
     "metadata": {},
     "output_type": "display_data"
    }
   ],
   "source": [
    "a = \"Mayooooooo\"\n",
    "length = 0\n",
    "print(len(a))\n",
    "q0.a.check()"
   ]
  },
  {
   "cell_type": "markdown",
   "id": "a507eb9b",
   "metadata": {
    "papermill": {
     "duration": 0.005751,
     "end_time": "2023-02-22T13:05:26.753681",
     "exception": false,
     "start_time": "2023-02-22T13:05:26.747930",
     "status": "completed"
    },
    "tags": []
   },
   "source": [
    "# 0b."
   ]
  },
  {
   "cell_type": "code",
   "execution_count": 3,
   "id": "48a4506a",
   "metadata": {
    "execution": {
     "iopub.execute_input": "2023-02-22T13:05:26.769274Z",
     "iopub.status.busy": "2023-02-22T13:05:26.767932Z",
     "iopub.status.idle": "2023-02-22T13:05:26.778603Z",
     "shell.execute_reply": "2023-02-22T13:05:26.777367Z"
    },
    "papermill": {
     "duration": 0.024258,
     "end_time": "2023-02-22T13:05:26.783975",
     "exception": false,
     "start_time": "2023-02-22T13:05:26.759717",
     "status": "completed"
    },
    "tags": []
   },
   "outputs": [
    {
     "data": {
      "application/javascript": [
       "parent.postMessage({\"jupyterEvent\": \"custom.exercise_interaction\", \"data\": {\"outcomeType\": 1, \"valueTowardsCompletion\": 0.3333333333333333, \"interactionType\": 1, \"questionType\": 1, \"questionId\": \"0.2_ZB\", \"learnToolsVersion\": \"0.3.4\", \"failureMessage\": \"\", \"exceptionClass\": \"\", \"trace\": \"\"}}, \"*\")"
      ],
      "text/plain": [
       "<IPython.core.display.Javascript object>"
      ]
     },
     "metadata": {},
     "output_type": "display_data"
    },
    {
     "data": {
      "text/markdown": [
       "<span style=\"color:#33cc33\">Correct:</span> \n",
       "\n",
       "Keep in mind Python includes spaces (and punctuation) when counting string length."
      ],
      "text/plain": [
       "Correct: \n",
       "\n",
       "Keep in mind Python includes spaces (and punctuation) when counting string length."
      ]
     },
     "metadata": {},
     "output_type": "display_data"
    }
   ],
   "source": [
    "b = \"it's ok\"\n",
    "length = 7\n",
    "q0.b.check()"
   ]
  },
  {
   "cell_type": "markdown",
   "id": "120e8bcb",
   "metadata": {
    "papermill": {
     "duration": 0.006882,
     "end_time": "2023-02-22T13:05:26.798118",
     "exception": false,
     "start_time": "2023-02-22T13:05:26.791236",
     "status": "completed"
    },
    "tags": []
   },
   "source": [
    "# 0c."
   ]
  },
  {
   "cell_type": "code",
   "execution_count": 4,
   "id": "acd11e20",
   "metadata": {
    "execution": {
     "iopub.execute_input": "2023-02-22T13:05:26.815686Z",
     "iopub.status.busy": "2023-02-22T13:05:26.814630Z",
     "iopub.status.idle": "2023-02-22T13:05:26.825321Z",
     "shell.execute_reply": "2023-02-22T13:05:26.824286Z"
    },
    "papermill": {
     "duration": 0.021178,
     "end_time": "2023-02-22T13:05:26.827709",
     "exception": false,
     "start_time": "2023-02-22T13:05:26.806531",
     "status": "completed"
    },
    "tags": []
   },
   "outputs": [
    {
     "data": {
      "application/javascript": [
       "parent.postMessage({\"jupyterEvent\": \"custom.exercise_interaction\", \"data\": {\"outcomeType\": 1, \"valueTowardsCompletion\": 0.3333333333333333, \"interactionType\": 1, \"questionType\": 1, \"questionId\": \"0.3_ZC\", \"learnToolsVersion\": \"0.3.4\", \"failureMessage\": \"\", \"exceptionClass\": \"\", \"trace\": \"\"}}, \"*\")"
      ],
      "text/plain": [
       "<IPython.core.display.Javascript object>"
      ]
     },
     "metadata": {},
     "output_type": "display_data"
    },
    {
     "data": {
      "text/markdown": [
       "<span style=\"color:#33cc33\">Correct:</span> \n",
       "\n",
       "Even though we use different syntax to create it, the string `c` is identical to `b`. In particular, note that the backslash is not part of the string, so it doesn't contribute to its length."
      ],
      "text/plain": [
       "Correct: \n",
       "\n",
       "Even though we use different syntax to create it, the string `c` is identical to `b`. In particular, note that the backslash is not part of the string, so it doesn't contribute to its length."
      ]
     },
     "metadata": {},
     "output_type": "display_data"
    }
   ],
   "source": [
    "c = 'it\\'s ok'\n",
    "length = 7\n",
    "q0.c.check()"
   ]
  },
  {
   "cell_type": "markdown",
   "id": "64bbed13",
   "metadata": {
    "papermill": {
     "duration": 0.006248,
     "end_time": "2023-02-22T13:05:26.840763",
     "exception": false,
     "start_time": "2023-02-22T13:05:26.834515",
     "status": "completed"
    },
    "tags": []
   },
   "source": [
    "# 0d."
   ]
  },
  {
   "cell_type": "code",
   "execution_count": 5,
   "id": "61a81ead",
   "metadata": {
    "execution": {
     "iopub.execute_input": "2023-02-22T13:05:26.859690Z",
     "iopub.status.busy": "2023-02-22T13:05:26.858936Z",
     "iopub.status.idle": "2023-02-22T13:05:26.867591Z",
     "shell.execute_reply": "2023-02-22T13:05:26.866458Z"
    },
    "papermill": {
     "duration": 0.019815,
     "end_time": "2023-02-22T13:05:26.870115",
     "exception": false,
     "start_time": "2023-02-22T13:05:26.850300",
     "status": "completed"
    },
    "tags": []
   },
   "outputs": [
    {
     "data": {
      "application/javascript": [
       "parent.postMessage({\"jupyterEvent\": \"custom.exercise_interaction\", \"data\": {\"outcomeType\": 1, \"valueTowardsCompletion\": 0.3333333333333333, \"interactionType\": 1, \"questionType\": 1, \"questionId\": \"0.4_ZD\", \"learnToolsVersion\": \"0.3.4\", \"failureMessage\": \"\", \"exceptionClass\": \"\", \"trace\": \"\"}}, \"*\")"
      ],
      "text/plain": [
       "<IPython.core.display.Javascript object>"
      ]
     },
     "metadata": {},
     "output_type": "display_data"
    },
    {
     "data": {
      "text/markdown": [
       "<span style=\"color:#33cc33\">Correct:</span> \n",
       "\n",
       "The fact that this string was created using triple-quote syntax doesn't make any difference in terms of its content or length. This string is exactly the same as `'hey'`."
      ],
      "text/plain": [
       "Correct: \n",
       "\n",
       "The fact that this string was created using triple-quote syntax doesn't make any difference in terms of its content or length. This string is exactly the same as `'hey'`."
      ]
     },
     "metadata": {},
     "output_type": "display_data"
    }
   ],
   "source": [
    "d = \"\"\"hey\"\"\"\n",
    "length = 3\n",
    "q0.d.check()"
   ]
  },
  {
   "cell_type": "markdown",
   "id": "08223a71",
   "metadata": {
    "papermill": {
     "duration": 0.006412,
     "end_time": "2023-02-22T13:05:26.883377",
     "exception": false,
     "start_time": "2023-02-22T13:05:26.876965",
     "status": "completed"
    },
    "tags": []
   },
   "source": [
    "# 0e."
   ]
  },
  {
   "cell_type": "code",
   "execution_count": 6,
   "id": "47c00f49",
   "metadata": {
    "execution": {
     "iopub.execute_input": "2023-02-22T13:05:26.898750Z",
     "iopub.status.busy": "2023-02-22T13:05:26.898231Z",
     "iopub.status.idle": "2023-02-22T13:05:26.910307Z",
     "shell.execute_reply": "2023-02-22T13:05:26.908378Z"
    },
    "papermill": {
     "duration": 0.022558,
     "end_time": "2023-02-22T13:05:26.912756",
     "exception": false,
     "start_time": "2023-02-22T13:05:26.890198",
     "status": "completed"
    },
    "tags": []
   },
   "outputs": [
    {
     "name": "stdout",
     "output_type": "stream",
     "text": [
      "1\n"
     ]
    },
    {
     "data": {
      "application/javascript": [
       "parent.postMessage({\"jupyterEvent\": \"custom.exercise_interaction\", \"data\": {\"outcomeType\": 1, \"valueTowardsCompletion\": 0.3333333333333333, \"interactionType\": 1, \"questionType\": 1, \"questionId\": \"0.5_ZE\", \"learnToolsVersion\": \"0.3.4\", \"failureMessage\": \"\", \"exceptionClass\": \"\", \"trace\": \"\"}}, \"*\")"
      ],
      "text/plain": [
       "<IPython.core.display.Javascript object>"
      ]
     },
     "metadata": {},
     "output_type": "display_data"
    },
    {
     "data": {
      "text/markdown": [
       "<span style=\"color:#33cc33\">Correct:</span> \n",
       "\n",
       "The newline character is just a single character! (Even though we represent it to Python using a combination of two characters.)"
      ],
      "text/plain": [
       "Correct: \n",
       "\n",
       "The newline character is just a single character! (Even though we represent it to Python using a combination of two characters.)"
      ]
     },
     "metadata": {},
     "output_type": "display_data"
    }
   ],
   "source": [
    "e = '\\n'\n",
    "length = 1\n",
    "print(len(e))\n",
    "q0.e.check()"
   ]
  },
  {
   "cell_type": "markdown",
   "id": "39176b64",
   "metadata": {
    "papermill": {
     "duration": 0.007145,
     "end_time": "2023-02-22T13:05:26.927407",
     "exception": false,
     "start_time": "2023-02-22T13:05:26.920262",
     "status": "completed"
    },
    "tags": []
   },
   "source": [
    "# 1.\n",
    "\n",
    "There is a saying that \"Data scientists spend 80% of their time cleaning data, and 20% of their time complaining about cleaning data.\" Let's see if you can write a function to help clean US zip code data. Given a string, it should return whether or not that string represents a valid zip code. For our purposes, a valid zip code is any string consisting of exactly 5 digits.\n",
    "\n",
    "HINT: `str` has a method that will be useful here. Use `help(str)` to review a list of string methods."
   ]
  },
  {
   "cell_type": "code",
   "execution_count": 7,
   "id": "3194bf20",
   "metadata": {
    "execution": {
     "iopub.execute_input": "2023-02-22T13:05:26.944528Z",
     "iopub.status.busy": "2023-02-22T13:05:26.943765Z",
     "iopub.status.idle": "2023-02-22T13:05:26.958271Z",
     "shell.execute_reply": "2023-02-22T13:05:26.957447Z"
    },
    "papermill": {
     "duration": 0.025742,
     "end_time": "2023-02-22T13:05:26.960606",
     "exception": false,
     "start_time": "2023-02-22T13:05:26.934864",
     "status": "completed"
    },
    "tags": []
   },
   "outputs": [
    {
     "data": {
      "application/javascript": [
       "parent.postMessage({\"jupyterEvent\": \"custom.exercise_interaction\", \"data\": {\"outcomeType\": 1, \"valueTowardsCompletion\": 0.3333333333333333, \"interactionType\": 1, \"questionType\": 2, \"questionId\": \"1_ZipValidator\", \"learnToolsVersion\": \"0.3.4\", \"failureMessage\": \"\", \"exceptionClass\": \"\", \"trace\": \"\"}}, \"*\")"
      ],
      "text/plain": [
       "<IPython.core.display.Javascript object>"
      ]
     },
     "metadata": {},
     "output_type": "display_data"
    },
    {
     "data": {
      "text/markdown": [
       "<span style=\"color:#33cc33\">Correct</span>"
      ],
      "text/plain": [
       "Correct"
      ]
     },
     "metadata": {},
     "output_type": "display_data"
    }
   ],
   "source": [
    "def is_valid_zip(zip_code):\n",
    "    \"\"\"Returns whether the input string is a valid (5 digit) zip code\n",
    "    \"\"\"\n",
    "    return zip_code.isdigit() and len(zip_code)==5\n",
    "    pass\n",
    "\n",
    "\n",
    "# Check your answer\n",
    "q1.check()"
   ]
  },
  {
   "cell_type": "code",
   "execution_count": 8,
   "id": "e3440eee",
   "metadata": {
    "execution": {
     "iopub.execute_input": "2023-02-22T13:05:26.978219Z",
     "iopub.status.busy": "2023-02-22T13:05:26.977596Z",
     "iopub.status.idle": "2023-02-22T13:05:26.981266Z",
     "shell.execute_reply": "2023-02-22T13:05:26.980381Z"
    },
    "papermill": {
     "duration": 0.015536,
     "end_time": "2023-02-22T13:05:26.983675",
     "exception": false,
     "start_time": "2023-02-22T13:05:26.968139",
     "status": "completed"
    },
    "tags": []
   },
   "outputs": [],
   "source": [
    "#q1.hint()\n",
    "#q1.solution()"
   ]
  },
  {
   "cell_type": "markdown",
   "id": "0c2cd0ce",
   "metadata": {
    "papermill": {
     "duration": 0.007315,
     "end_time": "2023-02-22T13:05:26.998900",
     "exception": false,
     "start_time": "2023-02-22T13:05:26.991585",
     "status": "completed"
    },
    "tags": []
   },
   "source": [
    "# 2.\n",
    "\n",
    "A researcher has gathered thousands of news articles. But she wants to focus her attention on articles including a specific word. Complete the function below to help her filter her list of articles.\n",
    "\n",
    "Your function should meet the following criteria:\n",
    "\n",
    "- Do not include documents where the keyword string shows up only as a part of a larger word. For example, if she were looking for the keyword “closed”, you would not include the string “enclosed.” \n",
    "- She does not want you to distinguish upper case from lower case letters. So the phrase “Closed the case.” would be included when the keyword is “closed”\n",
    "- Do not let periods or commas affect what is matched. “It is closed.” would be included when the keyword is “closed”. But you can assume there are no other types of punctuation."
   ]
  },
  {
   "cell_type": "code",
   "execution_count": 9,
   "id": "1b517d3d",
   "metadata": {
    "execution": {
     "iopub.execute_input": "2023-02-22T13:05:27.016233Z",
     "iopub.status.busy": "2023-02-22T13:05:27.015572Z",
     "iopub.status.idle": "2023-02-22T13:05:27.026514Z",
     "shell.execute_reply": "2023-02-22T13:05:27.025238Z"
    },
    "papermill": {
     "duration": 0.022912,
     "end_time": "2023-02-22T13:05:27.029359",
     "exception": false,
     "start_time": "2023-02-22T13:05:27.006447",
     "status": "completed"
    },
    "tags": []
   },
   "outputs": [
    {
     "data": {
      "application/javascript": [
       "parent.postMessage({\"jupyterEvent\": \"custom.exercise_interaction\", \"data\": {\"outcomeType\": 1, \"valueTowardsCompletion\": 0.3333333333333333, \"interactionType\": 1, \"questionType\": 2, \"questionId\": \"2_WordSearch\", \"learnToolsVersion\": \"0.3.4\", \"failureMessage\": \"\", \"exceptionClass\": \"\", \"trace\": \"\"}}, \"*\")"
      ],
      "text/plain": [
       "<IPython.core.display.Javascript object>"
      ]
     },
     "metadata": {},
     "output_type": "display_data"
    },
    {
     "data": {
      "text/markdown": [
       "<span style=\"color:#33cc33\">Correct</span>"
      ],
      "text/plain": [
       "Correct"
      ]
     },
     "metadata": {},
     "output_type": "display_data"
    }
   ],
   "source": [
    "def word_search(doc_list, keyword):\n",
    "    # list to hold the indices of matching documents\n",
    "    indices = [] \n",
    "    # Iterate through the indices (i) and elements (doc) of documents\n",
    "    for i, doc in enumerate(doc_list):\n",
    "        # Split the string doc into a list of words (according to whitespace)\n",
    "        tokens = doc.split()\n",
    "        # Make a transformed list where we 'normalize' each word to facilitate matching.\n",
    "        # Periods and commas are removed from the end of each word, and it's set to all lowercase.\n",
    "        normalized = [token.rstrip('.,').lower() for token in tokens]\n",
    "        # Is there a match? If so, update the list of matching indices.\n",
    "        if keyword.lower() in normalized:\n",
    "            indices.append(i)\n",
    "    return indices\n",
    "# Check your answer\n",
    "q2.check()"
   ]
  },
  {
   "cell_type": "code",
   "execution_count": 10,
   "id": "8244f549",
   "metadata": {
    "execution": {
     "iopub.execute_input": "2023-02-22T13:05:27.047819Z",
     "iopub.status.busy": "2023-02-22T13:05:27.046655Z",
     "iopub.status.idle": "2023-02-22T13:05:27.054411Z",
     "shell.execute_reply": "2023-02-22T13:05:27.053575Z"
    },
    "papermill": {
     "duration": 0.018998,
     "end_time": "2023-02-22T13:05:27.056486",
     "exception": false,
     "start_time": "2023-02-22T13:05:27.037488",
     "status": "completed"
    },
    "tags": []
   },
   "outputs": [
    {
     "data": {
      "application/javascript": [
       "parent.postMessage({\"jupyterEvent\": \"custom.exercise_interaction\", \"data\": {\"interactionType\": 3, \"questionType\": 2, \"questionId\": \"2_WordSearch\", \"learnToolsVersion\": \"0.3.4\", \"valueTowardsCompletion\": 0.0, \"failureMessage\": \"\", \"exceptionClass\": \"\", \"trace\": \"\", \"outcomeType\": 4}}, \"*\")"
      ],
      "text/plain": [
       "<IPython.core.display.Javascript object>"
      ]
     },
     "metadata": {},
     "output_type": "display_data"
    },
    {
     "data": {
      "text/markdown": [
       "<span style=\"color:#33cc99\">Solution:</span> \n",
       "```python\n",
       "def word_search(doc_list, keyword):\n",
       "    # list to hold the indices of matching documents\n",
       "    indices = [] \n",
       "    # Iterate through the indices (i) and elements (doc) of documents\n",
       "    for i, doc in enumerate(doc_list):\n",
       "        # Split the string doc into a list of words (according to whitespace)\n",
       "        tokens = doc.split()\n",
       "        # Make a transformed list where we 'normalize' each word to facilitate matching.\n",
       "        # Periods and commas are removed from the end of each word, and it's set to all lowercase.\n",
       "        normalized = [token.rstrip('.,').lower() for token in tokens]\n",
       "        # Is there a match? If so, update the list of matching indices.\n",
       "        if keyword.lower() in normalized:\n",
       "            indices.append(i)\n",
       "    return indices\n",
       "```"
      ],
      "text/plain": [
       "Solution: \n",
       "```python\n",
       "def word_search(doc_list, keyword):\n",
       "    # list to hold the indices of matching documents\n",
       "    indices = [] \n",
       "    # Iterate through the indices (i) and elements (doc) of documents\n",
       "    for i, doc in enumerate(doc_list):\n",
       "        # Split the string doc into a list of words (according to whitespace)\n",
       "        tokens = doc.split()\n",
       "        # Make a transformed list where we 'normalize' each word to facilitate matching.\n",
       "        # Periods and commas are removed from the end of each word, and it's set to all lowercase.\n",
       "        normalized = [token.rstrip('.,').lower() for token in tokens]\n",
       "        # Is there a match? If so, update the list of matching indices.\n",
       "        if keyword.lower() in normalized:\n",
       "            indices.append(i)\n",
       "    return indices\n",
       "```"
      ]
     },
     "metadata": {},
     "output_type": "display_data"
    }
   ],
   "source": [
    "#q2.hint()\n",
    "q2.solution()"
   ]
  },
  {
   "cell_type": "markdown",
   "id": "13a1d7ae",
   "metadata": {
    "papermill": {
     "duration": 0.007568,
     "end_time": "2023-02-22T13:05:27.072045",
     "exception": false,
     "start_time": "2023-02-22T13:05:27.064477",
     "status": "completed"
    },
    "tags": []
   },
   "source": [
    "# 3.\n",
    "\n",
    "Now the researcher wants to supply multiple keywords to search for. Complete the function below to help her.\n",
    "\n",
    "(You're encouraged to use the `word_search` function you just wrote when implementing this function. Reusing code in this way makes your programs more robust and readable - and it saves typing!)"
   ]
  },
  {
   "cell_type": "code",
   "execution_count": 11,
   "id": "478db36e",
   "metadata": {
    "execution": {
     "iopub.execute_input": "2023-02-22T13:05:27.090696Z",
     "iopub.status.busy": "2023-02-22T13:05:27.090085Z",
     "iopub.status.idle": "2023-02-22T13:05:27.099820Z",
     "shell.execute_reply": "2023-02-22T13:05:27.098597Z"
    },
    "papermill": {
     "duration": 0.021582,
     "end_time": "2023-02-22T13:05:27.102276",
     "exception": false,
     "start_time": "2023-02-22T13:05:27.080694",
     "status": "completed"
    },
    "tags": []
   },
   "outputs": [
    {
     "data": {
      "application/javascript": [
       "parent.postMessage({\"jupyterEvent\": \"custom.exercise_interaction\", \"data\": {\"outcomeType\": 1, \"valueTowardsCompletion\": 0.3333333333333333, \"interactionType\": 1, \"questionType\": 2, \"questionId\": \"2_WordSearch\", \"learnToolsVersion\": \"0.3.4\", \"failureMessage\": \"\", \"exceptionClass\": \"\", \"trace\": \"\"}}, \"*\")"
      ],
      "text/plain": [
       "<IPython.core.display.Javascript object>"
      ]
     },
     "metadata": {},
     "output_type": "display_data"
    },
    {
     "data": {
      "text/markdown": [
       "<span style=\"color:#33cc33\">Correct</span>"
      ],
      "text/plain": [
       "Correct"
      ]
     },
     "metadata": {},
     "output_type": "display_data"
    }
   ],
   "source": [
    "def word_search(doc_list, keyword):\n",
    "    \"\"\"\n",
    "    Takes a list of documents (each document is a string) and a keyword. \n",
    "    Returns list of the index values into the original list for all documents \n",
    "    containing the keyword.\n",
    "\n",
    "    Example:\n",
    "    doc_list = [\"The Learn Python Challenge Casino.\", \"They bought a car\", \"Casinoville\"]\n",
    "    >>> word_search(doc_list, 'casino')\n",
    "    >>> [0]\n",
    "    \"\"\"\n",
    "    Ls = []\n",
    "    for i, doc in enumerate(doc_list):\n",
    "        for word in doc.replace(',','').replace('.','').split(' '):            \n",
    "            if keyword.lower() == word.lower():\n",
    "                Ls.append(i)\n",
    "                break\n",
    "    return Ls\n",
    "\n",
    "\n",
    "q2.check()"
   ]
  },
  {
   "cell_type": "code",
   "execution_count": 12,
   "id": "88c4fec5",
   "metadata": {
    "execution": {
     "iopub.execute_input": "2023-02-22T13:05:27.120996Z",
     "iopub.status.busy": "2023-02-22T13:05:27.120279Z",
     "iopub.status.idle": "2023-02-22T13:05:27.124407Z",
     "shell.execute_reply": "2023-02-22T13:05:27.123597Z"
    },
    "papermill": {
     "duration": 0.015863,
     "end_time": "2023-02-22T13:05:27.126568",
     "exception": false,
     "start_time": "2023-02-22T13:05:27.110705",
     "status": "completed"
    },
    "tags": []
   },
   "outputs": [],
   "source": [
    "#q3.solution()"
   ]
  },
  {
   "cell_type": "markdown",
   "id": "bcc1ba39",
   "metadata": {
    "papermill": {
     "duration": 0.007795,
     "end_time": "2023-02-22T13:05:27.142585",
     "exception": false,
     "start_time": "2023-02-22T13:05:27.134790",
     "status": "completed"
    },
    "tags": []
   },
   "source": [
    "# Keep Going\n",
    "\n",
    "You've learned a lot. But even the best programmers rely heavily on \"libraries\" of code from other programmers. You'll learn about that in **[the last lesson](https://www.kaggle.com/colinmorris/working-with-external-libraries)**.\n"
   ]
  },
  {
   "cell_type": "markdown",
   "id": "7fc4b23b",
   "metadata": {
    "papermill": {
     "duration": 0.007646,
     "end_time": "2023-02-22T13:05:27.158248",
     "exception": false,
     "start_time": "2023-02-22T13:05:27.150602",
     "status": "completed"
    },
    "tags": []
   },
   "source": [
    "---\n",
    "\n",
    "\n",
    "\n",
    "\n",
    "*Have questions or comments? Visit the [course discussion forum](https://www.kaggle.com/learn/python/discussion) to chat with other learners.*"
   ]
  }
 ],
 "metadata": {
  "kernelspec": {
   "display_name": "Python 3",
   "language": "python",
   "name": "python3"
  },
  "language_info": {
   "codemirror_mode": {
    "name": "ipython",
    "version": 3
   },
   "file_extension": ".py",
   "mimetype": "text/x-python",
   "name": "python",
   "nbconvert_exporter": "python",
   "pygments_lexer": "ipython3",
   "version": "3.7.12"
  },
  "papermill": {
   "default_parameters": {},
   "duration": 10.0573,
   "end_time": "2023-02-22T13:05:27.889259",
   "environment_variables": {},
   "exception": null,
   "input_path": "__notebook__.ipynb",
   "output_path": "__notebook__.ipynb",
   "parameters": {},
   "start_time": "2023-02-22T13:05:17.831959",
   "version": "2.3.4"
  }
 },
 "nbformat": 4,
 "nbformat_minor": 5
}
