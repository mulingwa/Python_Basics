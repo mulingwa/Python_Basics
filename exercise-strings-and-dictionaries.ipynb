{
 "cells": [
  {
   "cell_type": "markdown",
   "id": "bf6d1d52",
   "metadata": {
    "papermill": {
     "duration": 0.00951,
     "end_time": "2023-02-22T12:36:26.513337",
     "exception": false,
     "start_time": "2023-02-22T12:36:26.503827",
     "status": "completed"
    },
    "tags": []
   },
   "source": [
    "**This notebook is an exercise in the [Python](https://www.kaggle.com/learn/python) course.  You can reference the tutorial at [this link](https://www.kaggle.com/colinmorris/strings-and-dictionaries).**\n",
    "\n",
    "---\n"
   ]
  },
  {
   "cell_type": "markdown",
   "id": "4d2f1292",
   "metadata": {
    "papermill": {
     "duration": 0.005707,
     "end_time": "2023-02-22T12:36:26.525370",
     "exception": false,
     "start_time": "2023-02-22T12:36:26.519663",
     "status": "completed"
    },
    "tags": []
   },
   "source": [
    "You are almost done with the course. Nice job!\n",
    "\n",
    "We have a couple more interesting problems for you before you go. \n",
    "\n",
    "As always, run the setup code below before working on the questions."
   ]
  },
  {
   "cell_type": "code",
   "execution_count": 1,
   "id": "0236a393",
   "metadata": {
    "execution": {
     "iopub.execute_input": "2023-02-22T12:36:26.539591Z",
     "iopub.status.busy": "2023-02-22T12:36:26.538728Z",
     "iopub.status.idle": "2023-02-22T12:36:26.599767Z",
     "shell.execute_reply": "2023-02-22T12:36:26.598843Z"
    },
    "papermill": {
     "duration": 0.071595,
     "end_time": "2023-02-22T12:36:26.602651",
     "exception": false,
     "start_time": "2023-02-22T12:36:26.531056",
     "status": "completed"
    },
    "tags": []
   },
   "outputs": [
    {
     "name": "stdout",
     "output_type": "stream",
     "text": [
      "Setup complete.\n"
     ]
    }
   ],
   "source": [
    "from learntools.core import binder; binder.bind(globals())\n",
    "from learntools.python.ex6 import *\n",
    "print('Setup complete.')"
   ]
  },
  {
   "cell_type": "markdown",
   "id": "e9c48f99",
   "metadata": {
    "papermill": {
     "duration": 0.006202,
     "end_time": "2023-02-22T12:36:26.614532",
     "exception": false,
     "start_time": "2023-02-22T12:36:26.608330",
     "status": "completed"
    },
    "tags": []
   },
   "source": [
    "Let's start with a string lightning round to warm up. What are the lengths of the strings below?\n",
    "\n",
    "For each of the five strings below, predict what `len()` would return when passed that string. Use the variable `length` to record your answer, then run the cell to check whether you were right.  \n",
    "\n",
    "# 0a."
   ]
  },
  {
   "cell_type": "code",
   "execution_count": 2,
   "id": "013f1137",
   "metadata": {
    "execution": {
     "iopub.execute_input": "2023-02-22T12:36:26.628353Z",
     "iopub.status.busy": "2023-02-22T12:36:26.627615Z",
     "iopub.status.idle": "2023-02-22T12:36:26.641223Z",
     "shell.execute_reply": "2023-02-22T12:36:26.639787Z"
    },
    "papermill": {
     "duration": 0.023127,
     "end_time": "2023-02-22T12:36:26.643402",
     "exception": false,
     "start_time": "2023-02-22T12:36:26.620275",
     "status": "completed"
    },
    "tags": []
   },
   "outputs": [
    {
     "name": "stdout",
     "output_type": "stream",
     "text": [
      "10\n"
     ]
    },
    {
     "data": {
      "application/javascript": [
       "parent.postMessage({\"jupyterEvent\": \"custom.exercise_interaction\", \"data\": {\"outcomeType\": 1, \"valueTowardsCompletion\": 0.3333333333333333, \"interactionType\": 1, \"questionType\": 1, \"questionId\": \"0.1_ZA\", \"learnToolsVersion\": \"0.3.4\", \"failureMessage\": \"\", \"exceptionClass\": \"\", \"trace\": \"\"}}, \"*\")"
      ],
      "text/plain": [
       "<IPython.core.display.Javascript object>"
      ]
     },
     "metadata": {},
     "output_type": "display_data"
    },
    {
     "data": {
      "text/markdown": [
       "<span style=\"color:#33cc33\">Correct:</span> \n",
       "\n",
       "The empty string has length zero. Note that the empty string is also the only string that Python considers as False when converting to boolean."
      ],
      "text/plain": [
       "Correct: \n",
       "\n",
       "The empty string has length zero. Note that the empty string is also the only string that Python considers as False when converting to boolean."
      ]
     },
     "metadata": {},
     "output_type": "display_data"
    }
   ],
   "source": [
    "a = \"Mayooooooo\"\n",
    "length = 0\n",
    "print(len(a))\n",
    "q0.a.check()"
   ]
  },
  {
   "cell_type": "markdown",
   "id": "a55fd5fb",
   "metadata": {
    "papermill": {
     "duration": 0.005555,
     "end_time": "2023-02-22T12:36:26.654933",
     "exception": false,
     "start_time": "2023-02-22T12:36:26.649378",
     "status": "completed"
    },
    "tags": []
   },
   "source": [
    "# 0b."
   ]
  },
  {
   "cell_type": "code",
   "execution_count": 3,
   "id": "b0caec3a",
   "metadata": {
    "execution": {
     "iopub.execute_input": "2023-02-22T12:36:26.669577Z",
     "iopub.status.busy": "2023-02-22T12:36:26.669013Z",
     "iopub.status.idle": "2023-02-22T12:36:26.679175Z",
     "shell.execute_reply": "2023-02-22T12:36:26.677751Z"
    },
    "papermill": {
     "duration": 0.020786,
     "end_time": "2023-02-22T12:36:26.681572",
     "exception": false,
     "start_time": "2023-02-22T12:36:26.660786",
     "status": "completed"
    },
    "tags": []
   },
   "outputs": [
    {
     "data": {
      "application/javascript": [
       "parent.postMessage({\"jupyterEvent\": \"custom.exercise_interaction\", \"data\": {\"outcomeType\": 1, \"valueTowardsCompletion\": 0.3333333333333333, \"interactionType\": 1, \"questionType\": 1, \"questionId\": \"0.2_ZB\", \"learnToolsVersion\": \"0.3.4\", \"failureMessage\": \"\", \"exceptionClass\": \"\", \"trace\": \"\"}}, \"*\")"
      ],
      "text/plain": [
       "<IPython.core.display.Javascript object>"
      ]
     },
     "metadata": {},
     "output_type": "display_data"
    },
    {
     "data": {
      "text/markdown": [
       "<span style=\"color:#33cc33\">Correct:</span> \n",
       "\n",
       "Keep in mind Python includes spaces (and punctuation) when counting string length."
      ],
      "text/plain": [
       "Correct: \n",
       "\n",
       "Keep in mind Python includes spaces (and punctuation) when counting string length."
      ]
     },
     "metadata": {},
     "output_type": "display_data"
    }
   ],
   "source": [
    "b = \"it's ok\"\n",
    "length = 7\n",
    "q0.b.check()"
   ]
  },
  {
   "cell_type": "markdown",
   "id": "0b0af9a1",
   "metadata": {
    "papermill": {
     "duration": 0.005711,
     "end_time": "2023-02-22T12:36:26.693353",
     "exception": false,
     "start_time": "2023-02-22T12:36:26.687642",
     "status": "completed"
    },
    "tags": []
   },
   "source": [
    "# 0c."
   ]
  },
  {
   "cell_type": "code",
   "execution_count": 4,
   "id": "863b0808",
   "metadata": {
    "execution": {
     "iopub.execute_input": "2023-02-22T12:36:26.707651Z",
     "iopub.status.busy": "2023-02-22T12:36:26.706785Z",
     "iopub.status.idle": "2023-02-22T12:36:26.717178Z",
     "shell.execute_reply": "2023-02-22T12:36:26.715826Z"
    },
    "papermill": {
     "duration": 0.020523,
     "end_time": "2023-02-22T12:36:26.719902",
     "exception": false,
     "start_time": "2023-02-22T12:36:26.699379",
     "status": "completed"
    },
    "tags": []
   },
   "outputs": [
    {
     "data": {
      "application/javascript": [
       "parent.postMessage({\"jupyterEvent\": \"custom.exercise_interaction\", \"data\": {\"outcomeType\": 1, \"valueTowardsCompletion\": 0.3333333333333333, \"interactionType\": 1, \"questionType\": 1, \"questionId\": \"0.3_ZC\", \"learnToolsVersion\": \"0.3.4\", \"failureMessage\": \"\", \"exceptionClass\": \"\", \"trace\": \"\"}}, \"*\")"
      ],
      "text/plain": [
       "<IPython.core.display.Javascript object>"
      ]
     },
     "metadata": {},
     "output_type": "display_data"
    },
    {
     "data": {
      "text/markdown": [
       "<span style=\"color:#33cc33\">Correct:</span> \n",
       "\n",
       "Even though we use different syntax to create it, the string `c` is identical to `b`. In particular, note that the backslash is not part of the string, so it doesn't contribute to its length."
      ],
      "text/plain": [
       "Correct: \n",
       "\n",
       "Even though we use different syntax to create it, the string `c` is identical to `b`. In particular, note that the backslash is not part of the string, so it doesn't contribute to its length."
      ]
     },
     "metadata": {},
     "output_type": "display_data"
    }
   ],
   "source": [
    "c = 'it\\'s ok'\n",
    "length = 7\n",
    "q0.c.check()"
   ]
  },
  {
   "cell_type": "markdown",
   "id": "e5ff689f",
   "metadata": {
    "papermill": {
     "duration": 0.00627,
     "end_time": "2023-02-22T12:36:26.732631",
     "exception": false,
     "start_time": "2023-02-22T12:36:26.726361",
     "status": "completed"
    },
    "tags": []
   },
   "source": [
    "# 0d."
   ]
  },
  {
   "cell_type": "code",
   "execution_count": 5,
   "id": "eccb074e",
   "metadata": {
    "execution": {
     "iopub.execute_input": "2023-02-22T12:36:26.747177Z",
     "iopub.status.busy": "2023-02-22T12:36:26.746738Z",
     "iopub.status.idle": "2023-02-22T12:36:26.757136Z",
     "shell.execute_reply": "2023-02-22T12:36:26.755860Z"
    },
    "papermill": {
     "duration": 0.020738,
     "end_time": "2023-02-22T12:36:26.759777",
     "exception": false,
     "start_time": "2023-02-22T12:36:26.739039",
     "status": "completed"
    },
    "tags": []
   },
   "outputs": [
    {
     "data": {
      "application/javascript": [
       "parent.postMessage({\"jupyterEvent\": \"custom.exercise_interaction\", \"data\": {\"outcomeType\": 1, \"valueTowardsCompletion\": 0.3333333333333333, \"interactionType\": 1, \"questionType\": 1, \"questionId\": \"0.4_ZD\", \"learnToolsVersion\": \"0.3.4\", \"failureMessage\": \"\", \"exceptionClass\": \"\", \"trace\": \"\"}}, \"*\")"
      ],
      "text/plain": [
       "<IPython.core.display.Javascript object>"
      ]
     },
     "metadata": {},
     "output_type": "display_data"
    },
    {
     "data": {
      "text/markdown": [
       "<span style=\"color:#33cc33\">Correct:</span> \n",
       "\n",
       "The fact that this string was created using triple-quote syntax doesn't make any difference in terms of its content or length. This string is exactly the same as `'hey'`."
      ],
      "text/plain": [
       "Correct: \n",
       "\n",
       "The fact that this string was created using triple-quote syntax doesn't make any difference in terms of its content or length. This string is exactly the same as `'hey'`."
      ]
     },
     "metadata": {},
     "output_type": "display_data"
    }
   ],
   "source": [
    "d = \"\"\"hey\"\"\"\n",
    "length = 3\n",
    "q0.d.check()"
   ]
  },
  {
   "cell_type": "markdown",
   "id": "d3df5c0a",
   "metadata": {
    "papermill": {
     "duration": 0.006586,
     "end_time": "2023-02-22T12:36:26.773707",
     "exception": false,
     "start_time": "2023-02-22T12:36:26.767121",
     "status": "completed"
    },
    "tags": []
   },
   "source": [
    "# 0e."
   ]
  },
  {
   "cell_type": "code",
   "execution_count": 6,
   "id": "8c479925",
   "metadata": {
    "execution": {
     "iopub.execute_input": "2023-02-22T12:36:26.789168Z",
     "iopub.status.busy": "2023-02-22T12:36:26.788739Z",
     "iopub.status.idle": "2023-02-22T12:36:26.800387Z",
     "shell.execute_reply": "2023-02-22T12:36:26.798947Z"
    },
    "papermill": {
     "duration": 0.02277,
     "end_time": "2023-02-22T12:36:26.803120",
     "exception": false,
     "start_time": "2023-02-22T12:36:26.780350",
     "status": "completed"
    },
    "tags": []
   },
   "outputs": [
    {
     "name": "stdout",
     "output_type": "stream",
     "text": [
      "1\n"
     ]
    },
    {
     "data": {
      "application/javascript": [
       "parent.postMessage({\"jupyterEvent\": \"custom.exercise_interaction\", \"data\": {\"outcomeType\": 1, \"valueTowardsCompletion\": 0.3333333333333333, \"interactionType\": 1, \"questionType\": 1, \"questionId\": \"0.5_ZE\", \"learnToolsVersion\": \"0.3.4\", \"failureMessage\": \"\", \"exceptionClass\": \"\", \"trace\": \"\"}}, \"*\")"
      ],
      "text/plain": [
       "<IPython.core.display.Javascript object>"
      ]
     },
     "metadata": {},
     "output_type": "display_data"
    },
    {
     "data": {
      "text/markdown": [
       "<span style=\"color:#33cc33\">Correct:</span> \n",
       "\n",
       "The newline character is just a single character! (Even though we represent it to Python using a combination of two characters.)"
      ],
      "text/plain": [
       "Correct: \n",
       "\n",
       "The newline character is just a single character! (Even though we represent it to Python using a combination of two characters.)"
      ]
     },
     "metadata": {},
     "output_type": "display_data"
    }
   ],
   "source": [
    "e = '\\n'\n",
    "length = 1\n",
    "print(len(e))\n",
    "q0.e.check()"
   ]
  },
  {
   "cell_type": "markdown",
   "id": "73203dd7",
   "metadata": {
    "papermill": {
     "duration": 0.006737,
     "end_time": "2023-02-22T12:36:26.816918",
     "exception": false,
     "start_time": "2023-02-22T12:36:26.810181",
     "status": "completed"
    },
    "tags": []
   },
   "source": [
    "# 1.\n",
    "\n",
    "There is a saying that \"Data scientists spend 80% of their time cleaning data, and 20% of their time complaining about cleaning data.\" Let's see if you can write a function to help clean US zip code data. Given a string, it should return whether or not that string represents a valid zip code. For our purposes, a valid zip code is any string consisting of exactly 5 digits.\n",
    "\n",
    "HINT: `str` has a method that will be useful here. Use `help(str)` to review a list of string methods."
   ]
  },
  {
   "cell_type": "code",
   "execution_count": 7,
   "id": "d36fc576",
   "metadata": {
    "execution": {
     "iopub.execute_input": "2023-02-22T12:36:26.832929Z",
     "iopub.status.busy": "2023-02-22T12:36:26.832518Z",
     "iopub.status.idle": "2023-02-22T12:36:26.849033Z",
     "shell.execute_reply": "2023-02-22T12:36:26.847807Z"
    },
    "papermill": {
     "duration": 0.02747,
     "end_time": "2023-02-22T12:36:26.851342",
     "exception": false,
     "start_time": "2023-02-22T12:36:26.823872",
     "status": "completed"
    },
    "tags": []
   },
   "outputs": [
    {
     "data": {
      "application/javascript": [
       "parent.postMessage({\"jupyterEvent\": \"custom.exercise_interaction\", \"data\": {\"outcomeType\": 1, \"valueTowardsCompletion\": 0.3333333333333333, \"interactionType\": 1, \"questionType\": 2, \"questionId\": \"1_ZipValidator\", \"learnToolsVersion\": \"0.3.4\", \"failureMessage\": \"\", \"exceptionClass\": \"\", \"trace\": \"\"}}, \"*\")"
      ],
      "text/plain": [
       "<IPython.core.display.Javascript object>"
      ]
     },
     "metadata": {},
     "output_type": "display_data"
    },
    {
     "data": {
      "text/markdown": [
       "<span style=\"color:#33cc33\">Correct</span>"
      ],
      "text/plain": [
       "Correct"
      ]
     },
     "metadata": {},
     "output_type": "display_data"
    }
   ],
   "source": [
    "def is_valid_zip(zip_code):\n",
    "    \"\"\"Returns whether the input string is a valid (5 digit) zip code\n",
    "    \"\"\"\n",
    "    return zip_code.isdigit() and len(zip_code)==5\n",
    "    pass\n",
    "\n",
    "\n",
    "# Check your answer\n",
    "q1.check()"
   ]
  },
  {
   "cell_type": "code",
   "execution_count": 8,
   "id": "bbcb2de8",
   "metadata": {
    "execution": {
     "iopub.execute_input": "2023-02-22T12:36:26.869127Z",
     "iopub.status.busy": "2023-02-22T12:36:26.868001Z",
     "iopub.status.idle": "2023-02-22T12:36:26.873175Z",
     "shell.execute_reply": "2023-02-22T12:36:26.871937Z"
    },
    "papermill": {
     "duration": 0.016783,
     "end_time": "2023-02-22T12:36:26.875637",
     "exception": false,
     "start_time": "2023-02-22T12:36:26.858854",
     "status": "completed"
    },
    "tags": []
   },
   "outputs": [],
   "source": [
    "#q1.hint()\n",
    "#q1.solution()"
   ]
  },
  {
   "cell_type": "markdown",
   "id": "290d745b",
   "metadata": {
    "papermill": {
     "duration": 0.007164,
     "end_time": "2023-02-22T12:36:26.890151",
     "exception": false,
     "start_time": "2023-02-22T12:36:26.882987",
     "status": "completed"
    },
    "tags": []
   },
   "source": [
    "# 2.\n",
    "\n",
    "A researcher has gathered thousands of news articles. But she wants to focus her attention on articles including a specific word. Complete the function below to help her filter her list of articles.\n",
    "\n",
    "Your function should meet the following criteria:\n",
    "\n",
    "- Do not include documents where the keyword string shows up only as a part of a larger word. For example, if she were looking for the keyword “closed”, you would not include the string “enclosed.” \n",
    "- She does not want you to distinguish upper case from lower case letters. So the phrase “Closed the case.” would be included when the keyword is “closed”\n",
    "- Do not let periods or commas affect what is matched. “It is closed.” would be included when the keyword is “closed”. But you can assume there are no other types of punctuation."
   ]
  },
  {
   "cell_type": "code",
   "execution_count": 9,
   "id": "62bd5029",
   "metadata": {
    "execution": {
     "iopub.execute_input": "2023-02-22T12:36:26.907043Z",
     "iopub.status.busy": "2023-02-22T12:36:26.906174Z",
     "iopub.status.idle": "2023-02-22T12:36:26.918629Z",
     "shell.execute_reply": "2023-02-22T12:36:26.917487Z"
    },
    "papermill": {
     "duration": 0.023944,
     "end_time": "2023-02-22T12:36:26.921309",
     "exception": false,
     "start_time": "2023-02-22T12:36:26.897365",
     "status": "completed"
    },
    "tags": []
   },
   "outputs": [
    {
     "data": {
      "application/javascript": [
       "parent.postMessage({\"jupyterEvent\": \"custom.exercise_interaction\", \"data\": {\"outcomeType\": 2, \"failureMessage\": \"Expected return value of `[0]` given `documents=['The Learn Python Challenge Casino', 'They bought a car, and a horse', 'Casinoville?']`, `keyword='casino'`, but got `[]` instead.\", \"interactionType\": 1, \"questionType\": 2, \"questionId\": \"2_WordSearch\", \"learnToolsVersion\": \"0.3.4\", \"valueTowardsCompletion\": 0.0, \"exceptionClass\": \"\", \"trace\": \"\"}}, \"*\")"
      ],
      "text/plain": [
       "<IPython.core.display.Javascript object>"
      ]
     },
     "metadata": {},
     "output_type": "display_data"
    },
    {
     "data": {
      "text/markdown": [
       "<span style=\"color:#cc3333\">Incorrect:</span> Expected return value of `[0]` given `documents=['The Learn Python Challenge Casino', 'They bought a car, and a horse', 'Casinoville?']`, `keyword='casino'`, but got `[]` instead."
      ],
      "text/plain": [
       "Incorrect: Expected return value of `[0]` given `documents=['The Learn Python Challenge Casino', 'They bought a car, and a horse', 'Casinoville?']`, `keyword='casino'`, but got `[]` instead."
      ]
     },
     "metadata": {},
     "output_type": "display_data"
    }
   ],
   "source": [
    "def word_search(documents, keyword):\n",
    "    # list to hold the indices of matching documents\n",
    "    indices = [] \n",
    "    # Iterate through the indices (i) and elements (doc) of documents\n",
    "    for i, doc in enumerate(documents):\n",
    "        # Split the string doc into a list of words (according to whitespace)\n",
    "        tokens = doc.split()\n",
    "        # Make a transformed list where we 'normalize' each word to facilitate matching.\n",
    "        # Periods and commas are removed from the end of each word, and it's set to all lowercase.\n",
    "        normalized = [token.rstrip('.,').lower() for token in tokens]\n",
    "        # Is there a match? If so, update the list of matching indices.\n",
    "    if keyword.lower() in normalized:\n",
    "                indices.append(i)\n",
    "    return indices\n",
    "\n",
    "# Check your answer\n",
    "q2.check()"
   ]
  },
  {
   "cell_type": "code",
   "execution_count": 10,
   "id": "e34a227d",
   "metadata": {
    "execution": {
     "iopub.execute_input": "2023-02-22T12:36:26.938222Z",
     "iopub.status.busy": "2023-02-22T12:36:26.937806Z",
     "iopub.status.idle": "2023-02-22T12:36:26.946089Z",
     "shell.execute_reply": "2023-02-22T12:36:26.945000Z"
    },
    "papermill": {
     "duration": 0.019602,
     "end_time": "2023-02-22T12:36:26.948472",
     "exception": false,
     "start_time": "2023-02-22T12:36:26.928870",
     "status": "completed"
    },
    "tags": []
   },
   "outputs": [
    {
     "data": {
      "application/javascript": [
       "parent.postMessage({\"jupyterEvent\": \"custom.exercise_interaction\", \"data\": {\"interactionType\": 3, \"questionType\": 2, \"questionId\": \"2_WordSearch\", \"learnToolsVersion\": \"0.3.4\", \"valueTowardsCompletion\": 0.0, \"failureMessage\": \"\", \"exceptionClass\": \"\", \"trace\": \"\", \"outcomeType\": 4}}, \"*\")"
      ],
      "text/plain": [
       "<IPython.core.display.Javascript object>"
      ]
     },
     "metadata": {},
     "output_type": "display_data"
    },
    {
     "data": {
      "text/markdown": [
       "<span style=\"color:#33cc99\">Solution:</span> \n",
       "```python\n",
       "def word_search(doc_list, keyword):\n",
       "    # list to hold the indices of matching documents\n",
       "    indices = [] \n",
       "    # Iterate through the indices (i) and elements (doc) of documents\n",
       "    for i, doc in enumerate(doc_list):\n",
       "        # Split the string doc into a list of words (according to whitespace)\n",
       "        tokens = doc.split()\n",
       "        # Make a transformed list where we 'normalize' each word to facilitate matching.\n",
       "        # Periods and commas are removed from the end of each word, and it's set to all lowercase.\n",
       "        normalized = [token.rstrip('.,').lower() for token in tokens]\n",
       "        # Is there a match? If so, update the list of matching indices.\n",
       "        if keyword.lower() in normalized:\n",
       "            indices.append(i)\n",
       "    return indices\n",
       "```"
      ],
      "text/plain": [
       "Solution: \n",
       "```python\n",
       "def word_search(doc_list, keyword):\n",
       "    # list to hold the indices of matching documents\n",
       "    indices = [] \n",
       "    # Iterate through the indices (i) and elements (doc) of documents\n",
       "    for i, doc in enumerate(doc_list):\n",
       "        # Split the string doc into a list of words (according to whitespace)\n",
       "        tokens = doc.split()\n",
       "        # Make a transformed list where we 'normalize' each word to facilitate matching.\n",
       "        # Periods and commas are removed from the end of each word, and it's set to all lowercase.\n",
       "        normalized = [token.rstrip('.,').lower() for token in tokens]\n",
       "        # Is there a match? If so, update the list of matching indices.\n",
       "        if keyword.lower() in normalized:\n",
       "            indices.append(i)\n",
       "    return indices\n",
       "```"
      ]
     },
     "metadata": {},
     "output_type": "display_data"
    }
   ],
   "source": [
    "#q2.hint()\n",
    "q2.solution()"
   ]
  },
  {
   "cell_type": "markdown",
   "id": "6b2fd9a4",
   "metadata": {
    "papermill": {
     "duration": 0.007649,
     "end_time": "2023-02-22T12:36:26.963914",
     "exception": false,
     "start_time": "2023-02-22T12:36:26.956265",
     "status": "completed"
    },
    "tags": []
   },
   "source": [
    "# 3.\n",
    "\n",
    "Now the researcher wants to supply multiple keywords to search for. Complete the function below to help her.\n",
    "\n",
    "(You're encouraged to use the `word_search` function you just wrote when implementing this function. Reusing code in this way makes your programs more robust and readable - and it saves typing!)"
   ]
  },
  {
   "cell_type": "code",
   "execution_count": 11,
   "id": "2c4e21ae",
   "metadata": {
    "execution": {
     "iopub.execute_input": "2023-02-22T12:36:26.981806Z",
     "iopub.status.busy": "2023-02-22T12:36:26.981363Z",
     "iopub.status.idle": "2023-02-22T12:36:26.993200Z",
     "shell.execute_reply": "2023-02-22T12:36:26.992007Z"
    },
    "papermill": {
     "duration": 0.023906,
     "end_time": "2023-02-22T12:36:26.995648",
     "exception": false,
     "start_time": "2023-02-22T12:36:26.971742",
     "status": "completed"
    },
    "tags": []
   },
   "outputs": [
    {
     "data": {
      "application/javascript": [
       "parent.postMessage({\"jupyterEvent\": \"custom.exercise_interaction\", \"data\": {\"outcomeType\": 1, \"valueTowardsCompletion\": 0.3333333333333333, \"interactionType\": 1, \"questionType\": 2, \"questionId\": \"2_WordSearch\", \"learnToolsVersion\": \"0.3.4\", \"failureMessage\": \"\", \"exceptionClass\": \"\", \"trace\": \"\"}}, \"*\")"
      ],
      "text/plain": [
       "<IPython.core.display.Javascript object>"
      ]
     },
     "metadata": {},
     "output_type": "display_data"
    },
    {
     "data": {
      "text/markdown": [
       "<span style=\"color:#33cc33\">Correct</span>"
      ],
      "text/plain": [
       "Correct"
      ]
     },
     "metadata": {},
     "output_type": "display_data"
    }
   ],
   "source": [
    "def word_search(doc_list, keyword):\n",
    "    \"\"\"\n",
    "    Takes a list of documents (each document is a string) and a keyword. \n",
    "    Returns list of the index values into the original list for all documents \n",
    "    containing the keyword.\n",
    "\n",
    "    Example:\n",
    "    doc_list = [\"The Learn Python Challenge Casino.\", \"They bought a car\", \"Casinoville\"]\n",
    "    >>> word_search(doc_list, 'casino')\n",
    "    >>> [0]\n",
    "    \"\"\"\n",
    "    Ls = []\n",
    "    for i, doc in enumerate(doc_list):\n",
    "        for word in doc.replace(',','').replace('.','').split(' '):            \n",
    "            if keyword.lower() == word.lower():\n",
    "                Ls.append(i)\n",
    "                break\n",
    "    return Ls\n",
    "\n",
    "\n",
    "q2.check()"
   ]
  },
  {
   "cell_type": "code",
   "execution_count": 12,
   "id": "32d40f9b",
   "metadata": {
    "execution": {
     "iopub.execute_input": "2023-02-22T12:36:27.015425Z",
     "iopub.status.busy": "2023-02-22T12:36:27.015027Z",
     "iopub.status.idle": "2023-02-22T12:36:27.019760Z",
     "shell.execute_reply": "2023-02-22T12:36:27.018489Z"
    },
    "papermill": {
     "duration": 0.017688,
     "end_time": "2023-02-22T12:36:27.022170",
     "exception": false,
     "start_time": "2023-02-22T12:36:27.004482",
     "status": "completed"
    },
    "tags": []
   },
   "outputs": [],
   "source": [
    "#q3.solution()"
   ]
  },
  {
   "cell_type": "markdown",
   "id": "a8642165",
   "metadata": {
    "papermill": {
     "duration": 0.008138,
     "end_time": "2023-02-22T12:36:27.039089",
     "exception": false,
     "start_time": "2023-02-22T12:36:27.030951",
     "status": "completed"
    },
    "tags": []
   },
   "source": [
    "# Keep Going\n",
    "\n",
    "You've learned a lot. But even the best programmers rely heavily on \"libraries\" of code from other programmers. You'll learn about that in **[the last lesson](https://www.kaggle.com/colinmorris/working-with-external-libraries)**.\n"
   ]
  },
  {
   "cell_type": "markdown",
   "id": "bc4cb357",
   "metadata": {
    "papermill": {
     "duration": 0.008059,
     "end_time": "2023-02-22T12:36:27.055423",
     "exception": false,
     "start_time": "2023-02-22T12:36:27.047364",
     "status": "completed"
    },
    "tags": []
   },
   "source": [
    "---\n",
    "\n",
    "\n",
    "\n",
    "\n",
    "*Have questions or comments? Visit the [course discussion forum](https://www.kaggle.com/learn/python/discussion) to chat with other learners.*"
   ]
  }
 ],
 "metadata": {
  "kernelspec": {
   "display_name": "Python 3",
   "language": "python",
   "name": "python3"
  },
  "language_info": {
   "codemirror_mode": {
    "name": "ipython",
    "version": 3
   },
   "file_extension": ".py",
   "mimetype": "text/x-python",
   "name": "python",
   "nbconvert_exporter": "python",
   "pygments_lexer": "ipython3",
   "version": "3.7.12"
  },
  "papermill": {
   "default_parameters": {},
   "duration": 12.824393,
   "end_time": "2023-02-22T12:36:27.790064",
   "environment_variables": {},
   "exception": null,
   "input_path": "__notebook__.ipynb",
   "output_path": "__notebook__.ipynb",
   "parameters": {},
   "start_time": "2023-02-22T12:36:14.965671",
   "version": "2.3.4"
  }
 },
 "nbformat": 4,
 "nbformat_minor": 5
}
