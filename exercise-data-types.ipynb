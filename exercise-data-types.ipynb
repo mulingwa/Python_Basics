{
 "cells": [
  {
   "cell_type": "markdown",
   "id": "593cb77c",
   "metadata": {
    "papermill": {
     "duration": 0.008054,
     "end_time": "2022-08-23T10:50:25.484342",
     "exception": false,
     "start_time": "2022-08-23T10:50:25.476288",
     "status": "completed"
    },
    "tags": []
   },
   "source": [
    "**This notebook is an exercise in the [Intro to Programming](https://www.kaggle.com/learn/intro-to-programming) course.  You can reference the tutorial at [this link](https://www.kaggle.com/alexisbcook/data-types).**\n",
    "\n",
    "---\n"
   ]
  },
  {
   "cell_type": "markdown",
   "id": "d5a8c932",
   "metadata": {
    "papermill": {
     "duration": 0.006438,
     "end_time": "2022-08-23T10:50:25.497731",
     "exception": false,
     "start_time": "2022-08-23T10:50:25.491293",
     "status": "completed"
    },
    "tags": []
   },
   "source": [
    "In the tutorial, you learned about four different data types: floats, integers, strings, and booleans.  In this exercise, you'll experiment with them.\n",
    "\n",
    "# Set up the notebook\n",
    "\n",
    "Run the next code cell without changes to set up the notebook."
   ]
  },
  {
   "cell_type": "code",
   "execution_count": 1,
   "id": "120a4c14",
   "metadata": {
    "execution": {
     "iopub.execute_input": "2022-08-23T10:50:25.513563Z",
     "iopub.status.busy": "2022-08-23T10:50:25.512937Z",
     "iopub.status.idle": "2022-08-23T10:50:25.579386Z",
     "shell.execute_reply": "2022-08-23T10:50:25.577311Z"
    },
    "papermill": {
     "duration": 0.07896,
     "end_time": "2022-08-23T10:50:25.583437",
     "exception": false,
     "start_time": "2022-08-23T10:50:25.504477",
     "status": "completed"
    },
    "tags": []
   },
   "outputs": [
    {
     "name": "stdout",
     "output_type": "stream",
     "text": [
      "Setup complete.\n"
     ]
    }
   ],
   "source": [
    "# Set up the exercise\n",
    "from learntools.core import binder\n",
    "binder.bind(globals())\n",
    "from learntools.intro_to_programming.ex3 import *\n",
    "print('Setup complete.')"
   ]
  },
  {
   "cell_type": "markdown",
   "id": "68c24ab2",
   "metadata": {
    "papermill": {
     "duration": 0.006882,
     "end_time": "2022-08-23T10:50:25.598024",
     "exception": false,
     "start_time": "2022-08-23T10:50:25.591142",
     "status": "completed"
    },
    "tags": []
   },
   "source": [
    "# Question 1\n",
    "\n",
    "You have seen how to convert a float to an integer with the `int` function.  Try this out yourself by running the code cell below."
   ]
  },
  {
   "cell_type": "code",
   "execution_count": 2,
   "id": "7cd9ad17",
   "metadata": {
    "execution": {
     "iopub.execute_input": "2022-08-23T10:50:25.613819Z",
     "iopub.status.busy": "2022-08-23T10:50:25.613358Z",
     "iopub.status.idle": "2022-08-23T10:50:25.620571Z",
     "shell.execute_reply": "2022-08-23T10:50:25.619182Z"
    },
    "papermill": {
     "duration": 0.018041,
     "end_time": "2022-08-23T10:50:25.623036",
     "exception": false,
     "start_time": "2022-08-23T10:50:25.604995",
     "status": "completed"
    },
    "tags": []
   },
   "outputs": [
    {
     "name": "stdout",
     "output_type": "stream",
     "text": [
      "1.0\n",
      "<class 'float'>\n",
      "1\n",
      "<class 'int'>\n"
     ]
    }
   ],
   "source": [
    "# Define a float\n",
    "y = 1.\n",
    "print(y)\n",
    "print(type(y))\n",
    "\n",
    "# Convert float to integer with the int function\n",
    "z = int(y)\n",
    "print(z)\n",
    "print(type(z))"
   ]
  },
  {
   "cell_type": "markdown",
   "id": "83927a39",
   "metadata": {
    "papermill": {
     "duration": 0.006427,
     "end_time": "2022-08-23T10:50:25.636287",
     "exception": false,
     "start_time": "2022-08-23T10:50:25.629860",
     "status": "completed"
    },
    "tags": []
   },
   "source": [
    "In this case, the float you are using has no numbers after the decimal.  \n",
    "- But what happens when you try to convert a float with a fractional part to an integer?  \n",
    "- How does the outcome of the `int` function change for positive and negative numbers?\n",
    "\n",
    "Use the next code cell to investigate and answer these questions.  Feel free to add or remove any lines of code -- it is your workspace!"
   ]
  },
  {
   "cell_type": "code",
   "execution_count": 3,
   "id": "104de0fc",
   "metadata": {
    "execution": {
     "iopub.execute_input": "2022-08-23T10:50:25.651932Z",
     "iopub.status.busy": "2022-08-23T10:50:25.651526Z",
     "iopub.status.idle": "2022-08-23T10:50:25.657210Z",
     "shell.execute_reply": "2022-08-23T10:50:25.656265Z"
    },
    "papermill": {
     "duration": 0.017049,
     "end_time": "2022-08-23T10:50:25.660221",
     "exception": false,
     "start_time": "2022-08-23T10:50:25.643172",
     "status": "completed"
    },
    "tags": []
   },
   "outputs": [
    {
     "name": "stdout",
     "output_type": "stream",
     "text": [
      "1\n",
      "1\n",
      "-3\n",
      "-2\n"
     ]
    }
   ],
   "source": [
    "# Uncomment and run this code to get started!\n",
    "print(int(1.2321))\n",
    "print(int(1.747))\n",
    "print(int(-3.94535))\n",
    "print(int(-2.19774))"
   ]
  },
  {
   "cell_type": "markdown",
   "id": "59ef4986",
   "metadata": {
    "papermill": {
     "duration": 0.007346,
     "end_time": "2022-08-23T10:50:25.675299",
     "exception": false,
     "start_time": "2022-08-23T10:50:25.667953",
     "status": "completed"
    },
    "tags": []
   },
   "source": [
    "Once you have an answer, run the code cell below to see the solution.  Viewing the solution will give you credit for answering the problem."
   ]
  },
  {
   "cell_type": "code",
   "execution_count": 4,
   "id": "bd5c5322",
   "metadata": {
    "execution": {
     "iopub.execute_input": "2022-08-23T10:50:25.691524Z",
     "iopub.status.busy": "2022-08-23T10:50:25.691060Z",
     "iopub.status.idle": "2022-08-23T10:50:25.702456Z",
     "shell.execute_reply": "2022-08-23T10:50:25.701110Z"
    },
    "papermill": {
     "duration": 0.022365,
     "end_time": "2022-08-23T10:50:25.704918",
     "exception": false,
     "start_time": "2022-08-23T10:50:25.682553",
     "status": "completed"
    },
    "tags": []
   },
   "outputs": [
    {
     "data": {
      "application/javascript": [
       "parent.postMessage({\"jupyterEvent\": \"custom.exercise_interaction\", \"data\": {\"outcomeType\": 1, \"valueTowardsCompletion\": 0.2, \"interactionType\": 1, \"questionType\": 4, \"questionId\": \"1_FloatToInt\", \"learnToolsVersion\": \"0.3.4\", \"failureMessage\": \"\", \"exceptionClass\": \"\", \"trace\": \"\"}}, \"*\")"
      ],
      "text/plain": [
       "<IPython.core.display.Javascript object>"
      ]
     },
     "metadata": {},
     "output_type": "display_data"
    },
    {
     "data": {
      "text/markdown": [
       "<span style=\"color:#33cc33\">Correct:</span> \n",
       "\n",
       "Negative floats are always rounded UP to the closest integer (for instance, both -1.1 and -1.9 are rounded up to -1). Positive floats are always rounded DOWN to the closest integer (for instance, 2.1 and 2.9 are rounded down to 2)."
      ],
      "text/plain": [
       "Correct: \n",
       "\n",
       "Negative floats are always rounded UP to the closest integer (for instance, both -1.1 and -1.9 are rounded up to -1). Positive floats are always rounded DOWN to the closest integer (for instance, 2.1 and 2.9 are rounded down to 2)."
      ]
     },
     "metadata": {},
     "output_type": "display_data"
    }
   ],
   "source": [
    "# Check your answer (Run this code cell to receive credit!)\n",
    "q1.check()"
   ]
  },
  {
   "cell_type": "markdown",
   "id": "3fd92351",
   "metadata": {
    "papermill": {
     "duration": 0.006786,
     "end_time": "2022-08-23T10:50:25.718836",
     "exception": false,
     "start_time": "2022-08-23T10:50:25.712050",
     "status": "completed"
    },
    "tags": []
   },
   "source": [
    "# Question 2\n",
    "\n",
    "In the tutorial, you learned about booleans (which can take a value of `True` or `False`), in addition to integers, floats, and strings.  For this question, your goal is to determine what happens when you multiply a boolean by any of these data types.  Specifically, \n",
    "- What happens when you multiply an integer or float by `True`?  What happens when you multiply them by `False`?  How does the answer change if the numbers are positive or negative?\n",
    "- What happens when you multiply a string by `True`?  By `False`?\n",
    "\n",
    "Use the next code cell for your investigation. "
   ]
  },
  {
   "cell_type": "code",
   "execution_count": 5,
   "id": "3cc18572",
   "metadata": {
    "execution": {
     "iopub.execute_input": "2022-08-23T10:50:25.735849Z",
     "iopub.status.busy": "2022-08-23T10:50:25.734664Z",
     "iopub.status.idle": "2022-08-23T10:50:25.743464Z",
     "shell.execute_reply": "2022-08-23T10:50:25.741529Z"
    },
    "papermill": {
     "duration": 0.019911,
     "end_time": "2022-08-23T10:50:25.745870",
     "exception": false,
     "start_time": "2022-08-23T10:50:25.725959",
     "status": "completed"
    },
    "tags": []
   },
   "outputs": [
    {
     "name": "stdout",
     "output_type": "stream",
     "text": [
      "3\n",
      "-3.1\n",
      "<class 'str'>\n",
      "0\n"
     ]
    }
   ],
   "source": [
    "# Uncomment and run this code to get started!\n",
    "print(3 * True)\n",
    "print(-3.1 * True)\n",
    "print(type(\"abc\" * False))\n",
    "print(len(\"abc\" * False))"
   ]
  },
  {
   "cell_type": "markdown",
   "id": "13feb35b",
   "metadata": {
    "papermill": {
     "duration": 0.007053,
     "end_time": "2022-08-23T10:50:25.760474",
     "exception": false,
     "start_time": "2022-08-23T10:50:25.753421",
     "status": "completed"
    },
    "tags": []
   },
   "source": [
    "Once you have an answer, run the code cell below to see the solution.  Viewing the solution will give you credit for answering the problem."
   ]
  },
  {
   "cell_type": "code",
   "execution_count": 6,
   "id": "dc279c73",
   "metadata": {
    "execution": {
     "iopub.execute_input": "2022-08-23T10:50:25.776919Z",
     "iopub.status.busy": "2022-08-23T10:50:25.776475Z",
     "iopub.status.idle": "2022-08-23T10:50:25.786939Z",
     "shell.execute_reply": "2022-08-23T10:50:25.785645Z"
    },
    "papermill": {
     "duration": 0.02166,
     "end_time": "2022-08-23T10:50:25.789468",
     "exception": false,
     "start_time": "2022-08-23T10:50:25.767808",
     "status": "completed"
    },
    "tags": []
   },
   "outputs": [
    {
     "data": {
      "application/javascript": [
       "parent.postMessage({\"jupyterEvent\": \"custom.exercise_interaction\", \"data\": {\"outcomeType\": 1, \"valueTowardsCompletion\": 0.2, \"interactionType\": 1, \"questionType\": 4, \"questionId\": \"2_MultiplyBooleans\", \"learnToolsVersion\": \"0.3.4\", \"failureMessage\": \"\", \"exceptionClass\": \"\", \"trace\": \"\"}}, \"*\")"
      ],
      "text/plain": [
       "<IPython.core.display.Javascript object>"
      ]
     },
     "metadata": {},
     "output_type": "display_data"
    },
    {
     "data": {
      "text/markdown": [
       "<span style=\"color:#33cc33\">Correct:</span> \n",
       "\n",
       "When you multiple an integer or float by a boolean with value `True`, it just returns that same integer or float (and is equivalent to multiplying by 1).  If you multiply an integer or float by a boolean with value `False`, it always returns 0.  This is true for both positive and negative numbers.  If you multiply a string by a boolean with value `True`, it just returns that same string.  And if you multiply a string by a boolean with value `False`, it returns an empty string (or a string with length zero)."
      ],
      "text/plain": [
       "Correct: \n",
       "\n",
       "When you multiple an integer or float by a boolean with value `True`, it just returns that same integer or float (and is equivalent to multiplying by 1).  If you multiply an integer or float by a boolean with value `False`, it always returns 0.  This is true for both positive and negative numbers.  If you multiply a string by a boolean with value `True`, it just returns that same string.  And if you multiply a string by a boolean with value `False`, it returns an empty string (or a string with length zero)."
      ]
     },
     "metadata": {},
     "output_type": "display_data"
    }
   ],
   "source": [
    "# Check your answer (Run this code cell to receive credit!)\n",
    "q2.check()"
   ]
  },
  {
   "cell_type": "markdown",
   "id": "9607b3db",
   "metadata": {
    "papermill": {
     "duration": 0.007035,
     "end_time": "2022-08-23T10:50:25.804948",
     "exception": false,
     "start_time": "2022-08-23T10:50:25.797913",
     "status": "completed"
    },
    "tags": []
   },
   "source": [
    "# Question 3\n",
    "\n",
    "In this question, you will build off your work from the previous exercise to write a function that estimates the value of a house.\n",
    "\n",
    "Use the next code cell to create a function `get_expected_cost` that takes as input three variables:\n",
    "- `beds` - number of bedrooms (data type float)\n",
    "- `baths` - number of bathrooms (data type float)\n",
    "- `has_basement` - whether or not the house has a basement (data type boolean)\n",
    "\n",
    "It should return the expected cost of a house with those characteristics. Assume that:\n",
    "- the expected cost for a house with 0 bedrooms and 0 bathrooms, and no basement is 80000, \n",
    "- each bedroom adds 30000 to the expected cost,\n",
    "- each bathroom adds 10000 to the expected cost, and\n",
    "- a basement adds 40000 to the expected cost.\n",
    "\n",
    "For instance,\n",
    "- a house with 1 bedroom, 1 bathroom, and no basement has an expected cost of 80000 + 30000 + 10000 = 120000.  This value will be calculated with `get_expected_cost(1, 1, False)`.\n",
    "- a house with 2 bedrooms, 1 bathroom, and a basement has an expected cost of 80000 + 2*30000 + 10000 + 40000 = 190000.  This value will be calculated with `get_expected_cost(2, 1, True)`.\n",
    "\n",
    "Remember you can always get a hint by uncommenting `q3.hint()` in the code cell following the next!"
   ]
  },
  {
   "cell_type": "code",
   "execution_count": 7,
   "id": "475435fc",
   "metadata": {
    "execution": {
     "iopub.execute_input": "2022-08-23T10:50:25.822585Z",
     "iopub.status.busy": "2022-08-23T10:50:25.821681Z",
     "iopub.status.idle": "2022-08-23T10:50:25.832566Z",
     "shell.execute_reply": "2022-08-23T10:50:25.831671Z"
    },
    "papermill": {
     "duration": 0.022547,
     "end_time": "2022-08-23T10:50:25.834961",
     "exception": false,
     "start_time": "2022-08-23T10:50:25.812414",
     "status": "completed"
    },
    "tags": []
   },
   "outputs": [
    {
     "data": {
      "application/javascript": [
       "parent.postMessage({\"jupyterEvent\": \"custom.exercise_interaction\", \"data\": {\"outcomeType\": 1, \"valueTowardsCompletion\": 0.2, \"interactionType\": 1, \"questionType\": 2, \"questionId\": \"3_EstimateHouseValueBool\", \"learnToolsVersion\": \"0.3.4\", \"failureMessage\": \"\", \"exceptionClass\": \"\", \"trace\": \"\"}}, \"*\")"
      ],
      "text/plain": [
       "<IPython.core.display.Javascript object>"
      ]
     },
     "metadata": {},
     "output_type": "display_data"
    },
    {
     "data": {
      "text/markdown": [
       "<span style=\"color:#33cc33\">Correct</span>"
      ],
      "text/plain": [
       "Correct"
      ]
     },
     "metadata": {},
     "output_type": "display_data"
    }
   ],
   "source": [
    "# TODO: Complete the function\n",
    "def get_expected_cost(beds, baths, has_basement):\n",
    "    beds_value = beds * 30000\n",
    "    bathroom_value = baths * 10000\n",
    "    basement_value = has_basement * 40000\n",
    "    value = 80000 + beds_value + bathroom_value + basement_value\n",
    "    return value\n",
    "\n",
    "# Check your answer \n",
    "q3.check()"
   ]
  },
  {
   "cell_type": "code",
   "execution_count": 8,
   "id": "1e302ba6",
   "metadata": {
    "execution": {
     "iopub.execute_input": "2022-08-23T10:50:25.853698Z",
     "iopub.status.busy": "2022-08-23T10:50:25.853130Z",
     "iopub.status.idle": "2022-08-23T10:50:25.858088Z",
     "shell.execute_reply": "2022-08-23T10:50:25.857081Z"
    },
    "papermill": {
     "duration": 0.017623,
     "end_time": "2022-08-23T10:50:25.860656",
     "exception": false,
     "start_time": "2022-08-23T10:50:25.843033",
     "status": "completed"
    },
    "tags": []
   },
   "outputs": [],
   "source": [
    "# Uncomment to see a hint\n",
    "#q3.hint()\n",
    "\n",
    "# Uncomment to view the solution\n",
    "#q3.solution()"
   ]
  },
  {
   "cell_type": "markdown",
   "id": "a5c75aa0",
   "metadata": {
    "papermill": {
     "duration": 0.0079,
     "end_time": "2022-08-23T10:50:25.876425",
     "exception": false,
     "start_time": "2022-08-23T10:50:25.868525",
     "status": "completed"
    },
    "tags": []
   },
   "source": [
    "# Question 4\n",
    "\n",
    "We'll continue our study of boolean arithmetic.  For this question, your task is to provide a description of what happpens when you add booleans. \n",
    "\n",
    "Use the next code cell for your investigation.  Feel free to add or remove any lines of code - use it as your workspace!"
   ]
  },
  {
   "cell_type": "code",
   "execution_count": 9,
   "id": "ac16637c",
   "metadata": {
    "execution": {
     "iopub.execute_input": "2022-08-23T10:50:25.897871Z",
     "iopub.status.busy": "2022-08-23T10:50:25.897296Z",
     "iopub.status.idle": "2022-08-23T10:50:25.904268Z",
     "shell.execute_reply": "2022-08-23T10:50:25.902987Z"
    },
    "papermill": {
     "duration": 0.023781,
     "end_time": "2022-08-23T10:50:25.908790",
     "exception": false,
     "start_time": "2022-08-23T10:50:25.885009",
     "status": "completed"
    },
    "tags": []
   },
   "outputs": [
    {
     "name": "stdout",
     "output_type": "stream",
     "text": [
      "0\n",
      "1\n",
      "1\n",
      "2\n",
      "3\n"
     ]
    }
   ],
   "source": [
    "print(False + False)\n",
    "print(True + False)\n",
    "print(False + True)\n",
    "print(True + True)\n",
    "print(False + True + True + True)"
   ]
  },
  {
   "cell_type": "markdown",
   "id": "8d8fb579",
   "metadata": {
    "papermill": {
     "duration": 0.008305,
     "end_time": "2022-08-23T10:50:25.926064",
     "exception": false,
     "start_time": "2022-08-23T10:50:25.917759",
     "status": "completed"
    },
    "tags": []
   },
   "source": [
    "Once you have an answer, run the code cell below to see the solution.  Viewing the solution will give you credit for answering the problem."
   ]
  },
  {
   "cell_type": "code",
   "execution_count": 10,
   "id": "ece2bf55",
   "metadata": {
    "execution": {
     "iopub.execute_input": "2022-08-23T10:50:25.944939Z",
     "iopub.status.busy": "2022-08-23T10:50:25.944103Z",
     "iopub.status.idle": "2022-08-23T10:50:25.954830Z",
     "shell.execute_reply": "2022-08-23T10:50:25.952855Z"
    },
    "papermill": {
     "duration": 0.025279,
     "end_time": "2022-08-23T10:50:25.959524",
     "exception": false,
     "start_time": "2022-08-23T10:50:25.934245",
     "status": "completed"
    },
    "tags": []
   },
   "outputs": [
    {
     "data": {
      "application/javascript": [
       "parent.postMessage({\"jupyterEvent\": \"custom.exercise_interaction\", \"data\": {\"outcomeType\": 1, \"valueTowardsCompletion\": 0.2, \"interactionType\": 1, \"questionType\": 4, \"questionId\": \"4_AddingBooleans\", \"learnToolsVersion\": \"0.3.4\", \"failureMessage\": \"\", \"exceptionClass\": \"\", \"trace\": \"\"}}, \"*\")"
      ],
      "text/plain": [
       "<IPython.core.display.Javascript object>"
      ]
     },
     "metadata": {},
     "output_type": "display_data"
    },
    {
     "data": {
      "text/markdown": [
       "<span style=\"color:#33cc33\">Correct:</span> \n",
       "\n",
       "When you add booleans, adding `False` is equivalent to adding 0, and adding `True` is equivalent to adding 1."
      ],
      "text/plain": [
       "Correct: \n",
       "\n",
       "When you add booleans, adding `False` is equivalent to adding 0, and adding `True` is equivalent to adding 1."
      ]
     },
     "metadata": {},
     "output_type": "display_data"
    }
   ],
   "source": [
    "# Check your answer (Run this code cell to receive credit!)\n",
    "q4.check()"
   ]
  },
  {
   "cell_type": "markdown",
   "id": "9c6c689f",
   "metadata": {
    "papermill": {
     "duration": 0.008336,
     "end_time": "2022-08-23T10:50:25.978502",
     "exception": false,
     "start_time": "2022-08-23T10:50:25.970166",
     "status": "completed"
    },
    "tags": []
   },
   "source": [
    "# 🌶️ Question 5\n",
    "\n",
    "You own an online shop where you sell rings with custom engravings.  You offer both gold plated and solid gold rings.\n",
    "- Gold plated rings have a base cost of \\\\$50, and you charge \\\\$7 per engraved unit.  \n",
    "- Solid gold rings have a base cost of \\\\$100, and you charge \\\\$10 per engraved unit.\n",
    "- Spaces and punctuation are counted as engraved units.\n",
    "\n",
    "Write a function `cost_of_project()` that takes two arguments:\n",
    "- `engraving` - a Python string with the text of the engraving\n",
    "- `solid_gold` - a Boolean that indicates whether the ring is solid gold\n",
    "\n",
    "It should return the cost of the project.  This question should be fairly challenging, and you may need a hint."
   ]
  },
  {
   "cell_type": "code",
   "execution_count": 11,
   "id": "7d320768",
   "metadata": {
    "execution": {
     "iopub.execute_input": "2022-08-23T10:50:25.997858Z",
     "iopub.status.busy": "2022-08-23T10:50:25.996954Z",
     "iopub.status.idle": "2022-08-23T10:50:26.010324Z",
     "shell.execute_reply": "2022-08-23T10:50:26.009268Z"
    },
    "papermill": {
     "duration": 0.027432,
     "end_time": "2022-08-23T10:50:26.014725",
     "exception": false,
     "start_time": "2022-08-23T10:50:25.987293",
     "status": "completed"
    },
    "tags": []
   },
   "outputs": [
    {
     "data": {
      "application/javascript": [
       "parent.postMessage({\"jupyterEvent\": \"custom.exercise_interaction\", \"data\": {\"outcomeType\": 1, \"valueTowardsCompletion\": 0.2, \"interactionType\": 1, \"questionType\": 2, \"questionId\": \"5_CustomEngravings\", \"learnToolsVersion\": \"0.3.4\", \"failureMessage\": \"\", \"exceptionClass\": \"\", \"trace\": \"\"}}, \"*\")"
      ],
      "text/plain": [
       "<IPython.core.display.Javascript object>"
      ]
     },
     "metadata": {},
     "output_type": "display_data"
    },
    {
     "data": {
      "text/markdown": [
       "<span style=\"color:#33cc33\">Correct</span>"
      ],
      "text/plain": [
       "Correct"
      ]
     },
     "metadata": {},
     "output_type": "display_data"
    }
   ],
   "source": [
    "def cost_of_project(engraving, solid_gold):\n",
    "    if solid_gold == 1:\n",
    "        cost = 100 + (10 * len(engraving))\n",
    "    if solid_gold == 0:\n",
    "        cost = 50 + (7 * len(engraving))\n",
    "    return cost\n",
    "\n",
    "# Check your answer\n",
    "q5.check()"
   ]
  },
  {
   "cell_type": "code",
   "execution_count": 12,
   "id": "a397f72b",
   "metadata": {
    "execution": {
     "iopub.execute_input": "2022-08-23T10:50:26.036847Z",
     "iopub.status.busy": "2022-08-23T10:50:26.035925Z",
     "iopub.status.idle": "2022-08-23T10:50:26.044431Z",
     "shell.execute_reply": "2022-08-23T10:50:26.043388Z"
    },
    "papermill": {
     "duration": 0.021074,
     "end_time": "2022-08-23T10:50:26.046900",
     "exception": false,
     "start_time": "2022-08-23T10:50:26.025826",
     "status": "completed"
    },
    "tags": []
   },
   "outputs": [
    {
     "data": {
      "application/javascript": [
       "parent.postMessage({\"jupyterEvent\": \"custom.exercise_interaction\", \"data\": {\"interactionType\": 2, \"questionType\": 2, \"questionId\": \"5_CustomEngravings\", \"learnToolsVersion\": \"0.3.4\", \"valueTowardsCompletion\": 0.0, \"failureMessage\": \"\", \"exceptionClass\": \"\", \"trace\": \"\", \"outcomeType\": 4}}, \"*\")"
      ],
      "text/plain": [
       "<IPython.core.display.Javascript object>"
      ]
     },
     "metadata": {},
     "output_type": "display_data"
    },
    {
     "data": {
      "text/markdown": [
       "<span style=\"color:#3366cc\">Hint:</span> There are two options - either the project uses solid gold or does not.  With this in mind, you can structure your solution like this: `cost = solid_gold * ____ + (not_solid_gold) * ____`.  You need to figure out how to fill in the blanks. Also, remember that:\n",
       "- If `solid_gold = True`, then `(not solid_gold) = False`, and if `solid_gold = False`, then `(not solid_gold) = True`.\n",
       "- Multiplying an integer by `True` is equivalent to multiplying it by 1, and multiplying an integer by `False` is equivalent to multiplying it by 0."
      ],
      "text/plain": [
       "Hint: There are two options - either the project uses solid gold or does not.  With this in mind, you can structure your solution like this: `cost = solid_gold * ____ + (not_solid_gold) * ____`.  You need to figure out how to fill in the blanks. Also, remember that:\n",
       "- If `solid_gold = True`, then `(not solid_gold) = False`, and if `solid_gold = False`, then `(not solid_gold) = True`.\n",
       "- Multiplying an integer by `True` is equivalent to multiplying it by 1, and multiplying an integer by `False` is equivalent to multiplying it by 0."
      ]
     },
     "metadata": {},
     "output_type": "display_data"
    }
   ],
   "source": [
    "# Uncomment to see a hint\n",
    "q5.hint()\n",
    "\n",
    "# Uncomment to view the solution\n",
    "#q5.solution()"
   ]
  },
  {
   "cell_type": "markdown",
   "id": "1a9be0ad",
   "metadata": {
    "papermill": {
     "duration": 0.008504,
     "end_time": "2022-08-23T10:50:26.064423",
     "exception": false,
     "start_time": "2022-08-23T10:50:26.055919",
     "status": "completed"
    },
    "tags": []
   },
   "source": [
    "Run the next code cell to calculate the cost of engraving `Charlie+Denver` on a solid gold ring."
   ]
  },
  {
   "cell_type": "code",
   "execution_count": 13,
   "id": "e8591f8e",
   "metadata": {
    "execution": {
     "iopub.execute_input": "2022-08-23T10:50:26.084025Z",
     "iopub.status.busy": "2022-08-23T10:50:26.083562Z",
     "iopub.status.idle": "2022-08-23T10:50:26.090469Z",
     "shell.execute_reply": "2022-08-23T10:50:26.088868Z"
    },
    "papermill": {
     "duration": 0.020456,
     "end_time": "2022-08-23T10:50:26.093880",
     "exception": false,
     "start_time": "2022-08-23T10:50:26.073424",
     "status": "completed"
    },
    "tags": []
   },
   "outputs": [
    {
     "name": "stdout",
     "output_type": "stream",
     "text": [
      "240\n"
     ]
    }
   ],
   "source": [
    "project_one = cost_of_project(\"Charlie+Denver\", True)\n",
    "print(project_one)"
   ]
  },
  {
   "cell_type": "markdown",
   "id": "9620e1e4",
   "metadata": {
    "papermill": {
     "duration": 0.008773,
     "end_time": "2022-08-23T10:50:26.111937",
     "exception": false,
     "start_time": "2022-08-23T10:50:26.103164",
     "status": "completed"
    },
    "tags": []
   },
   "source": [
    "Use the next code cell to calculate the cost of engraving `08/10/2000` on a gold plated ring."
   ]
  },
  {
   "cell_type": "code",
   "execution_count": 14,
   "id": "7aa12488",
   "metadata": {
    "execution": {
     "iopub.execute_input": "2022-08-23T10:50:26.132085Z",
     "iopub.status.busy": "2022-08-23T10:50:26.131615Z",
     "iopub.status.idle": "2022-08-23T10:50:26.137123Z",
     "shell.execute_reply": "2022-08-23T10:50:26.136273Z"
    },
    "papermill": {
     "duration": 0.01905,
     "end_time": "2022-08-23T10:50:26.140087",
     "exception": false,
     "start_time": "2022-08-23T10:50:26.121037",
     "status": "completed"
    },
    "tags": []
   },
   "outputs": [
    {
     "name": "stdout",
     "output_type": "stream",
     "text": [
      "120\n"
     ]
    }
   ],
   "source": [
    "project_two = cost_of_project(\"08/10/2000\", False)\n",
    "print(project_two)"
   ]
  },
  {
   "cell_type": "markdown",
   "id": "102f2b03",
   "metadata": {
    "papermill": {
     "duration": 0.008721,
     "end_time": "2022-08-23T10:50:26.158778",
     "exception": false,
     "start_time": "2022-08-23T10:50:26.150057",
     "status": "completed"
    },
    "tags": []
   },
   "source": [
    "# Keep going\n",
    "\n",
    "Continue to the next lesson to **[learn about conditions and conditional statements](https://www.kaggle.com/alexisbcook/conditions-and-conditional-statements)**."
   ]
  },
  {
   "cell_type": "markdown",
   "id": "26e06262",
   "metadata": {
    "papermill": {
     "duration": 0.008274,
     "end_time": "2022-08-23T10:50:26.176008",
     "exception": false,
     "start_time": "2022-08-23T10:50:26.167734",
     "status": "completed"
    },
    "tags": []
   },
   "source": [
    "---\n",
    "\n",
    "\n",
    "\n",
    "\n",
    "*Have questions or comments? Visit the [course discussion forum](https://www.kaggle.com/learn/intro-to-programming/discussion) to chat with other learners.*"
   ]
  }
 ],
 "metadata": {
  "kernelspec": {
   "display_name": "Python 3",
   "language": "python",
   "name": "python3"
  },
  "language_info": {
   "codemirror_mode": {
    "name": "ipython",
    "version": 3
   },
   "file_extension": ".py",
   "mimetype": "text/x-python",
   "name": "python",
   "nbconvert_exporter": "python",
   "pygments_lexer": "ipython3",
   "version": "3.7.12"
  },
  "papermill": {
   "default_parameters": {},
   "duration": 11.506892,
   "end_time": "2022-08-23T10:50:26.908149",
   "environment_variables": {},
   "exception": null,
   "input_path": "__notebook__.ipynb",
   "output_path": "__notebook__.ipynb",
   "parameters": {},
   "start_time": "2022-08-23T10:50:15.401257",
   "version": "2.3.4"
  }
 },
 "nbformat": 4,
 "nbformat_minor": 5
}
