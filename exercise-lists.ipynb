{
 "cells": [
  {
   "cell_type": "markdown",
   "id": "d9031775",
   "metadata": {
    "papermill": {
     "duration": 0.006005,
     "end_time": "2022-08-24T09:07:17.806171",
     "exception": false,
     "start_time": "2022-08-24T09:07:17.800166",
     "status": "completed"
    },
    "tags": []
   },
   "source": [
    "**This notebook is an exercise in the [Python](https://www.kaggle.com/learn/python) course.  You can reference the tutorial at [this link](https://www.kaggle.com/colinmorris/lists).**\n",
    "\n",
    "---\n"
   ]
  },
  {
   "cell_type": "markdown",
   "id": "01ae634b",
   "metadata": {
    "papermill": {
     "duration": 0.004962,
     "end_time": "2022-08-24T09:07:17.816119",
     "exception": false,
     "start_time": "2022-08-24T09:07:17.811157",
     "status": "completed"
    },
    "tags": []
   },
   "source": [
    "Things get more interesting with lists. You'll apply your new knowledge to solve the questions below. Remember to run the following cell first."
   ]
  },
  {
   "cell_type": "code",
   "execution_count": 1,
   "id": "fc27dad2",
   "metadata": {
    "execution": {
     "iopub.execute_input": "2022-08-24T09:07:17.828849Z",
     "iopub.status.busy": "2022-08-24T09:07:17.827772Z",
     "iopub.status.idle": "2022-08-24T09:07:17.888170Z",
     "shell.execute_reply": "2022-08-24T09:07:17.886801Z"
    },
    "papermill": {
     "duration": 0.070426,
     "end_time": "2022-08-24T09:07:17.891538",
     "exception": false,
     "start_time": "2022-08-24T09:07:17.821112",
     "status": "completed"
    },
    "tags": []
   },
   "outputs": [
    {
     "name": "stdout",
     "output_type": "stream",
     "text": [
      "Setup complete.\n"
     ]
    }
   ],
   "source": [
    "from learntools.core import binder; binder.bind(globals())\n",
    "from learntools.python.ex4 import *\n",
    "print('Setup complete.')"
   ]
  },
  {
   "cell_type": "markdown",
   "id": "d6ad624c",
   "metadata": {
    "papermill": {
     "duration": 0.004651,
     "end_time": "2022-08-24T09:07:17.901774",
     "exception": false,
     "start_time": "2022-08-24T09:07:17.897123",
     "status": "completed"
    },
    "tags": []
   },
   "source": [
    "# 1.\n",
    "\n",
    "Complete the function below according to its docstring."
   ]
  },
  {
   "cell_type": "code",
   "execution_count": 2,
   "id": "34de0928",
   "metadata": {
    "execution": {
     "iopub.execute_input": "2022-08-24T09:07:17.915130Z",
     "iopub.status.busy": "2022-08-24T09:07:17.914359Z",
     "iopub.status.idle": "2022-08-24T09:07:17.927006Z",
     "shell.execute_reply": "2022-08-24T09:07:17.925893Z"
    },
    "papermill": {
     "duration": 0.021894,
     "end_time": "2022-08-24T09:07:17.929413",
     "exception": false,
     "start_time": "2022-08-24T09:07:17.907519",
     "status": "completed"
    },
    "tags": []
   },
   "outputs": [
    {
     "data": {
      "application/javascript": [
       "parent.postMessage({\"jupyterEvent\": \"custom.exercise_interaction\", \"data\": {\"outcomeType\": 1, \"valueTowardsCompletion\": 0.2, \"interactionType\": 1, \"questionType\": 2, \"questionId\": \"1_SelectSecondItem\", \"learnToolsVersion\": \"0.3.4\", \"failureMessage\": \"\", \"exceptionClass\": \"\", \"trace\": \"\"}}, \"*\")"
      ],
      "text/plain": [
       "<IPython.core.display.Javascript object>"
      ]
     },
     "metadata": {},
     "output_type": "display_data"
    },
    {
     "data": {
      "text/markdown": [
       "<span style=\"color:#33cc33\">Correct</span>"
      ],
      "text/plain": [
       "Correct"
      ]
     },
     "metadata": {},
     "output_type": "display_data"
    }
   ],
   "source": [
    "def select_second(L):\n",
    "    \"\"\"Return the second element of the given list. If the list has no second\n",
    "    element, return None.\n",
    "    \"\"\"\n",
    "    if len(L) > 2:\n",
    "        return L[1]\n",
    "    else:\n",
    "        return None\n",
    "    pass\n",
    "# Check your answer\n",
    "q1.check()"
   ]
  },
  {
   "cell_type": "code",
   "execution_count": 3,
   "id": "cc25840d",
   "metadata": {
    "collapsed": true,
    "execution": {
     "iopub.execute_input": "2022-08-24T09:07:17.941754Z",
     "iopub.status.busy": "2022-08-24T09:07:17.941046Z",
     "iopub.status.idle": "2022-08-24T09:07:17.945692Z",
     "shell.execute_reply": "2022-08-24T09:07:17.944795Z"
    },
    "jupyter": {
     "outputs_hidden": true
    },
    "papermill": {
     "duration": 0.013585,
     "end_time": "2022-08-24T09:07:17.948062",
     "exception": false,
     "start_time": "2022-08-24T09:07:17.934477",
     "status": "completed"
    },
    "tags": []
   },
   "outputs": [],
   "source": [
    "#q1.hint()\n",
    "#q1.solution()"
   ]
  },
  {
   "cell_type": "markdown",
   "id": "8a8c7c49",
   "metadata": {
    "papermill": {
     "duration": 0.005565,
     "end_time": "2022-08-24T09:07:17.959312",
     "exception": false,
     "start_time": "2022-08-24T09:07:17.953747",
     "status": "completed"
    },
    "tags": []
   },
   "source": [
    "# 2.\n",
    "\n",
    "You are analyzing sports teams.  Members of each team are stored in a list. The Coach is the first name in the list, the captain is the second name in the list, and other players are listed after that. \n",
    "These lists are stored in another list, which starts with the best team and proceeds through the list to the worst team last.  Complete the function below to select the **captain** of the worst team."
   ]
  },
  {
   "cell_type": "code",
   "execution_count": 4,
   "id": "2af1c384",
   "metadata": {
    "execution": {
     "iopub.execute_input": "2022-08-24T09:07:17.971895Z",
     "iopub.status.busy": "2022-08-24T09:07:17.971232Z",
     "iopub.status.idle": "2022-08-24T09:07:17.981466Z",
     "shell.execute_reply": "2022-08-24T09:07:17.980320Z"
    },
    "papermill": {
     "duration": 0.019109,
     "end_time": "2022-08-24T09:07:17.983677",
     "exception": false,
     "start_time": "2022-08-24T09:07:17.964568",
     "status": "completed"
    },
    "tags": []
   },
   "outputs": [
    {
     "data": {
      "application/javascript": [
       "parent.postMessage({\"jupyterEvent\": \"custom.exercise_interaction\", \"data\": {\"outcomeType\": 1, \"valueTowardsCompletion\": 0.2, \"interactionType\": 1, \"questionType\": 2, \"questionId\": \"2_LosingTeamCaptain\", \"learnToolsVersion\": \"0.3.4\", \"failureMessage\": \"\", \"exceptionClass\": \"\", \"trace\": \"\"}}, \"*\")"
      ],
      "text/plain": [
       "<IPython.core.display.Javascript object>"
      ]
     },
     "metadata": {},
     "output_type": "display_data"
    },
    {
     "data": {
      "text/markdown": [
       "<span style=\"color:#33cc33\">Correct</span>"
      ],
      "text/plain": [
       "Correct"
      ]
     },
     "metadata": {},
     "output_type": "display_data"
    }
   ],
   "source": [
    "def losing_team_captain(teams):\n",
    "    \"\"\"Given a list of teams, where each team is a list of names, return the 2nd player (captain)\n",
    "    from the last listed team\n",
    "    \"\"\"\n",
    "    return teams[-1][1]\n",
    "    pass\n",
    "\n",
    "# Check your answer\n",
    "q2.check()"
   ]
  },
  {
   "cell_type": "code",
   "execution_count": 5,
   "id": "c1b96797",
   "metadata": {
    "collapsed": true,
    "execution": {
     "iopub.execute_input": "2022-08-24T09:07:17.996666Z",
     "iopub.status.busy": "2022-08-24T09:07:17.995895Z",
     "iopub.status.idle": "2022-08-24T09:07:18.000574Z",
     "shell.execute_reply": "2022-08-24T09:07:17.999431Z"
    },
    "jupyter": {
     "outputs_hidden": true
    },
    "papermill": {
     "duration": 0.013863,
     "end_time": "2022-08-24T09:07:18.003000",
     "exception": false,
     "start_time": "2022-08-24T09:07:17.989137",
     "status": "completed"
    },
    "tags": []
   },
   "outputs": [],
   "source": [
    "#q2.hint()\n",
    "#q2.solution()"
   ]
  },
  {
   "cell_type": "markdown",
   "id": "0f27cb56",
   "metadata": {
    "papermill": {
     "duration": 0.00527,
     "end_time": "2022-08-24T09:07:18.014075",
     "exception": false,
     "start_time": "2022-08-24T09:07:18.008805",
     "status": "completed"
    },
    "tags": []
   },
   "source": [
    "# 3.\n",
    "\n",
    "The next iteration of Mario Kart will feature an extra-infuriating new item, the *Purple Shell*. When used, it warps the last place racer into first place and the first place racer into last place. Complete the function below to implement the Purple Shell's effect."
   ]
  },
  {
   "cell_type": "code",
   "execution_count": 6,
   "id": "846562f2",
   "metadata": {
    "execution": {
     "iopub.execute_input": "2022-08-24T09:07:18.027222Z",
     "iopub.status.busy": "2022-08-24T09:07:18.026469Z",
     "iopub.status.idle": "2022-08-24T09:07:18.035340Z",
     "shell.execute_reply": "2022-08-24T09:07:18.034422Z"
    },
    "papermill": {
     "duration": 0.017889,
     "end_time": "2022-08-24T09:07:18.037490",
     "exception": false,
     "start_time": "2022-08-24T09:07:18.019601",
     "status": "completed"
    },
    "tags": []
   },
   "outputs": [
    {
     "data": {
      "application/javascript": [
       "parent.postMessage({\"jupyterEvent\": \"custom.exercise_interaction\", \"data\": {\"outcomeType\": 1, \"valueTowardsCompletion\": 0.2, \"interactionType\": 1, \"questionType\": 2, \"questionId\": \"3_PurpleShell\", \"learnToolsVersion\": \"0.3.4\", \"failureMessage\": \"\", \"exceptionClass\": \"\", \"trace\": \"\"}}, \"*\")"
      ],
      "text/plain": [
       "<IPython.core.display.Javascript object>"
      ]
     },
     "metadata": {},
     "output_type": "display_data"
    },
    {
     "data": {
      "text/markdown": [
       "<span style=\"color:#33cc33\">Correct</span>"
      ],
      "text/plain": [
       "Correct"
      ]
     },
     "metadata": {},
     "output_type": "display_data"
    }
   ],
   "source": [
    "def purple_shell(racers):\n",
    "    \"\"\"Given a list of racers, set the first place racer (at the front of the list) to last\n",
    "    place and vice versa.\n",
    "    \n",
    "    >>> r = [\"Mario\", \"Bowser\", \"Luigi\"]\n",
    "    >>> purple_shell(r)\n",
    "    >>> r\n",
    "    [\"Luigi\", \"Bowser\", \"Mario\"]\n",
    "    \"\"\"\n",
    "    racers[0], racers[-1] = racers[-1], racers[0]\n",
    "    pass\n",
    "\n",
    "# Check your answer\n",
    "q3.check()"
   ]
  },
  {
   "cell_type": "code",
   "execution_count": 7,
   "id": "1e6093df",
   "metadata": {
    "collapsed": true,
    "execution": {
     "iopub.execute_input": "2022-08-24T09:07:18.051066Z",
     "iopub.status.busy": "2022-08-24T09:07:18.050631Z",
     "iopub.status.idle": "2022-08-24T09:07:18.055929Z",
     "shell.execute_reply": "2022-08-24T09:07:18.054446Z"
    },
    "jupyter": {
     "outputs_hidden": true
    },
    "papermill": {
     "duration": 0.015254,
     "end_time": "2022-08-24T09:07:18.058503",
     "exception": false,
     "start_time": "2022-08-24T09:07:18.043249",
     "status": "completed"
    },
    "tags": []
   },
   "outputs": [],
   "source": [
    "#q3.hint()\n",
    "#q3.solution()"
   ]
  },
  {
   "cell_type": "markdown",
   "id": "34a1f0bc",
   "metadata": {
    "papermill": {
     "duration": 0.005535,
     "end_time": "2022-08-24T09:07:18.069968",
     "exception": false,
     "start_time": "2022-08-24T09:07:18.064433",
     "status": "completed"
    },
    "tags": []
   },
   "source": [
    "# 4.\n",
    "\n",
    "What are the lengths of the following lists? Fill in the variable `lengths` with your predictions. (Try to make a prediction for each list *without* just calling `len()` on it.)"
   ]
  },
  {
   "cell_type": "code",
   "execution_count": 8,
   "id": "18737a33",
   "metadata": {
    "execution": {
     "iopub.execute_input": "2022-08-24T09:07:18.084127Z",
     "iopub.status.busy": "2022-08-24T09:07:18.083316Z",
     "iopub.status.idle": "2022-08-24T09:07:18.092470Z",
     "shell.execute_reply": "2022-08-24T09:07:18.091592Z"
    },
    "papermill": {
     "duration": 0.018551,
     "end_time": "2022-08-24T09:07:18.094631",
     "exception": false,
     "start_time": "2022-08-24T09:07:18.076080",
     "status": "completed"
    },
    "tags": []
   },
   "outputs": [
    {
     "data": {
      "application/javascript": [
       "parent.postMessage({\"jupyterEvent\": \"custom.exercise_interaction\", \"data\": {\"outcomeType\": 1, \"valueTowardsCompletion\": 0.2, \"interactionType\": 1, \"questionType\": 1, \"questionId\": \"4_UnderstandLen\", \"learnToolsVersion\": \"0.3.4\", \"failureMessage\": \"\", \"exceptionClass\": \"\", \"trace\": \"\"}}, \"*\")"
      ],
      "text/plain": [
       "<IPython.core.display.Javascript object>"
      ]
     },
     "metadata": {},
     "output_type": "display_data"
    },
    {
     "data": {
      "text/markdown": [
       "<span style=\"color:#33cc33\">Correct:</span> \n",
       "\n",
       "\n",
       "- a: There are three items in this list. Nothing tricky yet.\n",
       "- b: The list `[2, 3]` counts as a single item. It has one item before it. So we have 2 items in the list\n",
       "- c: The empty list has 0 items\n",
       "- d: The expression is the same as the list `[2, 3]`, which has length 2."
      ],
      "text/plain": [
       "Correct: \n",
       "\n",
       "\n",
       "- a: There are three items in this list. Nothing tricky yet.\n",
       "- b: The list `[2, 3]` counts as a single item. It has one item before it. So we have 2 items in the list\n",
       "- c: The empty list has 0 items\n",
       "- d: The expression is the same as the list `[2, 3]`, which has length 2."
      ]
     },
     "metadata": {},
     "output_type": "display_data"
    }
   ],
   "source": [
    "a = [1, 2, 3]\n",
    "b = [1, [2, 3]]\n",
    "c = []\n",
    "d = [1, 2, 3][1:]\n",
    "\n",
    "# Put your predictions in the list below. Lengths should contain 4 numbers, the\n",
    "# first being the length of a, the second being the length of b and so on.\n",
    "lengths = [3, 2, 0, 2]\n",
    "\n",
    "# Check your answer\n",
    "q4.check()"
   ]
  },
  {
   "cell_type": "code",
   "execution_count": 9,
   "id": "936dfdc4",
   "metadata": {
    "collapsed": true,
    "execution": {
     "iopub.execute_input": "2022-08-24T09:07:18.108744Z",
     "iopub.status.busy": "2022-08-24T09:07:18.108043Z",
     "iopub.status.idle": "2022-08-24T09:07:18.112886Z",
     "shell.execute_reply": "2022-08-24T09:07:18.111647Z"
    },
    "jupyter": {
     "outputs_hidden": true
    },
    "papermill": {
     "duration": 0.014781,
     "end_time": "2022-08-24T09:07:18.115492",
     "exception": false,
     "start_time": "2022-08-24T09:07:18.100711",
     "status": "completed"
    },
    "tags": []
   },
   "outputs": [],
   "source": [
    "# line below provides some explanation\n",
    "#q4.solution()"
   ]
  },
  {
   "cell_type": "markdown",
   "id": "2c98d764",
   "metadata": {
    "papermill": {
     "duration": 0.005701,
     "end_time": "2022-08-24T09:07:18.127508",
     "exception": false,
     "start_time": "2022-08-24T09:07:18.121807",
     "status": "completed"
    },
    "tags": []
   },
   "source": [
    "# 5. <span title=\"A bit spicy\" style=\"color: darkgreen \">🌶️</span>\n",
    "\n",
    "We're using lists to record people who attended our party and what order they arrived in. For example, the following list represents a party with 7 guests, in which Adela showed up first and Ford was the last to arrive:\n",
    "\n",
    "    party_attendees = ['Adela', 'Fleda', 'Owen', 'May', 'Mona', 'Gilbert', 'Ford']\n",
    "\n",
    "A guest is considered 'fashionably late' if they arrived after at least half of the party's guests. However, they must not be the very last guest (that's taking it too far). In the above example, Mona and Gilbert are the only guests who were fashionably late.\n",
    "\n",
    "Complete the function below which takes a list of party attendees as well as a person, and tells us whether that person is fashionably late."
   ]
  },
  {
   "cell_type": "code",
   "execution_count": 10,
   "id": "9d4c1f38",
   "metadata": {
    "execution": {
     "iopub.execute_input": "2022-08-24T09:07:18.141804Z",
     "iopub.status.busy": "2022-08-24T09:07:18.141395Z",
     "iopub.status.idle": "2022-08-24T09:07:18.152038Z",
     "shell.execute_reply": "2022-08-24T09:07:18.150924Z"
    },
    "papermill": {
     "duration": 0.020236,
     "end_time": "2022-08-24T09:07:18.154308",
     "exception": false,
     "start_time": "2022-08-24T09:07:18.134072",
     "status": "completed"
    },
    "tags": []
   },
   "outputs": [
    {
     "data": {
      "application/javascript": [
       "parent.postMessage({\"jupyterEvent\": \"custom.exercise_interaction\", \"data\": {\"outcomeType\": 1, \"valueTowardsCompletion\": 0.2, \"interactionType\": 1, \"questionType\": 2, \"questionId\": \"5_FashionablyLate\", \"learnToolsVersion\": \"0.3.4\", \"failureMessage\": \"\", \"exceptionClass\": \"\", \"trace\": \"\"}}, \"*\")"
      ],
      "text/plain": [
       "<IPython.core.display.Javascript object>"
      ]
     },
     "metadata": {},
     "output_type": "display_data"
    },
    {
     "data": {
      "text/markdown": [
       "<span style=\"color:#33cc33\">Correct</span>"
      ],
      "text/plain": [
       "Correct"
      ]
     },
     "metadata": {},
     "output_type": "display_data"
    }
   ],
   "source": [
    "def fashionably_late(arrivals, name):\n",
    "    \"\"\"Given an ordered list of arrivals to the party and a name, return whether the guest with that\n",
    "    name was fashionably late.\n",
    "    \"\"\"\n",
    "    total_guests = len(arrivals) - 1\n",
    "    half_guests = total_guests / 2\n",
    "    n = arrivals.index(name)\n",
    "    if n > half_guests and n <total_guests:\n",
    "        return True\n",
    "    else:\n",
    "        return False\n",
    "    # Check your answer\n",
    "q5.check()"
   ]
  },
  {
   "cell_type": "code",
   "execution_count": 11,
   "id": "5ccdf14a",
   "metadata": {
    "collapsed": true,
    "execution": {
     "iopub.execute_input": "2022-08-24T09:07:18.168788Z",
     "iopub.status.busy": "2022-08-24T09:07:18.168113Z",
     "iopub.status.idle": "2022-08-24T09:07:18.171908Z",
     "shell.execute_reply": "2022-08-24T09:07:18.171044Z"
    },
    "jupyter": {
     "outputs_hidden": true
    },
    "papermill": {
     "duration": 0.013828,
     "end_time": "2022-08-24T09:07:18.174248",
     "exception": false,
     "start_time": "2022-08-24T09:07:18.160420",
     "status": "completed"
    },
    "tags": []
   },
   "outputs": [],
   "source": [
    "#q5.hint()\n",
    "#q5.solution()"
   ]
  },
  {
   "cell_type": "markdown",
   "id": "3bcbca4d",
   "metadata": {
    "papermill": {
     "duration": 0.007038,
     "end_time": "2022-08-24T09:07:18.187762",
     "exception": false,
     "start_time": "2022-08-24T09:07:18.180724",
     "status": "completed"
    },
    "tags": []
   },
   "source": [
    "# Keep Going\n",
    "\n",
    "That's it for lists and tuples! Now you have the baseline knowledge to **[learn about loops](https://www.kaggle.com/colinmorris/loops-and-list-comprehensions)**, which is where lists and tuples get really interesting. "
   ]
  },
  {
   "cell_type": "markdown",
   "id": "d366be25",
   "metadata": {
    "papermill": {
     "duration": 0.006021,
     "end_time": "2022-08-24T09:07:18.200463",
     "exception": false,
     "start_time": "2022-08-24T09:07:18.194442",
     "status": "completed"
    },
    "tags": []
   },
   "source": [
    "---\n",
    "\n",
    "\n",
    "\n",
    "\n",
    "*Have questions or comments? Visit the [course discussion forum](https://www.kaggle.com/learn/python/discussion) to chat with other learners.*"
   ]
  }
 ],
 "metadata": {
  "kernelspec": {
   "display_name": "Python 3",
   "language": "python",
   "name": "python3"
  },
  "language_info": {
   "codemirror_mode": {
    "name": "ipython",
    "version": 3
   },
   "file_extension": ".py",
   "mimetype": "text/x-python",
   "name": "python",
   "nbconvert_exporter": "python",
   "pygments_lexer": "ipython3",
   "version": "3.7.12"
  },
  "papermill": {
   "default_parameters": {},
   "duration": 10.511734,
   "end_time": "2022-08-24T09:07:18.931679",
   "environment_variables": {},
   "exception": null,
   "input_path": "__notebook__.ipynb",
   "output_path": "__notebook__.ipynb",
   "parameters": {},
   "start_time": "2022-08-24T09:07:08.419945",
   "version": "2.3.4"
  }
 },
 "nbformat": 4,
 "nbformat_minor": 5
}
